{
 "cells": [
  {
   "cell_type": "code",
   "execution_count": 1,
   "id": "df92afc5",
   "metadata": {
    "ExecuteTime": {
     "end_time": "2022-11-03T03:50:35.486635Z",
     "start_time": "2022-11-03T03:50:34.543568Z"
    }
   },
   "outputs": [],
   "source": [
    "# Our code imports\n",
    "from Models import Model\n",
    "from Metrics import accuracy, fmeasure, roc_auc, confusion_matrix\n",
    "from Processing import Processor\n",
    "from Pipelines import ModelGridBuilder, AnalysisPipeline\n",
    "\n",
    "# Standard lib imports\n",
    "import pandas as pd\n",
    "import numpy as np\n",
    "from sklearn.decomposition import PCA\n",
    "\n",
    "import altair as alt"
   ]
  },
  {
   "cell_type": "code",
   "execution_count": 2,
   "id": "8a96596e",
   "metadata": {
    "ExecuteTime": {
     "end_time": "2022-11-03T03:50:36.685178Z",
     "start_time": "2022-11-03T03:50:36.149782Z"
    }
   },
   "outputs": [],
   "source": [
    "credit = pd.read_csv('cleaned_training_data.csv')\n",
    "credit_X = credit.drop(columns='TARGET')\n",
    "credit_Y = credit['TARGET']"
   ]
  },
  {
   "cell_type": "markdown",
   "id": "bd23782e",
   "metadata": {},
   "source": [
    "# Random Split"
   ]
  },
  {
   "cell_type": "markdown",
   "id": "d9f2438e",
   "metadata": {},
   "source": [
    "## Tune Logistic Regression w/ Lasso lambda"
   ]
  },
  {
   "cell_type": "code",
   "execution_count": null,
   "id": "bf6d671e",
   "metadata": {
    "ExecuteTime": {
     "start_time": "2022-11-03T03:50:38.074Z"
    }
   },
   "outputs": [],
   "source": [
    "lambdas = np.linspace(0, 100, num=26)\n",
    "\n",
    "logisticSearchBuilder = ModelGridBuilder('Logistic Lasso', parameters=lambdas)\n",
    "models = logisticSearchBuilder.get_models()\n",
    "\n",
    "random_logistic_analysis = AnalysisPipeline(credit_X, credit_Y, models, roc_auc)\n",
    "random_logistic_analysis.process_data(pca=True, split_type='random', train_prop=.8, dev_prop=.1)\n",
    "random_logistic_analysis.fit_models(max_iterations=8000)\n",
    "# choose best model based on confusion matrix\n",
    "best_model_specs, best_model_conf_matrix = random_logistic_analysis.test_models()\n",
    "display(best_model_conf_matrix)\n",
    "best_model_specs"
   ]
  },
  {
   "cell_type": "code",
   "execution_count": null,
   "id": "f9c6ac19",
   "metadata": {
    "ExecuteTime": {
     "start_time": "2022-11-03T03:50:46.972Z"
    }
   },
   "outputs": [],
   "source": [
    "random_logistic_analysis.dev_set_analysis"
   ]
  },
  {
   "cell_type": "markdown",
   "id": "d43536d7",
   "metadata": {},
   "source": [
    "## Tune SVC"
   ]
  },
  {
   "cell_type": "code",
   "execution_count": null,
   "id": "9bfbe127",
   "metadata": {},
   "outputs": [],
   "source": [
    "lambdas = np.linspace(0, 100, num=26)\n",
    "svcSearchBuilder = ModelGridBuilder('SVC', parameters=lambdas)\n",
    "models = svcSearchBuilder.get_models()\n",
    "\n",
    "random_svc_analysis = AnalysisPipeline(credit_X, credit_Y, models, roc_auc)\n",
    "random_svc_analysis.process_data(pca=True, split_type='random', train_prop=.8, dev_prop=.1)\n",
    "random_svc_analysis.fit_models(max_iterations=8000)\n",
    "# choose best model based on confusion matrix\n",
    "best_model_specs, best_model_conf_matrix = random_svc_analysis.test_models()\n",
    "display(best_model_conf_matrix)\n",
    "best_model_specs"
   ]
  },
  {
   "cell_type": "code",
   "execution_count": null,
   "id": "bcb134a8",
   "metadata": {},
   "outputs": [],
   "source": [
    "random_svc_analysis.dev_set_analysis"
   ]
  },
  {
   "cell_type": "markdown",
   "id": "c826713c",
   "metadata": {},
   "source": [
    "## Test LDA"
   ]
  },
  {
   "cell_type": "code",
   "execution_count": null,
   "id": "91cdc02a",
   "metadata": {},
   "outputs": [],
   "source": [
    "ldaSearchBuilder = ModelGridBuilder('LDA')\n",
    "models = ldaSearchBuilder.get_models()\n",
    "\n",
    "random_lda_analysis = AnalysisPipeline(credit_X, credit_Y, models, roc_auc)\n",
    "random_lda_analysis.process_data(pca=True, split_type='random', train_prop=.8, dev_prop=.1)\n",
    "random_lda_analysis.fit_models()\n",
    "# choose best model based on confusion matrix\n",
    "best_model_specs, best_model_conf_matrix = random_lda_analysis.test_models()\n",
    "display(best_model_conf_matrix)\n",
    "best_model_specs"
   ]
  },
  {
   "cell_type": "code",
   "execution_count": null,
   "id": "a7958f52",
   "metadata": {},
   "outputs": [],
   "source": [
    "random_lda_analysis"
   ]
  },
  {
   "cell_type": "markdown",
   "id": "5166ba0f",
   "metadata": {},
   "source": [
    "# Stratified Split"
   ]
  },
  {
   "cell_type": "code",
   "execution_count": null,
   "id": "ee9fe7e8",
   "metadata": {},
   "outputs": [],
   "source": [
    "lambdas = np.linspace(0, 100, num=26)\n",
    "\n",
    "logisticSearchBuilder = ModelGridBuilder('Logistic Lasso', parameters=lambdas)\n",
    "models = logisticSearchBuilder.get_models()\n",
    "\n",
    "random_logistic_analysis = AnalysisPipeline(credit_X, credit_Y, models, roc_auc)\n",
    "random_logistic_analysis.process_data(pca=True, split_type='stratified_class', train_prop=.8, dev_prop=.1)\n",
    "random_logistic_analysis.fit_models(max_iterations=8000)\n",
    "# choose best model based on confusion matrix\n",
    "best_model_specs, best_model_conf_matrix = random_logistic_analysis.test_models()\n",
    "display(best_model_conf_matrix)\n",
    "best_model_specs"
   ]
  }
 ],
 "metadata": {
  "kernelspec": {
   "display_name": "Python 3",
   "language": "python",
   "name": "python3"
  },
  "language_info": {
   "codemirror_mode": {
    "name": "ipython",
    "version": 3
   },
   "file_extension": ".py",
   "mimetype": "text/x-python",
   "name": "python",
   "nbconvert_exporter": "python",
   "pygments_lexer": "ipython3",
   "version": "3.8.8"
  }
 },
 "nbformat": 4,
 "nbformat_minor": 5
}
