{
 "cells": [
  {
   "cell_type": "code",
   "execution_count": 1,
   "id": "9ea5461c",
   "metadata": {
    "ExecuteTime": {
     "end_time": "2022-11-03T05:19:56.385277Z",
     "start_time": "2022-11-03T05:19:55.494302Z"
    }
   },
   "outputs": [],
   "source": [
    "# Our code imports\n",
    "from Models import Model\n",
    "from Metrics import accuracy, fmeasure, roc_auc, confusion_matrix\n",
    "from Processing import Processor\n",
    "from Pipelines import ModelGridBuilder, AnalysisPipeline\n",
    "\n",
    "# Standard lib imports\n",
    "import pandas as pd\n",
    "import numpy as np\n",
    "from sklearn.decomposition import PCA\n",
    "\n",
    "import altair as alt"
   ]
  },
  {
   "cell_type": "code",
   "execution_count": 2,
   "id": "994931ba",
   "metadata": {
    "ExecuteTime": {
     "end_time": "2022-11-03T05:19:56.996573Z",
     "start_time": "2022-11-03T05:19:56.387319Z"
    }
   },
   "outputs": [],
   "source": [
    "credit = pd.read_csv('cleaned_training_data.csv')\n",
    "credit_X = credit.drop(columns='TARGET')\n",
    "credit_Y = credit['TARGET']"
   ]
  },
  {
   "cell_type": "code",
   "execution_count": 3,
   "id": "bb65cea6",
   "metadata": {
    "ExecuteTime": {
     "end_time": "2022-11-03T05:19:57.002623Z",
     "start_time": "2022-11-03T05:19:56.999051Z"
    }
   },
   "outputs": [],
   "source": [
    "def plot_parameter_tuning(dev_set_analysis):\n",
    "    lambdas = [x[0][1] for x in dev_set_analysis]\n",
    "    roc = [x[1] for x in dev_set_analysis]\n",
    "    data = pd.DataFrame({\n",
    "        'lambda': lambdas,\n",
    "        'ROC-AUC': roc\n",
    "    })\n",
    "    display(alt.Chart(data).mark_line().encode(\n",
    "        x='lambda',\n",
    "        y='ROC-AUC'\n",
    "    ))"
   ]
  },
  {
   "cell_type": "markdown",
   "id": "cc6e8904",
   "metadata": {},
   "source": [
    "# Random Split"
   ]
  },
  {
   "cell_type": "markdown",
   "id": "299e4b75",
   "metadata": {},
   "source": [
    "## Tune Logistic Regression w/ Lasso lambda"
   ]
  },
  {
   "cell_type": "code",
   "execution_count": 4,
   "id": "4db56b25",
   "metadata": {
    "ExecuteTime": {
     "end_time": "2022-11-03T05:45:12.486588Z",
     "start_time": "2022-11-03T05:19:57.005045Z"
    }
   },
   "outputs": [
    {
     "data": {
      "text/html": [
       "<div>\n",
       "<style scoped>\n",
       "    .dataframe tbody tr th:only-of-type {\n",
       "        vertical-align: middle;\n",
       "    }\n",
       "\n",
       "    .dataframe tbody tr th {\n",
       "        vertical-align: top;\n",
       "    }\n",
       "\n",
       "    .dataframe thead th {\n",
       "        text-align: right;\n",
       "    }\n",
       "</style>\n",
       "<table border=\"1\" class=\"dataframe\">\n",
       "  <thead>\n",
       "    <tr style=\"text-align: right;\">\n",
       "      <th></th>\n",
       "      <th>True 1</th>\n",
       "      <th>True 0</th>\n",
       "    </tr>\n",
       "  </thead>\n",
       "  <tbody>\n",
       "    <tr>\n",
       "      <th>Pred 1</th>\n",
       "      <td>692</td>\n",
       "      <td>4887</td>\n",
       "    </tr>\n",
       "    <tr>\n",
       "      <th>Pred 0</th>\n",
       "      <td>191</td>\n",
       "      <td>6141</td>\n",
       "    </tr>\n",
       "  </tbody>\n",
       "</table>\n",
       "</div>"
      ],
      "text/plain": [
       "        True 1  True 0\n",
       "Pred 1     692    4887\n",
       "Pred 0     191    6141"
      ]
     },
     "metadata": {},
     "output_type": "display_data"
    },
    {
     "data": {
      "text/plain": [
       "('Logistic Lasso', 44.0)"
      ]
     },
     "execution_count": 4,
     "metadata": {},
     "output_type": "execute_result"
    }
   ],
   "source": [
    "lambdas = np.linspace(0, 100, num=26)\n",
    "\n",
    "logisticSearchBuilder = ModelGridBuilder('Logistic Lasso', parameters=lambdas)\n",
    "models = logisticSearchBuilder.get_models()\n",
    "\n",
    "random_logistic_analysis = AnalysisPipeline(credit_X, credit_Y, models, roc_auc)\n",
    "random_logistic_analysis.process_data(pca=True, split_type='random', train_prop=.8, dev_prop=.1)\n",
    "random_logistic_analysis.fit_models(max_iterations=8000)\n",
    "# choose best model based on confusion matrix\n",
    "best_model_specs, best_model_conf_matrix = random_logistic_analysis.test_models()\n",
    "display(best_model_conf_matrix)\n",
    "best_model_specs"
   ]
  },
  {
   "cell_type": "code",
   "execution_count": 5,
   "id": "5c1ac185",
   "metadata": {
    "ExecuteTime": {
     "end_time": "2022-11-03T05:45:12.506003Z",
     "start_time": "2022-11-03T05:45:12.488431Z"
    }
   },
   "outputs": [
    {
     "data": {
      "text/html": [
       "\n",
       "<div id=\"altair-viz-11c7069e817849178b3549a12a1a64f2\"></div>\n",
       "<script type=\"text/javascript\">\n",
       "  (function(spec, embedOpt){\n",
       "    let outputDiv = document.currentScript.previousElementSibling;\n",
       "    if (outputDiv.id !== \"altair-viz-11c7069e817849178b3549a12a1a64f2\") {\n",
       "      outputDiv = document.getElementById(\"altair-viz-11c7069e817849178b3549a12a1a64f2\");\n",
       "    }\n",
       "    const paths = {\n",
       "      \"vega\": \"https://cdn.jsdelivr.net/npm//vega@5?noext\",\n",
       "      \"vega-lib\": \"https://cdn.jsdelivr.net/npm//vega-lib?noext\",\n",
       "      \"vega-lite\": \"https://cdn.jsdelivr.net/npm//vega-lite@4.8.1?noext\",\n",
       "      \"vega-embed\": \"https://cdn.jsdelivr.net/npm//vega-embed@6?noext\",\n",
       "    };\n",
       "\n",
       "    function loadScript(lib) {\n",
       "      return new Promise(function(resolve, reject) {\n",
       "        var s = document.createElement('script');\n",
       "        s.src = paths[lib];\n",
       "        s.async = true;\n",
       "        s.onload = () => resolve(paths[lib]);\n",
       "        s.onerror = () => reject(`Error loading script: ${paths[lib]}`);\n",
       "        document.getElementsByTagName(\"head\")[0].appendChild(s);\n",
       "      });\n",
       "    }\n",
       "\n",
       "    function showError(err) {\n",
       "      outputDiv.innerHTML = `<div class=\"error\" style=\"color:red;\">${err}</div>`;\n",
       "      throw err;\n",
       "    }\n",
       "\n",
       "    function displayChart(vegaEmbed) {\n",
       "      vegaEmbed(outputDiv, spec, embedOpt)\n",
       "        .catch(err => showError(`Javascript Error: ${err.message}<br>This usually means there's a typo in your chart specification. See the javascript console for the full traceback.`));\n",
       "    }\n",
       "\n",
       "    if(typeof define === \"function\" && define.amd) {\n",
       "      requirejs.config({paths});\n",
       "      require([\"vega-embed\"], displayChart, err => showError(`Error loading script: ${err.message}`));\n",
       "    } else if (typeof vegaEmbed === \"function\") {\n",
       "      displayChart(vegaEmbed);\n",
       "    } else {\n",
       "      loadScript(\"vega\")\n",
       "        .then(() => loadScript(\"vega-lite\"))\n",
       "        .then(() => loadScript(\"vega-embed\"))\n",
       "        .catch(showError)\n",
       "        .then(() => displayChart(vegaEmbed));\n",
       "    }\n",
       "  })({\"config\": {\"view\": {\"continuousWidth\": 400, \"continuousHeight\": 300}}, \"data\": {\"name\": \"data-7dafff9342810b751289a90cae337775\"}, \"mark\": \"line\", \"encoding\": {\"x\": {\"type\": \"quantitative\", \"field\": \"lambda\"}, \"y\": {\"type\": \"quantitative\", \"field\": \"ROC-AUC\"}}, \"$schema\": \"https://vega.github.io/schema/vega-lite/v4.8.1.json\", \"datasets\": {\"data-7dafff9342810b751289a90cae337775\": [{\"lambda\": 0.0, \"ROC-AUC\": 0.6690726190226792}, {\"lambda\": 4.0, \"ROC-AUC\": 0.6692993147063935}, {\"lambda\": 8.0, \"ROC-AUC\": 0.669163297296165}, {\"lambda\": 12.0, \"ROC-AUC\": 0.668687724154022}, {\"lambda\": 16.0, \"ROC-AUC\": 0.668687724154022}, {\"lambda\": 20.0, \"ROC-AUC\": 0.6690504372479646}, {\"lambda\": 24.0, \"ROC-AUC\": 0.6693446538431362}, {\"lambda\": 28.0, \"ROC-AUC\": 0.6695260103901075}, {\"lambda\": 32.0, \"ROC-AUC\": 0.6692086364329077}, {\"lambda\": 36.0, \"ROC-AUC\": 0.6692086364329077}, {\"lambda\": 40.0, \"ROC-AUC\": 0.6699109052587648}, {\"lambda\": 44.0, \"ROC-AUC\": 0.6702736183527075}, {\"lambda\": 48.0, \"ROC-AUC\": 0.6683481684221075}, {\"lambda\": 52.0, \"ROC-AUC\": 0.6691179581594221}, {\"lambda\": 56.0, \"ROC-AUC\": 0.6683703501968221}, {\"lambda\": 60.0, \"ROC-AUC\": 0.668415689333565}, {\"lambda\": 64.0, \"ROC-AUC\": 0.6680983153763651}, {\"lambda\": 68.0, \"ROC-AUC\": 0.6673507074137652}, {\"lambda\": 72.0, \"ROC-AUC\": 0.6673507074137652}, {\"lambda\": 76.0, \"ROC-AUC\": 0.667124011730051}, {\"lambda\": 80.0, \"ROC-AUC\": 0.6667844559981368}, {\"lambda\": 84.0, \"ROC-AUC\": 0.6660821871722797}, {\"lambda\": 88.0, \"ROC-AUC\": 0.6658101523518227}, {\"lambda\": 92.0, \"ROC-AUC\": 0.6655612748933939}, {\"lambda\": 96.0, \"ROC-AUC\": 0.6656519531668796}, {\"lambda\": 100.0, \"ROC-AUC\": 0.6657426314403653}]}}, {\"mode\": \"vega-lite\"});\n",
       "</script>"
      ],
      "text/plain": [
       "alt.Chart(...)"
      ]
     },
     "metadata": {},
     "output_type": "display_data"
    }
   ],
   "source": [
    "plot_parameter_tuning(random_logistic_analysis.dev_set_analysis)"
   ]
  },
  {
   "cell_type": "markdown",
   "id": "c54242ae",
   "metadata": {},
   "source": [
    "## Tune SVC"
   ]
  },
  {
   "cell_type": "code",
   "execution_count": 6,
   "id": "95ffe5f8",
   "metadata": {
    "ExecuteTime": {
     "end_time": "2022-11-03T05:47:21.069843Z",
     "start_time": "2022-11-03T05:45:12.507835Z"
    }
   },
   "outputs": [
    {
     "data": {
      "text/html": [
       "<div>\n",
       "<style scoped>\n",
       "    .dataframe tbody tr th:only-of-type {\n",
       "        vertical-align: middle;\n",
       "    }\n",
       "\n",
       "    .dataframe tbody tr th {\n",
       "        vertical-align: top;\n",
       "    }\n",
       "\n",
       "    .dataframe thead th {\n",
       "        text-align: right;\n",
       "    }\n",
       "</style>\n",
       "<table border=\"1\" class=\"dataframe\">\n",
       "  <thead>\n",
       "    <tr style=\"text-align: right;\">\n",
       "      <th></th>\n",
       "      <th>True 1</th>\n",
       "      <th>True 0</th>\n",
       "    </tr>\n",
       "  </thead>\n",
       "  <tbody>\n",
       "    <tr>\n",
       "      <th>Pred 1</th>\n",
       "      <td>691</td>\n",
       "      <td>4904</td>\n",
       "    </tr>\n",
       "    <tr>\n",
       "      <th>Pred 0</th>\n",
       "      <td>192</td>\n",
       "      <td>6124</td>\n",
       "    </tr>\n",
       "  </tbody>\n",
       "</table>\n",
       "</div>"
      ],
      "text/plain": [
       "        True 1  True 0\n",
       "Pred 1     691    4904\n",
       "Pred 0     192    6124"
      ]
     },
     "metadata": {},
     "output_type": "display_data"
    },
    {
     "data": {
      "text/plain": [
       "('SVC', 0.0)"
      ]
     },
     "execution_count": 6,
     "metadata": {},
     "output_type": "execute_result"
    }
   ],
   "source": [
    "lambdas = np.linspace(0, 10, num=21)\n",
    "svcSearchBuilder = ModelGridBuilder('SVC', parameters=lambdas)\n",
    "models = svcSearchBuilder.get_models()\n",
    "\n",
    "random_svc_analysis = AnalysisPipeline(credit_X, credit_Y, models, roc_auc)\n",
    "random_svc_analysis.process_data(pca=True, split_type='random', train_prop=.8, dev_prop=.1)\n",
    "random_svc_analysis.fit_models(max_iterations=8000)\n",
    "# choose best model based on confusion matrix\n",
    "best_model_specs, best_model_conf_matrix = random_svc_analysis.test_models()\n",
    "display(best_model_conf_matrix)\n",
    "best_model_specs"
   ]
  },
  {
   "cell_type": "code",
   "execution_count": 7,
   "id": "f08bc418",
   "metadata": {
    "ExecuteTime": {
     "end_time": "2022-11-03T05:47:21.092429Z",
     "start_time": "2022-11-03T05:47:21.072532Z"
    }
   },
   "outputs": [
    {
     "data": {
      "text/html": [
       "\n",
       "<div id=\"altair-viz-04545d5f771441da9954ea1cc61f9032\"></div>\n",
       "<script type=\"text/javascript\">\n",
       "  (function(spec, embedOpt){\n",
       "    let outputDiv = document.currentScript.previousElementSibling;\n",
       "    if (outputDiv.id !== \"altair-viz-04545d5f771441da9954ea1cc61f9032\") {\n",
       "      outputDiv = document.getElementById(\"altair-viz-04545d5f771441da9954ea1cc61f9032\");\n",
       "    }\n",
       "    const paths = {\n",
       "      \"vega\": \"https://cdn.jsdelivr.net/npm//vega@5?noext\",\n",
       "      \"vega-lib\": \"https://cdn.jsdelivr.net/npm//vega-lib?noext\",\n",
       "      \"vega-lite\": \"https://cdn.jsdelivr.net/npm//vega-lite@4.8.1?noext\",\n",
       "      \"vega-embed\": \"https://cdn.jsdelivr.net/npm//vega-embed@6?noext\",\n",
       "    };\n",
       "\n",
       "    function loadScript(lib) {\n",
       "      return new Promise(function(resolve, reject) {\n",
       "        var s = document.createElement('script');\n",
       "        s.src = paths[lib];\n",
       "        s.async = true;\n",
       "        s.onload = () => resolve(paths[lib]);\n",
       "        s.onerror = () => reject(`Error loading script: ${paths[lib]}`);\n",
       "        document.getElementsByTagName(\"head\")[0].appendChild(s);\n",
       "      });\n",
       "    }\n",
       "\n",
       "    function showError(err) {\n",
       "      outputDiv.innerHTML = `<div class=\"error\" style=\"color:red;\">${err}</div>`;\n",
       "      throw err;\n",
       "    }\n",
       "\n",
       "    function displayChart(vegaEmbed) {\n",
       "      vegaEmbed(outputDiv, spec, embedOpt)\n",
       "        .catch(err => showError(`Javascript Error: ${err.message}<br>This usually means there's a typo in your chart specification. See the javascript console for the full traceback.`));\n",
       "    }\n",
       "\n",
       "    if(typeof define === \"function\" && define.amd) {\n",
       "      requirejs.config({paths});\n",
       "      require([\"vega-embed\"], displayChart, err => showError(`Error loading script: ${err.message}`));\n",
       "    } else if (typeof vegaEmbed === \"function\") {\n",
       "      displayChart(vegaEmbed);\n",
       "    } else {\n",
       "      loadScript(\"vega\")\n",
       "        .then(() => loadScript(\"vega-lite\"))\n",
       "        .then(() => loadScript(\"vega-embed\"))\n",
       "        .catch(showError)\n",
       "        .then(() => displayChart(vegaEmbed));\n",
       "    }\n",
       "  })({\"config\": {\"view\": {\"continuousWidth\": 400, \"continuousHeight\": 300}}, \"data\": {\"name\": \"data-803037ff50395c66e79f01c729ca7799\"}, \"mark\": \"line\", \"encoding\": {\"x\": {\"type\": \"quantitative\", \"field\": \"lambda\"}, \"y\": {\"type\": \"quantitative\", \"field\": \"ROC-AUC\"}}, \"$schema\": \"https://vega.github.io/schema/vega-lite/v4.8.1.json\", \"datasets\": {\"data-803037ff50395c66e79f01c729ca7799\": [{\"lambda\": 0.0, \"ROC-AUC\": 0.6689366016124507}, {\"lambda\": 0.5, \"ROC-AUC\": 0.6681214727383934}, {\"lambda\": 1.0, \"ROC-AUC\": 0.6681214727383934}, {\"lambda\": 1.5, \"ROC-AUC\": 0.6681214727383934}, {\"lambda\": 2.0, \"ROC-AUC\": 0.6681214727383934}, {\"lambda\": 2.5, \"ROC-AUC\": 0.6681214727383934}, {\"lambda\": 3.0, \"ROC-AUC\": 0.6681214727383934}, {\"lambda\": 3.5, \"ROC-AUC\": 0.6681214727383934}, {\"lambda\": 4.0, \"ROC-AUC\": 0.6681214727383934}, {\"lambda\": 4.5, \"ROC-AUC\": 0.6681214727383934}, {\"lambda\": 5.0, \"ROC-AUC\": 0.6681214727383934}, {\"lambda\": 5.5, \"ROC-AUC\": 0.6681214727383934}, {\"lambda\": 6.0, \"ROC-AUC\": 0.6681214727383934}, {\"lambda\": 6.5, \"ROC-AUC\": 0.6681214727383934}, {\"lambda\": 7.0, \"ROC-AUC\": 0.6681214727383934}, {\"lambda\": 7.5, \"ROC-AUC\": 0.6681214727383934}, {\"lambda\": 8.0, \"ROC-AUC\": 0.6681214727383934}, {\"lambda\": 8.5, \"ROC-AUC\": 0.6681214727383934}, {\"lambda\": 9.0, \"ROC-AUC\": 0.6681214727383934}, {\"lambda\": 9.5, \"ROC-AUC\": 0.6681214727383934}, {\"lambda\": 10.0, \"ROC-AUC\": 0.6681214727383934}]}}, {\"mode\": \"vega-lite\"});\n",
       "</script>"
      ],
      "text/plain": [
       "alt.Chart(...)"
      ]
     },
     "metadata": {},
     "output_type": "display_data"
    }
   ],
   "source": [
    "plot_parameter_tuning(random_svc_analysis.dev_set_analysis)"
   ]
  },
  {
   "cell_type": "markdown",
   "id": "d0bd36d9",
   "metadata": {},
   "source": [
    "## Test LDA"
   ]
  },
  {
   "cell_type": "code",
   "execution_count": 8,
   "id": "7823c054",
   "metadata": {
    "ExecuteTime": {
     "end_time": "2022-11-03T05:47:23.340573Z",
     "start_time": "2022-11-03T05:47:21.098262Z"
    }
   },
   "outputs": [
    {
     "data": {
      "text/html": [
       "<div>\n",
       "<style scoped>\n",
       "    .dataframe tbody tr th:only-of-type {\n",
       "        vertical-align: middle;\n",
       "    }\n",
       "\n",
       "    .dataframe tbody tr th {\n",
       "        vertical-align: top;\n",
       "    }\n",
       "\n",
       "    .dataframe thead th {\n",
       "        text-align: right;\n",
       "    }\n",
       "</style>\n",
       "<table border=\"1\" class=\"dataframe\">\n",
       "  <thead>\n",
       "    <tr style=\"text-align: right;\">\n",
       "      <th></th>\n",
       "      <th>True 1</th>\n",
       "      <th>True 0</th>\n",
       "    </tr>\n",
       "  </thead>\n",
       "  <tbody>\n",
       "    <tr>\n",
       "      <th>Pred 1</th>\n",
       "      <td>8</td>\n",
       "      <td>4</td>\n",
       "    </tr>\n",
       "    <tr>\n",
       "      <th>Pred 0</th>\n",
       "      <td>875</td>\n",
       "      <td>11024</td>\n",
       "    </tr>\n",
       "  </tbody>\n",
       "</table>\n",
       "</div>"
      ],
      "text/plain": [
       "        True 1  True 0\n",
       "Pred 1       8       4\n",
       "Pred 0     875   11024"
      ]
     },
     "metadata": {},
     "output_type": "display_data"
    },
    {
     "data": {
      "text/plain": [
       "['LDA']"
      ]
     },
     "execution_count": 8,
     "metadata": {},
     "output_type": "execute_result"
    }
   ],
   "source": [
    "ldaSearchBuilder = ModelGridBuilder('LDA')\n",
    "models = ldaSearchBuilder.get_models()\n",
    "\n",
    "random_lda_analysis = AnalysisPipeline(credit_X, credit_Y, models, roc_auc)\n",
    "random_lda_analysis.process_data(pca=True, split_type='random', train_prop=.8, dev_prop=.1)\n",
    "random_lda_analysis.fit_models()\n",
    "# choose best model based on confusion matrix\n",
    "best_model_specs, best_model_conf_matrix = random_lda_analysis.test_models()\n",
    "display(best_model_conf_matrix)\n",
    "best_model_specs"
   ]
  },
  {
   "cell_type": "markdown",
   "id": "60dca9d7",
   "metadata": {},
   "source": [
    "# Stratified Split"
   ]
  },
  {
   "cell_type": "markdown",
   "id": "cb5d6e23",
   "metadata": {},
   "source": [
    "## Tune Logistic w/ Lasso"
   ]
  },
  {
   "cell_type": "code",
   "execution_count": null,
   "id": "d4bb7976",
   "metadata": {
    "ExecuteTime": {
     "start_time": "2022-11-03T05:51:41.723Z"
    }
   },
   "outputs": [],
   "source": [
    "lambdas = np.linspace(0, 50, num=26)\n",
    "\n",
    "logisticSearchBuilder = ModelGridBuilder('Logistic Lasso', parameters=lambdas)\n",
    "models = logisticSearchBuilder.get_models()\n",
    "\n",
    "stratified_logistic_analysis = AnalysisPipeline(credit_X, credit_Y, models, roc_auc)\n",
    "stratified_logistic_analysis.process_data(pca=True, split_type='stratified_class', train_prop=.8, dev_prop=.1)\n",
    "stratified_logistic_analysis.fit_models(max_iterations=8000)\n",
    "# choose best model based on confusion matrix\n",
    "best_model_specs, best_model_conf_matrix = stratified_logistic_analysis.test_models()\n",
    "display(best_model_conf_matrix)\n",
    "best_model_specs"
   ]
  },
  {
   "cell_type": "code",
   "execution_count": null,
   "id": "e4e6f036",
   "metadata": {
    "ExecuteTime": {
     "start_time": "2022-11-03T05:51:43.460Z"
    }
   },
   "outputs": [],
   "source": [
    "plot_parameter_tuning(stratified_logistic_analysis.dev_set_analysis)"
   ]
  },
  {
   "cell_type": "markdown",
   "id": "571f36e9",
   "metadata": {},
   "source": [
    "## Tune SVC"
   ]
  },
  {
   "cell_type": "code",
   "execution_count": null,
   "id": "e1591392",
   "metadata": {
    "ExecuteTime": {
     "start_time": "2022-11-03T05:51:45.216Z"
    }
   },
   "outputs": [],
   "source": [
    "lambdas = np.linspace(0, 10, num=21)\n",
    "svcSearchBuilder = ModelGridBuilder('SVC', parameters=lambdas)\n",
    "models = svcSearchBuilder.get_models()\n",
    "\n",
    "stratified_svc_analysis = AnalysisPipeline(credit_X, credit_Y, models, roc_auc)\n",
    "stratified_svc_analysis.process_data(pca=True, split_type='stratified_class', train_prop=.8, dev_prop=.1)\n",
    "stratified_svc_analysis.fit_models(max_iterations=8000)\n",
    "# choose best model based on confusion matrix\n",
    "best_model_specs, best_model_conf_matrix = stratified_svc_analysis.test_models()\n",
    "display(best_model_conf_matrix)\n",
    "best_model_specs"
   ]
  },
  {
   "cell_type": "code",
   "execution_count": null,
   "id": "71c6c09d",
   "metadata": {
    "ExecuteTime": {
     "start_time": "2022-11-03T05:51:46.177Z"
    }
   },
   "outputs": [],
   "source": [
    "plot_parameter_tuning(stratified_svc_analysis.dev_set_analysis)"
   ]
  },
  {
   "cell_type": "markdown",
   "id": "7a2bed57",
   "metadata": {},
   "source": [
    "## LDA"
   ]
  },
  {
   "cell_type": "code",
   "execution_count": null,
   "id": "620d711d",
   "metadata": {
    "ExecuteTime": {
     "start_time": "2022-11-03T05:51:47.897Z"
    }
   },
   "outputs": [],
   "source": [
    "ldaSearchBuilder = ModelGridBuilder('LDA')\n",
    "models = ldaSearchBuilder.get_models()\n",
    "\n",
    "stratified_lda_analysis = AnalysisPipeline(credit_X, credit_Y, models, roc_auc)\n",
    "stratified_lda_analysis.process_data(pca=True, split_type='stratified_class', train_prop=.8, dev_prop=.1)\n",
    "stratified_lda_analysis.fit_models()\n",
    "# choose best model based on confusion matrix\n",
    "best_model_specs, best_model_conf_matrix = stratified_lda_analysis.test_models()\n",
    "display(best_model_conf_matrix)\n",
    "best_model_specs"
   ]
  },
  {
   "cell_type": "markdown",
   "id": "8e050de1",
   "metadata": {},
   "source": [
    "# Set training class ratio split"
   ]
  },
  {
   "cell_type": "markdown",
   "id": "b95a5584",
   "metadata": {},
   "source": [
    "## Tune Logistic Lasso"
   ]
  },
  {
   "cell_type": "code",
   "execution_count": null,
   "id": "27b61495",
   "metadata": {
    "ExecuteTime": {
     "start_time": "2022-11-03T05:51:58.150Z"
    }
   },
   "outputs": [],
   "source": [
    "lambdas = np.linspace(0, 50, num=26)\n",
    "\n",
    "logisticSearchBuilder = ModelGridBuilder('Logistic Lasso', parameters=lambdas)\n",
    "models = logisticSearchBuilder.get_models()\n",
    "\n",
    "ratio_logistic_analysis = AnalysisPipeline(credit_X, credit_Y, models, roc_auc)\n",
    "ratio_logistic_analysis.process_data(pca=True, split_type='set_class_prop_undersample', dev_prop=.05, class_prop_1_0=1)\n",
    "ratio_logistic_analysis.fit_models(max_iterations=8000)\n",
    "# choose best model based on confusion matrix\n",
    "best_model_specs, best_model_conf_matrix = ratio_logistic_analysis.test_models()\n",
    "display(best_model_conf_matrix)\n",
    "best_model_specs"
   ]
  },
  {
   "cell_type": "code",
   "execution_count": null,
   "id": "3e67a857",
   "metadata": {
    "ExecuteTime": {
     "start_time": "2022-11-03T05:52:00.293Z"
    }
   },
   "outputs": [],
   "source": [
    "plot_parameter_tuning(ratio_logistic_analysis.dev_set_analysis)"
   ]
  },
  {
   "cell_type": "markdown",
   "id": "c07b7f50",
   "metadata": {},
   "source": [
    "## Tune SVC "
   ]
  },
  {
   "cell_type": "code",
   "execution_count": null,
   "id": "91120cc4",
   "metadata": {
    "ExecuteTime": {
     "start_time": "2022-11-03T05:52:01.390Z"
    }
   },
   "outputs": [],
   "source": [
    "lambdas = np.linspace(0, 10, num=21)\n",
    "svcSearchBuilder = ModelGridBuilder('SVC', parameters=lambdas)\n",
    "models = svcSearchBuilder.get_models()\n",
    "\n",
    "ratio_svc_analysis = AnalysisPipeline(credit_X, credit_Y, models, roc_auc)\n",
    "ratio_svc_analysis.process_data(pca=True, split_type='set_class_prop_undersample', dev_prop=.05, class_prop_1_0=1)\n",
    "ratio_svc_analysis.fit_models(max_iterations=8000)\n",
    "# choose best model based on confusion matrix\n",
    "best_model_specs, best_model_conf_matrix = ratio_svc_analysis.test_models()\n",
    "display(best_model_conf_matrix)\n",
    "best_model_specs"
   ]
  },
  {
   "cell_type": "code",
   "execution_count": null,
   "id": "b5bb2267",
   "metadata": {
    "ExecuteTime": {
     "start_time": "2022-11-03T05:52:02.180Z"
    }
   },
   "outputs": [],
   "source": [
    "plot_parameter_tuning(ratio_svc_analysis.dev_set_analysis)"
   ]
  },
  {
   "cell_type": "markdown",
   "id": "f39aef6c",
   "metadata": {},
   "source": [
    "## LDA"
   ]
  },
  {
   "cell_type": "code",
   "execution_count": null,
   "id": "322c07d0",
   "metadata": {
    "ExecuteTime": {
     "start_time": "2022-11-03T05:52:04.087Z"
    }
   },
   "outputs": [],
   "source": [
    "ldaSearchBuilder = ModelGridBuilder('LDA')\n",
    "models = ldaSearchBuilder.get_models()\n",
    "\n",
    "ratio_lda_analysis = AnalysisPipeline(credit_X, credit_Y, models, roc_auc)\n",
    "ratio_lda_analysis.process_data(pca=True, split_type='set_class_prop_undersample', dev_prop=.05, class_prop_1_0=1)\n",
    "ratio_lda_analysis.fit_models()\n",
    "# choose best model based on confusion matrix\n",
    "best_model_specs, best_model_conf_matrix = ratio_lda_analysis.test_models()\n",
    "display(best_model_conf_matrix)\n",
    "best_model_specs"
   ]
  },
  {
   "cell_type": "markdown",
   "id": "67918535",
   "metadata": {},
   "source": []
  }
 ],
 "metadata": {
  "kernelspec": {
   "display_name": "Python 3",
   "language": "python",
   "name": "python3"
  },
  "language_info": {
   "codemirror_mode": {
    "name": "ipython",
    "version": 3
   },
   "file_extension": ".py",
   "mimetype": "text/x-python",
   "name": "python",
   "nbconvert_exporter": "python",
   "pygments_lexer": "ipython3",
   "version": "3.8.8"
  }
 },
 "nbformat": 4,
 "nbformat_minor": 5
}
