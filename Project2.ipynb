{
 "cells": [
  {
   "cell_type": "code",
   "execution_count": 57,
   "id": "e629e48f",
   "metadata": {
    "ExecuteTime": {
     "end_time": "2022-11-03T06:52:56.875053Z",
     "start_time": "2022-11-03T06:52:56.871969Z"
    }
   },
   "outputs": [],
   "source": [
    "# Our code imports\n",
    "from Models import Model\n",
    "from Metrics import accuracy, fmeasure, roc_auc, net_revenue, confusion_matrix\n",
    "from Processing import Processor\n",
    "from Pipelines import ModelGridBuilder, AnalysisPipeline\n",
    "\n",
    "# Standard lib imports\n",
    "import pandas as pd\n",
    "import numpy as np\n",
    "from sklearn.decomposition import PCA\n",
    "\n",
    "import altair as alt"
   ]
  },
  {
   "cell_type": "code",
   "execution_count": 23,
   "id": "503ac030",
   "metadata": {
    "ExecuteTime": {
     "end_time": "2022-11-03T06:27:06.510698Z",
     "start_time": "2022-11-03T06:27:05.910412Z"
    }
   },
   "outputs": [],
   "source": [
    "credit = pd.read_csv('cleaned_training_data.csv')\n",
    "credit_X = credit.drop(columns='TARGET')\n",
    "credit_Y = credit['TARGET']"
   ]
  },
  {
   "cell_type": "code",
   "execution_count": 136,
   "id": "4e5b967d",
   "metadata": {
    "ExecuteTime": {
     "end_time": "2022-11-03T17:16:12.977531Z",
     "start_time": "2022-11-03T17:16:12.973279Z"
    }
   },
   "outputs": [],
   "source": [
    "def plot_parameter_tuning(dev_set_analysis):\n",
    "    lambdas = [x[0][1] for x in dev_set_analysis]\n",
    "    roc = [x[1] for x in dev_set_analysis]\n",
    "    data = pd.DataFrame({\n",
    "        'lambda': lambdas,\n",
    "        'ROC-AUC': roc\n",
    "    })\n",
    "    display(alt.Chart(data).mark_line().encode(\n",
    "        alt.X('lambda'),\n",
    "        alt.Y('ROC-AUC', scale=alt.Scale(domain=(.65,.7)))\n",
    "    ))\n",
    "    \n",
    "def get_original_dataframes_from_splits(processor, orignal_df):\n",
    "    train = original_df.loc[processor.train_indices]\n",
    "    dev = original_df.loc[processor.dev_indices]\n",
    "    test = original_df.loc[processor.test_indices]\n",
    "    return train, dev, test\n"
   ]
  },
  {
   "cell_type": "markdown",
   "id": "f5dbbd9d",
   "metadata": {},
   "source": [
    "# Random Split"
   ]
  },
  {
   "cell_type": "markdown",
   "id": "d607bc0c",
   "metadata": {},
   "source": [
    "## Tune Logistic Regression w/ Lasso lambda"
   ]
  },
  {
   "cell_type": "code",
   "execution_count": 4,
   "id": "36efb435",
   "metadata": {
    "ExecuteTime": {
     "end_time": "2022-11-03T05:45:12.486588Z",
     "start_time": "2022-11-03T05:19:57.005045Z"
    }
   },
   "outputs": [
    {
     "data": {
      "text/html": [
       "<div>\n",
       "<style scoped>\n",
       "    .dataframe tbody tr th:only-of-type {\n",
       "        vertical-align: middle;\n",
       "    }\n",
       "\n",
       "    .dataframe tbody tr th {\n",
       "        vertical-align: top;\n",
       "    }\n",
       "\n",
       "    .dataframe thead th {\n",
       "        text-align: right;\n",
       "    }\n",
       "</style>\n",
       "<table border=\"1\" class=\"dataframe\">\n",
       "  <thead>\n",
       "    <tr style=\"text-align: right;\">\n",
       "      <th></th>\n",
       "      <th>True 1</th>\n",
       "      <th>True 0</th>\n",
       "    </tr>\n",
       "  </thead>\n",
       "  <tbody>\n",
       "    <tr>\n",
       "      <th>Pred 1</th>\n",
       "      <td>692</td>\n",
       "      <td>4887</td>\n",
       "    </tr>\n",
       "    <tr>\n",
       "      <th>Pred 0</th>\n",
       "      <td>191</td>\n",
       "      <td>6141</td>\n",
       "    </tr>\n",
       "  </tbody>\n",
       "</table>\n",
       "</div>"
      ],
      "text/plain": [
       "        True 1  True 0\n",
       "Pred 1     692    4887\n",
       "Pred 0     191    6141"
      ]
     },
     "metadata": {},
     "output_type": "display_data"
    },
    {
     "data": {
      "text/plain": [
       "('Logistic Lasso', 44.0)"
      ]
     },
     "execution_count": 4,
     "metadata": {},
     "output_type": "execute_result"
    }
   ],
   "source": [
    "lambdas = np.linspace(0, 100, num=26)\n",
    "\n",
    "logisticSearchBuilder = ModelGridBuilder('Logistic Lasso', parameters=lambdas)\n",
    "models = logisticSearchBuilder.get_models()\n",
    "\n",
    "random_logistic_analysis = AnalysisPipeline(credit_X, credit_Y, models, roc_auc)\n",
    "random_logistic_analysis.process_data(pca=True, split_type='random', train_prop=.8, dev_prop=.1)\n",
    "random_logistic_analysis.fit_models(max_iterations=8000)\n",
    "# choose best model based on confusion matrix\n",
    "best_model_specs, best_model_conf_matrix = random_logistic_analysis.test_models()\n",
    "display(best_model_conf_matrix)\n",
    "best_model_specs"
   ]
  },
  {
   "cell_type": "code",
   "execution_count": 133,
   "id": "930c226a",
   "metadata": {
    "ExecuteTime": {
     "end_time": "2022-11-03T17:14:07.499894Z",
     "start_time": "2022-11-03T17:14:07.490839Z"
    }
   },
   "outputs": [
    {
     "data": {
      "text/html": [
       "\n",
       "<div id=\"altair-viz-cbd7336d3f394f51a11595d415875c6d\"></div>\n",
       "<script type=\"text/javascript\">\n",
       "  (function(spec, embedOpt){\n",
       "    let outputDiv = document.currentScript.previousElementSibling;\n",
       "    if (outputDiv.id !== \"altair-viz-cbd7336d3f394f51a11595d415875c6d\") {\n",
       "      outputDiv = document.getElementById(\"altair-viz-cbd7336d3f394f51a11595d415875c6d\");\n",
       "    }\n",
       "    const paths = {\n",
       "      \"vega\": \"https://cdn.jsdelivr.net/npm//vega@5?noext\",\n",
       "      \"vega-lib\": \"https://cdn.jsdelivr.net/npm//vega-lib?noext\",\n",
       "      \"vega-lite\": \"https://cdn.jsdelivr.net/npm//vega-lite@4.8.1?noext\",\n",
       "      \"vega-embed\": \"https://cdn.jsdelivr.net/npm//vega-embed@6?noext\",\n",
       "    };\n",
       "\n",
       "    function loadScript(lib) {\n",
       "      return new Promise(function(resolve, reject) {\n",
       "        var s = document.createElement('script');\n",
       "        s.src = paths[lib];\n",
       "        s.async = true;\n",
       "        s.onload = () => resolve(paths[lib]);\n",
       "        s.onerror = () => reject(`Error loading script: ${paths[lib]}`);\n",
       "        document.getElementsByTagName(\"head\")[0].appendChild(s);\n",
       "      });\n",
       "    }\n",
       "\n",
       "    function showError(err) {\n",
       "      outputDiv.innerHTML = `<div class=\"error\" style=\"color:red;\">${err}</div>`;\n",
       "      throw err;\n",
       "    }\n",
       "\n",
       "    function displayChart(vegaEmbed) {\n",
       "      vegaEmbed(outputDiv, spec, embedOpt)\n",
       "        .catch(err => showError(`Javascript Error: ${err.message}<br>This usually means there's a typo in your chart specification. See the javascript console for the full traceback.`));\n",
       "    }\n",
       "\n",
       "    if(typeof define === \"function\" && define.amd) {\n",
       "      requirejs.config({paths});\n",
       "      require([\"vega-embed\"], displayChart, err => showError(`Error loading script: ${err.message}`));\n",
       "    } else if (typeof vegaEmbed === \"function\") {\n",
       "      displayChart(vegaEmbed);\n",
       "    } else {\n",
       "      loadScript(\"vega\")\n",
       "        .then(() => loadScript(\"vega-lite\"))\n",
       "        .then(() => loadScript(\"vega-embed\"))\n",
       "        .catch(showError)\n",
       "        .then(() => displayChart(vegaEmbed));\n",
       "    }\n",
       "  })({\"config\": {\"view\": {\"continuousWidth\": 400, \"continuousHeight\": 300}}, \"data\": {\"name\": \"data-7dafff9342810b751289a90cae337775\"}, \"mark\": \"line\", \"encoding\": {\"x\": {\"type\": \"quantitative\", \"field\": \"lambda\"}, \"y\": {\"type\": \"quantitative\", \"field\": \"ROC-AUC\", \"scale\": {\"domain\": [0.63, 0.7]}}}, \"$schema\": \"https://vega.github.io/schema/vega-lite/v4.8.1.json\", \"datasets\": {\"data-7dafff9342810b751289a90cae337775\": [{\"lambda\": 0.0, \"ROC-AUC\": 0.6690726190226792}, {\"lambda\": 4.0, \"ROC-AUC\": 0.6692993147063935}, {\"lambda\": 8.0, \"ROC-AUC\": 0.669163297296165}, {\"lambda\": 12.0, \"ROC-AUC\": 0.668687724154022}, {\"lambda\": 16.0, \"ROC-AUC\": 0.668687724154022}, {\"lambda\": 20.0, \"ROC-AUC\": 0.6690504372479646}, {\"lambda\": 24.0, \"ROC-AUC\": 0.6693446538431362}, {\"lambda\": 28.0, \"ROC-AUC\": 0.6695260103901075}, {\"lambda\": 32.0, \"ROC-AUC\": 0.6692086364329077}, {\"lambda\": 36.0, \"ROC-AUC\": 0.6692086364329077}, {\"lambda\": 40.0, \"ROC-AUC\": 0.6699109052587648}, {\"lambda\": 44.0, \"ROC-AUC\": 0.6702736183527075}, {\"lambda\": 48.0, \"ROC-AUC\": 0.6683481684221075}, {\"lambda\": 52.0, \"ROC-AUC\": 0.6691179581594221}, {\"lambda\": 56.0, \"ROC-AUC\": 0.6683703501968221}, {\"lambda\": 60.0, \"ROC-AUC\": 0.668415689333565}, {\"lambda\": 64.0, \"ROC-AUC\": 0.6680983153763651}, {\"lambda\": 68.0, \"ROC-AUC\": 0.6673507074137652}, {\"lambda\": 72.0, \"ROC-AUC\": 0.6673507074137652}, {\"lambda\": 76.0, \"ROC-AUC\": 0.667124011730051}, {\"lambda\": 80.0, \"ROC-AUC\": 0.6667844559981368}, {\"lambda\": 84.0, \"ROC-AUC\": 0.6660821871722797}, {\"lambda\": 88.0, \"ROC-AUC\": 0.6658101523518227}, {\"lambda\": 92.0, \"ROC-AUC\": 0.6655612748933939}, {\"lambda\": 96.0, \"ROC-AUC\": 0.6656519531668796}, {\"lambda\": 100.0, \"ROC-AUC\": 0.6657426314403653}]}}, {\"mode\": \"vega-lite\"});\n",
       "</script>"
      ],
      "text/plain": [
       "alt.Chart(...)"
      ]
     },
     "metadata": {},
     "output_type": "display_data"
    }
   ],
   "source": [
    "plot_parameter_tuning(random_logistic_analysis.dev_set_analysis)"
   ]
  },
  {
   "cell_type": "code",
   "execution_count": 35,
   "id": "c7d792da",
   "metadata": {
    "ExecuteTime": {
     "end_time": "2022-11-03T06:37:30.098388Z",
     "start_time": "2022-11-03T06:37:30.093968Z"
    }
   },
   "outputs": [
    {
     "data": {
      "text/plain": [
       "(('Logistic Lasso', 44.0), 0.6702736183527075)"
      ]
     },
     "execution_count": 35,
     "metadata": {},
     "output_type": "execute_result"
    }
   ],
   "source": [
    "random_logistic_analysis.dev_set_analysis[11]"
   ]
  },
  {
   "cell_type": "markdown",
   "id": "e83decfa",
   "metadata": {},
   "source": [
    "## Tune SVC"
   ]
  },
  {
   "cell_type": "code",
   "execution_count": 6,
   "id": "d1d13987",
   "metadata": {
    "ExecuteTime": {
     "end_time": "2022-11-03T05:47:21.069843Z",
     "start_time": "2022-11-03T05:45:12.507835Z"
    }
   },
   "outputs": [
    {
     "data": {
      "text/html": [
       "<div>\n",
       "<style scoped>\n",
       "    .dataframe tbody tr th:only-of-type {\n",
       "        vertical-align: middle;\n",
       "    }\n",
       "\n",
       "    .dataframe tbody tr th {\n",
       "        vertical-align: top;\n",
       "    }\n",
       "\n",
       "    .dataframe thead th {\n",
       "        text-align: right;\n",
       "    }\n",
       "</style>\n",
       "<table border=\"1\" class=\"dataframe\">\n",
       "  <thead>\n",
       "    <tr style=\"text-align: right;\">\n",
       "      <th></th>\n",
       "      <th>True 1</th>\n",
       "      <th>True 0</th>\n",
       "    </tr>\n",
       "  </thead>\n",
       "  <tbody>\n",
       "    <tr>\n",
       "      <th>Pred 1</th>\n",
       "      <td>691</td>\n",
       "      <td>4904</td>\n",
       "    </tr>\n",
       "    <tr>\n",
       "      <th>Pred 0</th>\n",
       "      <td>192</td>\n",
       "      <td>6124</td>\n",
       "    </tr>\n",
       "  </tbody>\n",
       "</table>\n",
       "</div>"
      ],
      "text/plain": [
       "        True 1  True 0\n",
       "Pred 1     691    4904\n",
       "Pred 0     192    6124"
      ]
     },
     "metadata": {},
     "output_type": "display_data"
    },
    {
     "data": {
      "text/plain": [
       "('SVC', 0.0)"
      ]
     },
     "execution_count": 6,
     "metadata": {},
     "output_type": "execute_result"
    }
   ],
   "source": [
    "lambdas = np.linspace(0, 10, num=21)\n",
    "svcSearchBuilder = ModelGridBuilder('SVC', parameters=lambdas)\n",
    "models = svcSearchBuilder.get_models()\n",
    "\n",
    "random_svc_analysis = AnalysisPipeline(credit_X, credit_Y, models, roc_auc)\n",
    "random_svc_analysis.process_data(pca=True, split_type='random', train_prop=.8, dev_prop=.1)\n",
    "random_svc_analysis.fit_models(max_iterations=8000)\n",
    "# choose best model based on confusion matrix\n",
    "best_model_specs, best_model_conf_matrix = random_svc_analysis.test_models()\n",
    "display(best_model_conf_matrix)\n",
    "best_model_specs"
   ]
  },
  {
   "cell_type": "code",
   "execution_count": 134,
   "id": "165ba2c5",
   "metadata": {
    "ExecuteTime": {
     "end_time": "2022-11-03T17:14:17.730133Z",
     "start_time": "2022-11-03T17:14:17.721110Z"
    }
   },
   "outputs": [
    {
     "data": {
      "text/html": [
       "\n",
       "<div id=\"altair-viz-c296dfdf55f34a309b666a86383018d2\"></div>\n",
       "<script type=\"text/javascript\">\n",
       "  (function(spec, embedOpt){\n",
       "    let outputDiv = document.currentScript.previousElementSibling;\n",
       "    if (outputDiv.id !== \"altair-viz-c296dfdf55f34a309b666a86383018d2\") {\n",
       "      outputDiv = document.getElementById(\"altair-viz-c296dfdf55f34a309b666a86383018d2\");\n",
       "    }\n",
       "    const paths = {\n",
       "      \"vega\": \"https://cdn.jsdelivr.net/npm//vega@5?noext\",\n",
       "      \"vega-lib\": \"https://cdn.jsdelivr.net/npm//vega-lib?noext\",\n",
       "      \"vega-lite\": \"https://cdn.jsdelivr.net/npm//vega-lite@4.8.1?noext\",\n",
       "      \"vega-embed\": \"https://cdn.jsdelivr.net/npm//vega-embed@6?noext\",\n",
       "    };\n",
       "\n",
       "    function loadScript(lib) {\n",
       "      return new Promise(function(resolve, reject) {\n",
       "        var s = document.createElement('script');\n",
       "        s.src = paths[lib];\n",
       "        s.async = true;\n",
       "        s.onload = () => resolve(paths[lib]);\n",
       "        s.onerror = () => reject(`Error loading script: ${paths[lib]}`);\n",
       "        document.getElementsByTagName(\"head\")[0].appendChild(s);\n",
       "      });\n",
       "    }\n",
       "\n",
       "    function showError(err) {\n",
       "      outputDiv.innerHTML = `<div class=\"error\" style=\"color:red;\">${err}</div>`;\n",
       "      throw err;\n",
       "    }\n",
       "\n",
       "    function displayChart(vegaEmbed) {\n",
       "      vegaEmbed(outputDiv, spec, embedOpt)\n",
       "        .catch(err => showError(`Javascript Error: ${err.message}<br>This usually means there's a typo in your chart specification. See the javascript console for the full traceback.`));\n",
       "    }\n",
       "\n",
       "    if(typeof define === \"function\" && define.amd) {\n",
       "      requirejs.config({paths});\n",
       "      require([\"vega-embed\"], displayChart, err => showError(`Error loading script: ${err.message}`));\n",
       "    } else if (typeof vegaEmbed === \"function\") {\n",
       "      displayChart(vegaEmbed);\n",
       "    } else {\n",
       "      loadScript(\"vega\")\n",
       "        .then(() => loadScript(\"vega-lite\"))\n",
       "        .then(() => loadScript(\"vega-embed\"))\n",
       "        .catch(showError)\n",
       "        .then(() => displayChart(vegaEmbed));\n",
       "    }\n",
       "  })({\"config\": {\"view\": {\"continuousWidth\": 400, \"continuousHeight\": 300}}, \"data\": {\"name\": \"data-803037ff50395c66e79f01c729ca7799\"}, \"mark\": \"line\", \"encoding\": {\"x\": {\"type\": \"quantitative\", \"field\": \"lambda\"}, \"y\": {\"type\": \"quantitative\", \"field\": \"ROC-AUC\", \"scale\": {\"domain\": [0.63, 0.7]}}}, \"$schema\": \"https://vega.github.io/schema/vega-lite/v4.8.1.json\", \"datasets\": {\"data-803037ff50395c66e79f01c729ca7799\": [{\"lambda\": 0.0, \"ROC-AUC\": 0.6689366016124507}, {\"lambda\": 0.5, \"ROC-AUC\": 0.6681214727383934}, {\"lambda\": 1.0, \"ROC-AUC\": 0.6681214727383934}, {\"lambda\": 1.5, \"ROC-AUC\": 0.6681214727383934}, {\"lambda\": 2.0, \"ROC-AUC\": 0.6681214727383934}, {\"lambda\": 2.5, \"ROC-AUC\": 0.6681214727383934}, {\"lambda\": 3.0, \"ROC-AUC\": 0.6681214727383934}, {\"lambda\": 3.5, \"ROC-AUC\": 0.6681214727383934}, {\"lambda\": 4.0, \"ROC-AUC\": 0.6681214727383934}, {\"lambda\": 4.5, \"ROC-AUC\": 0.6681214727383934}, {\"lambda\": 5.0, \"ROC-AUC\": 0.6681214727383934}, {\"lambda\": 5.5, \"ROC-AUC\": 0.6681214727383934}, {\"lambda\": 6.0, \"ROC-AUC\": 0.6681214727383934}, {\"lambda\": 6.5, \"ROC-AUC\": 0.6681214727383934}, {\"lambda\": 7.0, \"ROC-AUC\": 0.6681214727383934}, {\"lambda\": 7.5, \"ROC-AUC\": 0.6681214727383934}, {\"lambda\": 8.0, \"ROC-AUC\": 0.6681214727383934}, {\"lambda\": 8.5, \"ROC-AUC\": 0.6681214727383934}, {\"lambda\": 9.0, \"ROC-AUC\": 0.6681214727383934}, {\"lambda\": 9.5, \"ROC-AUC\": 0.6681214727383934}, {\"lambda\": 10.0, \"ROC-AUC\": 0.6681214727383934}]}}, {\"mode\": \"vega-lite\"});\n",
       "</script>"
      ],
      "text/plain": [
       "alt.Chart(...)"
      ]
     },
     "metadata": {},
     "output_type": "display_data"
    }
   ],
   "source": [
    "plot_parameter_tuning(random_svc_analysis.dev_set_analysis)"
   ]
  },
  {
   "cell_type": "code",
   "execution_count": 36,
   "id": "efe6b1da",
   "metadata": {
    "ExecuteTime": {
     "end_time": "2022-11-03T06:37:42.902434Z",
     "start_time": "2022-11-03T06:37:42.898675Z"
    }
   },
   "outputs": [
    {
     "data": {
      "text/plain": [
       "(('SVC', 0.0), 0.6689366016124507)"
      ]
     },
     "execution_count": 36,
     "metadata": {},
     "output_type": "execute_result"
    }
   ],
   "source": [
    "random_svc_analysis.dev_set_analysis[0]"
   ]
  },
  {
   "cell_type": "markdown",
   "id": "d3cbe6e7",
   "metadata": {},
   "source": [
    "## Test LDA"
   ]
  },
  {
   "cell_type": "code",
   "execution_count": 8,
   "id": "03c7a2b9",
   "metadata": {
    "ExecuteTime": {
     "end_time": "2022-11-03T05:47:23.340573Z",
     "start_time": "2022-11-03T05:47:21.098262Z"
    }
   },
   "outputs": [
    {
     "data": {
      "text/html": [
       "<div>\n",
       "<style scoped>\n",
       "    .dataframe tbody tr th:only-of-type {\n",
       "        vertical-align: middle;\n",
       "    }\n",
       "\n",
       "    .dataframe tbody tr th {\n",
       "        vertical-align: top;\n",
       "    }\n",
       "\n",
       "    .dataframe thead th {\n",
       "        text-align: right;\n",
       "    }\n",
       "</style>\n",
       "<table border=\"1\" class=\"dataframe\">\n",
       "  <thead>\n",
       "    <tr style=\"text-align: right;\">\n",
       "      <th></th>\n",
       "      <th>True 1</th>\n",
       "      <th>True 0</th>\n",
       "    </tr>\n",
       "  </thead>\n",
       "  <tbody>\n",
       "    <tr>\n",
       "      <th>Pred 1</th>\n",
       "      <td>8</td>\n",
       "      <td>4</td>\n",
       "    </tr>\n",
       "    <tr>\n",
       "      <th>Pred 0</th>\n",
       "      <td>875</td>\n",
       "      <td>11024</td>\n",
       "    </tr>\n",
       "  </tbody>\n",
       "</table>\n",
       "</div>"
      ],
      "text/plain": [
       "        True 1  True 0\n",
       "Pred 1       8       4\n",
       "Pred 0     875   11024"
      ]
     },
     "metadata": {},
     "output_type": "display_data"
    },
    {
     "data": {
      "text/plain": [
       "['LDA']"
      ]
     },
     "execution_count": 8,
     "metadata": {},
     "output_type": "execute_result"
    }
   ],
   "source": [
    "ldaSearchBuilder = ModelGridBuilder('LDA')\n",
    "models = ldaSearchBuilder.get_models()\n",
    "\n",
    "random_lda_analysis = AnalysisPipeline(credit_X, credit_Y, models, roc_auc)\n",
    "random_lda_analysis.process_data(pca=True, split_type='random', train_prop=.8, dev_prop=.1)\n",
    "random_lda_analysis.fit_models()\n",
    "# choose best model based on confusion matrix\n",
    "best_model_specs, best_model_conf_matrix = random_lda_analysis.test_models()\n",
    "display(best_model_conf_matrix)\n",
    "best_model_specs"
   ]
  },
  {
   "cell_type": "code",
   "execution_count": 39,
   "id": "ee3c5b82",
   "metadata": {
    "ExecuteTime": {
     "end_time": "2022-11-03T06:38:19.545176Z",
     "start_time": "2022-11-03T06:38:19.541713Z"
    }
   },
   "outputs": [
    {
     "data": {
      "text/plain": [
       "0.504348654778057"
      ]
     },
     "execution_count": 39,
     "metadata": {},
     "output_type": "execute_result"
    }
   ],
   "source": [
    "random_lda_analysis.dev_set_analysis[0][1]"
   ]
  },
  {
   "cell_type": "code",
   "execution_count": 78,
   "id": "56df2e27",
   "metadata": {
    "ExecuteTime": {
     "end_time": "2022-11-03T07:02:32.578700Z",
     "start_time": "2022-11-03T07:02:32.518492Z"
    }
   },
   "outputs": [
    {
     "data": {
      "text/plain": [
       "'TPPA: 0.9294094315752524'"
      ]
     },
     "execution_count": 78,
     "metadata": {},
     "output_type": "execute_result"
    }
   ],
   "source": [
    "f'TPPA: {net_revenue(random_lda_analysis.best_model.predict(test_X), test_Y, annuity)}'"
   ]
  },
  {
   "cell_type": "markdown",
   "id": "4f183278",
   "metadata": {},
   "source": [
    "## Best Model-Random Split: Logistic Lasso w/ lambda = 44\n",
    "roc-auc on dev set = .67"
   ]
  },
  {
   "cell_type": "code",
   "execution_count": 94,
   "id": "892b0d25",
   "metadata": {
    "ExecuteTime": {
     "end_time": "2022-11-03T07:08:22.192861Z",
     "start_time": "2022-11-03T07:08:21.974883Z"
    }
   },
   "outputs": [
    {
     "name": "stdout",
     "output_type": "stream",
     "text": [
      "ALL w.r.t. TEST SET\n"
     ]
    },
    {
     "data": {
      "text/plain": [
       "'ROC-AUC: 0.6634;Accuracy: 0.5714; F-4: 0.5677; F-1: 0.1914; F-.5: 0.1319; TPAA: 0.551898'"
      ]
     },
     "execution_count": 94,
     "metadata": {},
     "output_type": "execute_result"
    }
   ],
   "source": [
    "random_best_model = random_logistic_analysis.best_model\n",
    "roc = random_logistic_analysis.testscore_best_model()\n",
    "\n",
    "_, _, _, _, test_X, test_Y = random_logistic_analysis.processor.get_train_dev_test_sets()\n",
    "predictions = random_best_model.predict(test_X)\n",
    "acc = accuracy(predictions, test_Y)\n",
    "f_4 = fmeasure(predictions, test_Y, B=4)\n",
    "f_1 = fmeasure(predictions, test_Y, B=1)\n",
    "f_p5 = fmeasure(predictions, test_Y, B=.5)\n",
    "annuity = credit_X['AMT_ANNUITY'].loc[random_logistic_analysis.processor.test_indices]\n",
    "tpaa = net_revenue(predictions, test_Y, annuity)\n",
    "print('ALL w.r.t. TEST SET')\n",
    "f'ROC-AUC: {roc:.4f};Accuracy: {acc:.4f}; F-4: {f_4:.4f}; F-1: {f_1:.4f}; F-.5: {f_p5:.4f}; TPAA: {tpaa:.6f}'"
   ]
  },
  {
   "cell_type": "markdown",
   "id": "bd0df974",
   "metadata": {},
   "source": [
    "# Stratified Split"
   ]
  },
  {
   "cell_type": "markdown",
   "id": "7bc88b80",
   "metadata": {},
   "source": [
    "## Tune Logistic w/ Lasso"
   ]
  },
  {
   "cell_type": "code",
   "execution_count": 10,
   "id": "19d06dcb",
   "metadata": {
    "ExecuteTime": {
     "end_time": "2022-11-03T06:16:11.083848Z",
     "start_time": "2022-11-03T05:51:41.728404Z"
    }
   },
   "outputs": [
    {
     "data": {
      "text/html": [
       "<div>\n",
       "<style scoped>\n",
       "    .dataframe tbody tr th:only-of-type {\n",
       "        vertical-align: middle;\n",
       "    }\n",
       "\n",
       "    .dataframe tbody tr th {\n",
       "        vertical-align: top;\n",
       "    }\n",
       "\n",
       "    .dataframe thead th {\n",
       "        text-align: right;\n",
       "    }\n",
       "</style>\n",
       "<table border=\"1\" class=\"dataframe\">\n",
       "  <thead>\n",
       "    <tr style=\"text-align: right;\">\n",
       "      <th></th>\n",
       "      <th>True 1</th>\n",
       "      <th>True 0</th>\n",
       "    </tr>\n",
       "  </thead>\n",
       "  <tbody>\n",
       "    <tr>\n",
       "      <th>Pred 1</th>\n",
       "      <td>640</td>\n",
       "      <td>4834</td>\n",
       "    </tr>\n",
       "    <tr>\n",
       "      <th>Pred 0</th>\n",
       "      <td>181</td>\n",
       "      <td>6256</td>\n",
       "    </tr>\n",
       "  </tbody>\n",
       "</table>\n",
       "</div>"
      ],
      "text/plain": [
       "        True 1  True 0\n",
       "Pred 1     640    4834\n",
       "Pred 0     181    6256"
      ]
     },
     "metadata": {},
     "output_type": "display_data"
    },
    {
     "data": {
      "text/plain": [
       "('Logistic Lasso', 42.0)"
      ]
     },
     "execution_count": 10,
     "metadata": {},
     "output_type": "execute_result"
    }
   ],
   "source": [
    "lambdas = np.linspace(0, 50, num=26)\n",
    "\n",
    "logisticSearchBuilder = ModelGridBuilder('Logistic Lasso', parameters=lambdas)\n",
    "models = logisticSearchBuilder.get_models()\n",
    "\n",
    "stratified_logistic_analysis = AnalysisPipeline(credit_X, credit_Y, models, roc_auc)\n",
    "stratified_logistic_analysis.process_data(pca=True, split_type='stratified_class', train_prop=.8, dev_prop=.1)\n",
    "stratified_logistic_analysis.fit_models(max_iterations=8000)\n",
    "# choose best model based on confusion matrix\n",
    "best_model_specs, best_model_conf_matrix = stratified_logistic_analysis.test_models()\n",
    "display(best_model_conf_matrix)\n",
    "best_model_specs"
   ]
  },
  {
   "cell_type": "code",
   "execution_count": 135,
   "id": "3c85f6f3",
   "metadata": {
    "ExecuteTime": {
     "end_time": "2022-11-03T17:14:24.196561Z",
     "start_time": "2022-11-03T17:14:24.187020Z"
    }
   },
   "outputs": [
    {
     "data": {
      "text/html": [
       "\n",
       "<div id=\"altair-viz-592d56ce1f054dfab8b45e2e714a2cce\"></div>\n",
       "<script type=\"text/javascript\">\n",
       "  (function(spec, embedOpt){\n",
       "    let outputDiv = document.currentScript.previousElementSibling;\n",
       "    if (outputDiv.id !== \"altair-viz-592d56ce1f054dfab8b45e2e714a2cce\") {\n",
       "      outputDiv = document.getElementById(\"altair-viz-592d56ce1f054dfab8b45e2e714a2cce\");\n",
       "    }\n",
       "    const paths = {\n",
       "      \"vega\": \"https://cdn.jsdelivr.net/npm//vega@5?noext\",\n",
       "      \"vega-lib\": \"https://cdn.jsdelivr.net/npm//vega-lib?noext\",\n",
       "      \"vega-lite\": \"https://cdn.jsdelivr.net/npm//vega-lite@4.8.1?noext\",\n",
       "      \"vega-embed\": \"https://cdn.jsdelivr.net/npm//vega-embed@6?noext\",\n",
       "    };\n",
       "\n",
       "    function loadScript(lib) {\n",
       "      return new Promise(function(resolve, reject) {\n",
       "        var s = document.createElement('script');\n",
       "        s.src = paths[lib];\n",
       "        s.async = true;\n",
       "        s.onload = () => resolve(paths[lib]);\n",
       "        s.onerror = () => reject(`Error loading script: ${paths[lib]}`);\n",
       "        document.getElementsByTagName(\"head\")[0].appendChild(s);\n",
       "      });\n",
       "    }\n",
       "\n",
       "    function showError(err) {\n",
       "      outputDiv.innerHTML = `<div class=\"error\" style=\"color:red;\">${err}</div>`;\n",
       "      throw err;\n",
       "    }\n",
       "\n",
       "    function displayChart(vegaEmbed) {\n",
       "      vegaEmbed(outputDiv, spec, embedOpt)\n",
       "        .catch(err => showError(`Javascript Error: ${err.message}<br>This usually means there's a typo in your chart specification. See the javascript console for the full traceback.`));\n",
       "    }\n",
       "\n",
       "    if(typeof define === \"function\" && define.amd) {\n",
       "      requirejs.config({paths});\n",
       "      require([\"vega-embed\"], displayChart, err => showError(`Error loading script: ${err.message}`));\n",
       "    } else if (typeof vegaEmbed === \"function\") {\n",
       "      displayChart(vegaEmbed);\n",
       "    } else {\n",
       "      loadScript(\"vega\")\n",
       "        .then(() => loadScript(\"vega-lite\"))\n",
       "        .then(() => loadScript(\"vega-embed\"))\n",
       "        .catch(showError)\n",
       "        .then(() => displayChart(vegaEmbed));\n",
       "    }\n",
       "  })({\"config\": {\"view\": {\"continuousWidth\": 400, \"continuousHeight\": 300}}, \"data\": {\"name\": \"data-f6514612d920b18373159de39f75c90a\"}, \"mark\": \"line\", \"encoding\": {\"x\": {\"type\": \"quantitative\", \"field\": \"lambda\"}, \"y\": {\"type\": \"quantitative\", \"field\": \"ROC-AUC\", \"scale\": {\"domain\": [0.63, 0.7]}}}, \"$schema\": \"https://vega.github.io/schema/vega-lite/v4.8.1.json\", \"datasets\": {\"data-f6514612d920b18373159de39f75c90a\": [{\"lambda\": 0.0, \"ROC-AUC\": 0.6701105120435282}, {\"lambda\": 2.0, \"ROC-AUC\": 0.6700203407180098}, {\"lambda\": 4.0, \"ROC-AUC\": 0.6696367556335112}, {\"lambda\": 6.0, \"ROC-AUC\": 0.670065426380769}, {\"lambda\": 8.0, \"ROC-AUC\": 0.670245769031806}, {\"lambda\": 10.0, \"ROC-AUC\": 0.670245769031806}, {\"lambda\": 12.0, \"ROC-AUC\": 0.6692760703314373}, {\"lambda\": 14.0, \"ROC-AUC\": 0.6694564129824743}, {\"lambda\": 16.0, \"ROC-AUC\": 0.6694564129824743}, {\"lambda\": 18.0, \"ROC-AUC\": 0.670065426380769}, {\"lambda\": 20.0, \"ROC-AUC\": 0.6701555977062875}, {\"lambda\": 22.0, \"ROC-AUC\": 0.669591669970752}, {\"lambda\": 24.0, \"ROC-AUC\": 0.670245769031806}, {\"lambda\": 26.0, \"ROC-AUC\": 0.6708096967673416}, {\"lambda\": 28.0, \"ROC-AUC\": 0.6708096967673416}, {\"lambda\": 30.0, \"ROC-AUC\": 0.6713285388401177}, {\"lambda\": 32.0, \"ROC-AUC\": 0.6712383675145992}, {\"lambda\": 34.0, \"ROC-AUC\": 0.67119328185184}, {\"lambda\": 36.0, \"ROC-AUC\": 0.6708547824301008}, {\"lambda\": 38.0, \"ROC-AUC\": 0.6716892241421918}, {\"lambda\": 40.0, \"ROC-AUC\": 0.6717793954677101}, {\"lambda\": 42.0, \"ROC-AUC\": 0.6718244811304694}, {\"lambda\": 44.0, \"ROC-AUC\": 0.6718244811304694}, {\"lambda\": 46.0, \"ROC-AUC\": 0.6711252964066562}, {\"lambda\": 48.0, \"ROC-AUC\": 0.671260553394934}, {\"lambda\": 50.0, \"ROC-AUC\": 0.6712154677321748}]}}, {\"mode\": \"vega-lite\"});\n",
       "</script>"
      ],
      "text/plain": [
       "alt.Chart(...)"
      ]
     },
     "metadata": {},
     "output_type": "display_data"
    }
   ],
   "source": [
    "plot_parameter_tuning(stratified_logistic_analysis.dev_set_analysis)"
   ]
  },
  {
   "cell_type": "code",
   "execution_count": 81,
   "id": "68ded35c",
   "metadata": {
    "ExecuteTime": {
     "end_time": "2022-11-03T07:03:05.605749Z",
     "start_time": "2022-11-03T07:03:05.602335Z"
    }
   },
   "outputs": [
    {
     "data": {
      "text/plain": [
       "(('Logistic Lasso', 42.0), 0.6718244811304694)"
      ]
     },
     "execution_count": 81,
     "metadata": {},
     "output_type": "execute_result"
    }
   ],
   "source": [
    "stratified_logistic_analysis.dev_set_analysis[21]"
   ]
  },
  {
   "cell_type": "markdown",
   "id": "72d9feba",
   "metadata": {},
   "source": [
    "## Tune SVC"
   ]
  },
  {
   "cell_type": "code",
   "execution_count": 12,
   "id": "a4538811",
   "metadata": {
    "ExecuteTime": {
     "end_time": "2022-11-03T06:18:25.530509Z",
     "start_time": "2022-11-03T06:16:11.104041Z"
    }
   },
   "outputs": [
    {
     "data": {
      "text/html": [
       "<div>\n",
       "<style scoped>\n",
       "    .dataframe tbody tr th:only-of-type {\n",
       "        vertical-align: middle;\n",
       "    }\n",
       "\n",
       "    .dataframe tbody tr th {\n",
       "        vertical-align: top;\n",
       "    }\n",
       "\n",
       "    .dataframe thead th {\n",
       "        text-align: right;\n",
       "    }\n",
       "</style>\n",
       "<table border=\"1\" class=\"dataframe\">\n",
       "  <thead>\n",
       "    <tr style=\"text-align: right;\">\n",
       "      <th></th>\n",
       "      <th>True 1</th>\n",
       "      <th>True 0</th>\n",
       "    </tr>\n",
       "  </thead>\n",
       "  <tbody>\n",
       "    <tr>\n",
       "      <th>Pred 1</th>\n",
       "      <td>639</td>\n",
       "      <td>4843</td>\n",
       "    </tr>\n",
       "    <tr>\n",
       "      <th>Pred 0</th>\n",
       "      <td>182</td>\n",
       "      <td>6247</td>\n",
       "    </tr>\n",
       "  </tbody>\n",
       "</table>\n",
       "</div>"
      ],
      "text/plain": [
       "        True 1  True 0\n",
       "Pred 1     639    4843\n",
       "Pred 0     182    6247"
      ]
     },
     "metadata": {},
     "output_type": "display_data"
    },
    {
     "data": {
      "text/plain": [
       "('SVC', 0.5)"
      ]
     },
     "execution_count": 12,
     "metadata": {},
     "output_type": "execute_result"
    }
   ],
   "source": [
    "lambdas = np.linspace(0, 10, num=21)\n",
    "svcSearchBuilder = ModelGridBuilder('SVC', parameters=lambdas)\n",
    "models = svcSearchBuilder.get_models()\n",
    "\n",
    "stratified_svc_analysis = AnalysisPipeline(credit_X, credit_Y, models, roc_auc)\n",
    "stratified_svc_analysis.process_data(pca=True, split_type='stratified_class', train_prop=.8, dev_prop=.1)\n",
    "stratified_svc_analysis.fit_models(max_iterations=8000)\n",
    "# choose best model based on confusion matrix\n",
    "best_model_specs, best_model_conf_matrix = stratified_svc_analysis.test_models()\n",
    "display(best_model_conf_matrix)\n",
    "best_model_specs"
   ]
  },
  {
   "cell_type": "code",
   "execution_count": 130,
   "id": "732eaa8e",
   "metadata": {
    "ExecuteTime": {
     "end_time": "2022-11-03T17:13:46.471541Z",
     "start_time": "2022-11-03T17:13:46.461330Z"
    }
   },
   "outputs": [
    {
     "data": {
      "text/html": [
       "\n",
       "<div id=\"altair-viz-a7a611ac408945a4b559cbdd75fa66bf\"></div>\n",
       "<script type=\"text/javascript\">\n",
       "  (function(spec, embedOpt){\n",
       "    let outputDiv = document.currentScript.previousElementSibling;\n",
       "    if (outputDiv.id !== \"altair-viz-a7a611ac408945a4b559cbdd75fa66bf\") {\n",
       "      outputDiv = document.getElementById(\"altair-viz-a7a611ac408945a4b559cbdd75fa66bf\");\n",
       "    }\n",
       "    const paths = {\n",
       "      \"vega\": \"https://cdn.jsdelivr.net/npm//vega@5?noext\",\n",
       "      \"vega-lib\": \"https://cdn.jsdelivr.net/npm//vega-lib?noext\",\n",
       "      \"vega-lite\": \"https://cdn.jsdelivr.net/npm//vega-lite@4.8.1?noext\",\n",
       "      \"vega-embed\": \"https://cdn.jsdelivr.net/npm//vega-embed@6?noext\",\n",
       "    };\n",
       "\n",
       "    function loadScript(lib) {\n",
       "      return new Promise(function(resolve, reject) {\n",
       "        var s = document.createElement('script');\n",
       "        s.src = paths[lib];\n",
       "        s.async = true;\n",
       "        s.onload = () => resolve(paths[lib]);\n",
       "        s.onerror = () => reject(`Error loading script: ${paths[lib]}`);\n",
       "        document.getElementsByTagName(\"head\")[0].appendChild(s);\n",
       "      });\n",
       "    }\n",
       "\n",
       "    function showError(err) {\n",
       "      outputDiv.innerHTML = `<div class=\"error\" style=\"color:red;\">${err}</div>`;\n",
       "      throw err;\n",
       "    }\n",
       "\n",
       "    function displayChart(vegaEmbed) {\n",
       "      vegaEmbed(outputDiv, spec, embedOpt)\n",
       "        .catch(err => showError(`Javascript Error: ${err.message}<br>This usually means there's a typo in your chart specification. See the javascript console for the full traceback.`));\n",
       "    }\n",
       "\n",
       "    if(typeof define === \"function\" && define.amd) {\n",
       "      requirejs.config({paths});\n",
       "      require([\"vega-embed\"], displayChart, err => showError(`Error loading script: ${err.message}`));\n",
       "    } else if (typeof vegaEmbed === \"function\") {\n",
       "      displayChart(vegaEmbed);\n",
       "    } else {\n",
       "      loadScript(\"vega\")\n",
       "        .then(() => loadScript(\"vega-lite\"))\n",
       "        .then(() => loadScript(\"vega-embed\"))\n",
       "        .catch(showError)\n",
       "        .then(() => displayChart(vegaEmbed));\n",
       "    }\n",
       "  })({\"config\": {\"view\": {\"continuousWidth\": 400, \"continuousHeight\": 300}}, \"data\": {\"name\": \"data-ac44b253e99b90bf475c70fab794cb1e\"}, \"mark\": \"line\", \"encoding\": {\"x\": {\"type\": \"quantitative\", \"field\": \"lambda\"}, \"y\": {\"type\": \"quantitative\", \"field\": \"ROC-AUC\", \"scale\": {\"domain\": [0.6, 0.75]}}}, \"$schema\": \"https://vega.github.io/schema/vega-lite/v4.8.1.json\", \"datasets\": {\"data-ac44b253e99b90bf475c70fab794cb1e\": [{\"lambda\": 0.0, \"ROC-AUC\": 0.6706744397790638}, {\"lambda\": 0.5, \"ROC-AUC\": 0.6708096967673416}, {\"lambda\": 1.0, \"ROC-AUC\": 0.6708096967673416}, {\"lambda\": 1.5, \"ROC-AUC\": 0.6708096967673416}, {\"lambda\": 2.0, \"ROC-AUC\": 0.6708096967673416}, {\"lambda\": 2.5, \"ROC-AUC\": 0.6708096967673416}, {\"lambda\": 3.0, \"ROC-AUC\": 0.6708096967673416}, {\"lambda\": 3.5, \"ROC-AUC\": 0.6708096967673416}, {\"lambda\": 4.0, \"ROC-AUC\": 0.6708096967673416}, {\"lambda\": 4.5, \"ROC-AUC\": 0.6708096967673416}, {\"lambda\": 5.0, \"ROC-AUC\": 0.6708096967673416}, {\"lambda\": 5.5, \"ROC-AUC\": 0.6708096967673416}, {\"lambda\": 6.0, \"ROC-AUC\": 0.6708096967673416}, {\"lambda\": 6.5, \"ROC-AUC\": 0.6708096967673416}, {\"lambda\": 7.0, \"ROC-AUC\": 0.6708096967673416}, {\"lambda\": 7.5, \"ROC-AUC\": 0.6708096967673416}, {\"lambda\": 8.0, \"ROC-AUC\": 0.6708096967673416}, {\"lambda\": 8.5, \"ROC-AUC\": 0.6708096967673416}, {\"lambda\": 9.0, \"ROC-AUC\": 0.6708096967673416}, {\"lambda\": 9.5, \"ROC-AUC\": 0.6708096967673416}, {\"lambda\": 10.0, \"ROC-AUC\": 0.6708096967673416}]}}, {\"mode\": \"vega-lite\"});\n",
       "</script>"
      ],
      "text/plain": [
       "alt.Chart(...)"
      ]
     },
     "metadata": {},
     "output_type": "display_data"
    }
   ],
   "source": [
    "plot_parameter_tuning(stratified_svc_analysis.dev_set_analysis)"
   ]
  },
  {
   "cell_type": "code",
   "execution_count": 83,
   "id": "8f8b7b0e",
   "metadata": {
    "ExecuteTime": {
     "end_time": "2022-11-03T07:03:19.798321Z",
     "start_time": "2022-11-03T07:03:19.794287Z"
    }
   },
   "outputs": [
    {
     "data": {
      "text/plain": [
       "(('SVC', 0.5), 0.6708096967673416)"
      ]
     },
     "execution_count": 83,
     "metadata": {},
     "output_type": "execute_result"
    }
   ],
   "source": [
    "stratified_svc_analysis.dev_set_analysis[1]"
   ]
  },
  {
   "cell_type": "markdown",
   "id": "1b793149",
   "metadata": {},
   "source": [
    "## LDA"
   ]
  },
  {
   "cell_type": "code",
   "execution_count": 14,
   "id": "a1128e65",
   "metadata": {
    "ExecuteTime": {
     "end_time": "2022-11-03T06:18:27.912897Z",
     "start_time": "2022-11-03T06:18:25.555268Z"
    }
   },
   "outputs": [
    {
     "data": {
      "text/html": [
       "<div>\n",
       "<style scoped>\n",
       "    .dataframe tbody tr th:only-of-type {\n",
       "        vertical-align: middle;\n",
       "    }\n",
       "\n",
       "    .dataframe tbody tr th {\n",
       "        vertical-align: top;\n",
       "    }\n",
       "\n",
       "    .dataframe thead th {\n",
       "        text-align: right;\n",
       "    }\n",
       "</style>\n",
       "<table border=\"1\" class=\"dataframe\">\n",
       "  <thead>\n",
       "    <tr style=\"text-align: right;\">\n",
       "      <th></th>\n",
       "      <th>True 1</th>\n",
       "      <th>True 0</th>\n",
       "    </tr>\n",
       "  </thead>\n",
       "  <tbody>\n",
       "    <tr>\n",
       "      <th>Pred 1</th>\n",
       "      <td>7</td>\n",
       "      <td>8</td>\n",
       "    </tr>\n",
       "    <tr>\n",
       "      <th>Pred 0</th>\n",
       "      <td>814</td>\n",
       "      <td>11082</td>\n",
       "    </tr>\n",
       "  </tbody>\n",
       "</table>\n",
       "</div>"
      ],
      "text/plain": [
       "        True 1  True 0\n",
       "Pred 1       7       8\n",
       "Pred 0     814   11082"
      ]
     },
     "metadata": {},
     "output_type": "display_data"
    },
    {
     "data": {
      "text/plain": [
       "['LDA']"
      ]
     },
     "execution_count": 14,
     "metadata": {},
     "output_type": "execute_result"
    }
   ],
   "source": [
    "ldaSearchBuilder = ModelGridBuilder('LDA')\n",
    "models = ldaSearchBuilder.get_models()\n",
    "\n",
    "stratified_lda_analysis = AnalysisPipeline(credit_X, credit_Y, models, roc_auc)\n",
    "stratified_lda_analysis.process_data(pca=True, split_type='stratified_class', train_prop=.8, dev_prop=.1)\n",
    "stratified_lda_analysis.fit_models()\n",
    "# choose best model based on confusion matrix\n",
    "best_model_specs, best_model_conf_matrix = stratified_lda_analysis.test_models()\n",
    "display(best_model_conf_matrix)\n",
    "best_model_specs"
   ]
  },
  {
   "cell_type": "code",
   "execution_count": 84,
   "id": "8c93774f",
   "metadata": {
    "ExecuteTime": {
     "end_time": "2022-11-03T07:03:42.824190Z",
     "start_time": "2022-11-03T07:03:42.820829Z"
    }
   },
   "outputs": [
    {
     "data": {
      "text/plain": [
       "[(['LDA'], 0.5039024084859894)]"
      ]
     },
     "execution_count": 84,
     "metadata": {},
     "output_type": "execute_result"
    }
   ],
   "source": [
    "stratified_lda_analysis.dev_set_analysis"
   ]
  },
  {
   "cell_type": "markdown",
   "id": "d50a9676",
   "metadata": {},
   "source": [
    "## Best Model-Stratified Split: Logistic Lasso w/ lambda = 42"
   ]
  },
  {
   "cell_type": "code",
   "execution_count": 95,
   "id": "e1f856b3",
   "metadata": {
    "ExecuteTime": {
     "end_time": "2022-11-03T07:08:30.768894Z",
     "start_time": "2022-11-03T07:08:30.558716Z"
    }
   },
   "outputs": [
    {
     "name": "stdout",
     "output_type": "stream",
     "text": [
      "ALL w.r.t. TEST SET\n"
     ]
    },
    {
     "data": {
      "text/plain": [
       "'ROC-AUC: 0.6493; Accuracy: 0.5615; F-4: 0.5584; F-1: 0.1909; F-.5: 0.1318; TPAA: 0.538138'"
      ]
     },
     "execution_count": 95,
     "metadata": {},
     "output_type": "execute_result"
    }
   ],
   "source": [
    "stratified_best_model = stratified_logistic_analysis.best_model\n",
    "roc = stratified_logistic_analysis.testscore_best_model()\n",
    "\n",
    "_, _, _, _, test_X, test_Y = stratified_logistic_analysis.processor.get_train_dev_test_sets()\n",
    "predictions = stratified_best_model.predict(test_X)\n",
    "acc = accuracy(predictions, test_Y)\n",
    "f_4 = fmeasure(predictions, test_Y, B=4)\n",
    "f_1 = fmeasure(predictions, test_Y, B=1)\n",
    "f_p5 = fmeasure(predictions, test_Y, B=.5)\n",
    "annuity = credit_X['AMT_ANNUITY'].loc[stratified_logistic_analysis.processor.test_indices]\n",
    "tpaa = net_revenue(predictions, test_Y, annuity)\n",
    "print('ALL w.r.t. TEST SET')\n",
    "f'ROC-AUC: {roc:.4f}; Accuracy: {acc:.4f}; F-4: {f_4:.4f}; F-1: {f_1:.4f}; F-.5: {f_p5:.4f}; TPAA: {tpaa:.6f}'"
   ]
  },
  {
   "cell_type": "markdown",
   "id": "8b3beb76",
   "metadata": {},
   "source": [
    "# Set training class ratio split"
   ]
  },
  {
   "cell_type": "markdown",
   "id": "0d627a90",
   "metadata": {},
   "source": [
    "## Tune Logistic Lasso"
   ]
  },
  {
   "cell_type": "code",
   "execution_count": 15,
   "id": "3d487dd0",
   "metadata": {
    "ExecuteTime": {
     "end_time": "2022-11-03T06:21:29.367345Z",
     "start_time": "2022-11-03T06:18:27.915523Z"
    }
   },
   "outputs": [
    {
     "name": "stdout",
     "output_type": "stream",
     "text": [
      "GRADIENT DID NOT CONVERGE. RESULTS ARE BAD\n",
      "GRADIENT DID NOT CONVERGE. RESULTS ARE BAD\n",
      "GRADIENT DID NOT CONVERGE. RESULTS ARE BAD\n"
     ]
    },
    {
     "data": {
      "text/html": [
       "<div>\n",
       "<style scoped>\n",
       "    .dataframe tbody tr th:only-of-type {\n",
       "        vertical-align: middle;\n",
       "    }\n",
       "\n",
       "    .dataframe tbody tr th {\n",
       "        vertical-align: top;\n",
       "    }\n",
       "\n",
       "    .dataframe thead th {\n",
       "        text-align: right;\n",
       "    }\n",
       "</style>\n",
       "<table border=\"1\" class=\"dataframe\">\n",
       "  <thead>\n",
       "    <tr style=\"text-align: right;\">\n",
       "      <th></th>\n",
       "      <th>True 1</th>\n",
       "      <th>True 0</th>\n",
       "    </tr>\n",
       "  </thead>\n",
       "  <tbody>\n",
       "    <tr>\n",
       "      <th>Pred 1</th>\n",
       "      <td>327</td>\n",
       "      <td>2503</td>\n",
       "    </tr>\n",
       "    <tr>\n",
       "      <th>Pred 0</th>\n",
       "      <td>83</td>\n",
       "      <td>3042</td>\n",
       "    </tr>\n",
       "  </tbody>\n",
       "</table>\n",
       "</div>"
      ],
      "text/plain": [
       "        True 1  True 0\n",
       "Pred 1     327    2503\n",
       "Pred 0      83    3042"
      ]
     },
     "metadata": {},
     "output_type": "display_data"
    },
    {
     "data": {
      "text/plain": [
       "('Logistic Lasso', 44.0)"
      ]
     },
     "execution_count": 15,
     "metadata": {},
     "output_type": "execute_result"
    }
   ],
   "source": [
    "lambdas = np.linspace(0, 50, num=26)\n",
    "\n",
    "logisticSearchBuilder = ModelGridBuilder('Logistic Lasso', parameters=lambdas)\n",
    "models = logisticSearchBuilder.get_models()\n",
    "\n",
    "ratio_logistic_analysis = AnalysisPipeline(credit_X, credit_Y, models, roc_auc)\n",
    "ratio_logistic_analysis.process_data(pca=True, split_type='set_class_prop_undersample', dev_prop=.05, class_prop_1_0=1)\n",
    "ratio_logistic_analysis.fit_models(max_iterations=8000)\n",
    "# choose best model based on confusion matrix\n",
    "best_model_specs, best_model_conf_matrix = ratio_logistic_analysis.test_models()\n",
    "display(best_model_conf_matrix)\n",
    "best_model_specs"
   ]
  },
  {
   "cell_type": "code",
   "execution_count": 131,
   "id": "412708f2",
   "metadata": {
    "ExecuteTime": {
     "end_time": "2022-11-03T17:13:51.776608Z",
     "start_time": "2022-11-03T17:13:51.766807Z"
    }
   },
   "outputs": [
    {
     "data": {
      "text/html": [
       "\n",
       "<div id=\"altair-viz-5bf52c0d2af44963aaa2ce7a20656e9c\"></div>\n",
       "<script type=\"text/javascript\">\n",
       "  (function(spec, embedOpt){\n",
       "    let outputDiv = document.currentScript.previousElementSibling;\n",
       "    if (outputDiv.id !== \"altair-viz-5bf52c0d2af44963aaa2ce7a20656e9c\") {\n",
       "      outputDiv = document.getElementById(\"altair-viz-5bf52c0d2af44963aaa2ce7a20656e9c\");\n",
       "    }\n",
       "    const paths = {\n",
       "      \"vega\": \"https://cdn.jsdelivr.net/npm//vega@5?noext\",\n",
       "      \"vega-lib\": \"https://cdn.jsdelivr.net/npm//vega-lib?noext\",\n",
       "      \"vega-lite\": \"https://cdn.jsdelivr.net/npm//vega-lite@4.8.1?noext\",\n",
       "      \"vega-embed\": \"https://cdn.jsdelivr.net/npm//vega-embed@6?noext\",\n",
       "    };\n",
       "\n",
       "    function loadScript(lib) {\n",
       "      return new Promise(function(resolve, reject) {\n",
       "        var s = document.createElement('script');\n",
       "        s.src = paths[lib];\n",
       "        s.async = true;\n",
       "        s.onload = () => resolve(paths[lib]);\n",
       "        s.onerror = () => reject(`Error loading script: ${paths[lib]}`);\n",
       "        document.getElementsByTagName(\"head\")[0].appendChild(s);\n",
       "      });\n",
       "    }\n",
       "\n",
       "    function showError(err) {\n",
       "      outputDiv.innerHTML = `<div class=\"error\" style=\"color:red;\">${err}</div>`;\n",
       "      throw err;\n",
       "    }\n",
       "\n",
       "    function displayChart(vegaEmbed) {\n",
       "      vegaEmbed(outputDiv, spec, embedOpt)\n",
       "        .catch(err => showError(`Javascript Error: ${err.message}<br>This usually means there's a typo in your chart specification. See the javascript console for the full traceback.`));\n",
       "    }\n",
       "\n",
       "    if(typeof define === \"function\" && define.amd) {\n",
       "      requirejs.config({paths});\n",
       "      require([\"vega-embed\"], displayChart, err => showError(`Error loading script: ${err.message}`));\n",
       "    } else if (typeof vegaEmbed === \"function\") {\n",
       "      displayChart(vegaEmbed);\n",
       "    } else {\n",
       "      loadScript(\"vega\")\n",
       "        .then(() => loadScript(\"vega-lite\"))\n",
       "        .then(() => loadScript(\"vega-embed\"))\n",
       "        .catch(showError)\n",
       "        .then(() => displayChart(vegaEmbed));\n",
       "    }\n",
       "  })({\"config\": {\"view\": {\"continuousWidth\": 400, \"continuousHeight\": 300}}, \"data\": {\"name\": \"data-8b9822d161db7443285015cae8516262\"}, \"mark\": \"line\", \"encoding\": {\"x\": {\"type\": \"quantitative\", \"field\": \"lambda\"}, \"y\": {\"type\": \"quantitative\", \"field\": \"ROC-AUC\", \"scale\": {\"domain\": [0.6, 0.75]}}}, \"$schema\": \"https://vega.github.io/schema/vega-lite/v4.8.1.json\", \"datasets\": {\"data-8b9822d161db7443285015cae8516262\": [{\"lambda\": 0.0, \"ROC-AUC\": 0.6693329521212255}, {\"lambda\": 2.0, \"ROC-AUC\": 0.6701016076887549}, {\"lambda\": 4.0, \"ROC-AUC\": 0.6698310937121995}, {\"lambda\": 6.0, \"ROC-AUC\": 0.6700114363632366}, {\"lambda\": 8.0, \"ROC-AUC\": 0.6696507510611626}, {\"lambda\": 10.0, \"ROC-AUC\": 0.6700114363632366}, {\"lambda\": 12.0, \"ROC-AUC\": 0.6706899206052476}, {\"lambda\": 14.0, \"ROC-AUC\": 0.6713255184851218}, {\"lambda\": 16.0, \"ROC-AUC\": 0.6692900657590887}, {\"lambda\": 18.0, \"ROC-AUC\": 0.6690195517825331}, {\"lambda\": 20.0, \"ROC-AUC\": 0.6697882073500627}, {\"lambda\": 22.0, \"ROC-AUC\": 0.6687490378059777}, {\"lambda\": 24.0, \"ROC-AUC\": 0.6688392091314962}, {\"lambda\": 26.0, \"ROC-AUC\": 0.6701488926521366}, {\"lambda\": 28.0, \"ROC-AUC\": 0.6705997492797291}, {\"lambda\": 30.0, \"ROC-AUC\": 0.6706899206052476}, {\"lambda\": 32.0, \"ROC-AUC\": 0.6710506059073214}, {\"lambda\": 34.0, \"ROC-AUC\": 0.6711407772328399}, {\"lambda\": 36.0, \"ROC-AUC\": 0.6715916338604324}, {\"lambda\": 38.0, \"ROC-AUC\": 0.6719523191625063}, {\"lambda\": 40.0, \"ROC-AUC\": 0.6717719765114694}, {\"lambda\": 42.0, \"ROC-AUC\": 0.6720424904880249}, {\"lambda\": 44.0, \"ROC-AUC\": 0.6730816600321098}, {\"lambda\": 46.0, \"ROC-AUC\": 0.6726308034045174}, {\"lambda\": 48.0, \"ROC-AUC\": 0.6729013173810728}, {\"lambda\": 50.0, \"ROC-AUC\": 0.6714112912093955}]}}, {\"mode\": \"vega-lite\"});\n",
       "</script>"
      ],
      "text/plain": [
       "alt.Chart(...)"
      ]
     },
     "metadata": {},
     "output_type": "display_data"
    }
   ],
   "source": [
    "plot_parameter_tuning(ratio_logistic_analysis.dev_set_analysis)"
   ]
  },
  {
   "cell_type": "code",
   "execution_count": 98,
   "id": "4c0570fc",
   "metadata": {
    "ExecuteTime": {
     "end_time": "2022-11-03T07:08:54.480864Z",
     "start_time": "2022-11-03T07:08:54.477146Z"
    }
   },
   "outputs": [
    {
     "data": {
      "text/plain": [
       "(('Logistic Lasso', 44.0), 0.6730816600321098)"
      ]
     },
     "execution_count": 98,
     "metadata": {},
     "output_type": "execute_result"
    }
   ],
   "source": [
    "ratio_logistic_analysis.dev_set_analysis[22]"
   ]
  },
  {
   "cell_type": "markdown",
   "id": "0fb97a5e",
   "metadata": {},
   "source": [
    "## Tune SVC "
   ]
  },
  {
   "cell_type": "code",
   "execution_count": 17,
   "id": "4ed41ae9",
   "metadata": {
    "ExecuteTime": {
     "end_time": "2022-11-03T06:22:07.119859Z",
     "start_time": "2022-11-03T06:21:29.397010Z"
    }
   },
   "outputs": [
    {
     "data": {
      "text/html": [
       "<div>\n",
       "<style scoped>\n",
       "    .dataframe tbody tr th:only-of-type {\n",
       "        vertical-align: middle;\n",
       "    }\n",
       "\n",
       "    .dataframe tbody tr th {\n",
       "        vertical-align: top;\n",
       "    }\n",
       "\n",
       "    .dataframe thead th {\n",
       "        text-align: right;\n",
       "    }\n",
       "</style>\n",
       "<table border=\"1\" class=\"dataframe\">\n",
       "  <thead>\n",
       "    <tr style=\"text-align: right;\">\n",
       "      <th></th>\n",
       "      <th>True 1</th>\n",
       "      <th>True 0</th>\n",
       "    </tr>\n",
       "  </thead>\n",
       "  <tbody>\n",
       "    <tr>\n",
       "      <th>Pred 1</th>\n",
       "      <td>326</td>\n",
       "      <td>2495</td>\n",
       "    </tr>\n",
       "    <tr>\n",
       "      <th>Pred 0</th>\n",
       "      <td>84</td>\n",
       "      <td>3050</td>\n",
       "    </tr>\n",
       "  </tbody>\n",
       "</table>\n",
       "</div>"
      ],
      "text/plain": [
       "        True 1  True 0\n",
       "Pred 1     326    2495\n",
       "Pred 0      84    3050"
      ]
     },
     "metadata": {},
     "output_type": "display_data"
    },
    {
     "data": {
      "text/plain": [
       "('SVC', 3.0)"
      ]
     },
     "execution_count": 17,
     "metadata": {},
     "output_type": "execute_result"
    }
   ],
   "source": [
    "lambdas = np.linspace(0, 10, num=21)\n",
    "svcSearchBuilder = ModelGridBuilder('SVC', parameters=lambdas)\n",
    "models = svcSearchBuilder.get_models()\n",
    "\n",
    "ratio_svc_analysis = AnalysisPipeline(credit_X, credit_Y, models, roc_auc)\n",
    "ratio_svc_analysis.process_data(pca=True, split_type='set_class_prop_undersample', dev_prop=.05, class_prop_1_0=1)\n",
    "ratio_svc_analysis.fit_models(max_iterations=8000)\n",
    "# choose best model based on confusion matrix\n",
    "best_model_specs, best_model_conf_matrix = ratio_svc_analysis.test_models()\n",
    "display(best_model_conf_matrix)\n",
    "best_model_specs"
   ]
  },
  {
   "cell_type": "code",
   "execution_count": 18,
   "id": "0e0fca63",
   "metadata": {
    "ExecuteTime": {
     "end_time": "2022-11-03T06:22:07.143603Z",
     "start_time": "2022-11-03T06:22:07.122873Z"
    }
   },
   "outputs": [
    {
     "data": {
      "text/html": [
       "\n",
       "<div id=\"altair-viz-7a5a314d1dd04e359f49028af3481dc8\"></div>\n",
       "<script type=\"text/javascript\">\n",
       "  (function(spec, embedOpt){\n",
       "    let outputDiv = document.currentScript.previousElementSibling;\n",
       "    if (outputDiv.id !== \"altair-viz-7a5a314d1dd04e359f49028af3481dc8\") {\n",
       "      outputDiv = document.getElementById(\"altair-viz-7a5a314d1dd04e359f49028af3481dc8\");\n",
       "    }\n",
       "    const paths = {\n",
       "      \"vega\": \"https://cdn.jsdelivr.net/npm//vega@5?noext\",\n",
       "      \"vega-lib\": \"https://cdn.jsdelivr.net/npm//vega-lib?noext\",\n",
       "      \"vega-lite\": \"https://cdn.jsdelivr.net/npm//vega-lite@4.8.1?noext\",\n",
       "      \"vega-embed\": \"https://cdn.jsdelivr.net/npm//vega-embed@6?noext\",\n",
       "    };\n",
       "\n",
       "    function loadScript(lib) {\n",
       "      return new Promise(function(resolve, reject) {\n",
       "        var s = document.createElement('script');\n",
       "        s.src = paths[lib];\n",
       "        s.async = true;\n",
       "        s.onload = () => resolve(paths[lib]);\n",
       "        s.onerror = () => reject(`Error loading script: ${paths[lib]}`);\n",
       "        document.getElementsByTagName(\"head\")[0].appendChild(s);\n",
       "      });\n",
       "    }\n",
       "\n",
       "    function showError(err) {\n",
       "      outputDiv.innerHTML = `<div class=\"error\" style=\"color:red;\">${err}</div>`;\n",
       "      throw err;\n",
       "    }\n",
       "\n",
       "    function displayChart(vegaEmbed) {\n",
       "      vegaEmbed(outputDiv, spec, embedOpt)\n",
       "        .catch(err => showError(`Javascript Error: ${err.message}<br>This usually means there's a typo in your chart specification. See the javascript console for the full traceback.`));\n",
       "    }\n",
       "\n",
       "    if(typeof define === \"function\" && define.amd) {\n",
       "      requirejs.config({paths});\n",
       "      require([\"vega-embed\"], displayChart, err => showError(`Error loading script: ${err.message}`));\n",
       "    } else if (typeof vegaEmbed === \"function\") {\n",
       "      displayChart(vegaEmbed);\n",
       "    } else {\n",
       "      loadScript(\"vega\")\n",
       "        .then(() => loadScript(\"vega-lite\"))\n",
       "        .then(() => loadScript(\"vega-embed\"))\n",
       "        .catch(showError)\n",
       "        .then(() => displayChart(vegaEmbed));\n",
       "    }\n",
       "  })({\"config\": {\"view\": {\"continuousWidth\": 400, \"continuousHeight\": 300}}, \"data\": {\"name\": \"data-3c234b9a2c1a79dc2805a248facf7684\"}, \"mark\": \"line\", \"encoding\": {\"x\": {\"type\": \"quantitative\", \"field\": \"lambda\"}, \"y\": {\"type\": \"quantitative\", \"field\": \"ROC-AUC\"}}, \"$schema\": \"https://vega.github.io/schema/vega-lite/v4.8.1.json\", \"datasets\": {\"data-3c234b9a2c1a79dc2805a248facf7684\": [{\"lambda\": 0.0, \"ROC-AUC\": 0.6671215553454002}, {\"lambda\": 0.5, \"ROC-AUC\": 0.6701917790142735}, {\"lambda\": 1.0, \"ROC-AUC\": 0.6700114363632366}, {\"lambda\": 1.5, \"ROC-AUC\": 0.6700114363632366}, {\"lambda\": 2.0, \"ROC-AUC\": 0.6701016076887549}, {\"lambda\": 2.5, \"ROC-AUC\": 0.6713211198838769}, {\"lambda\": 3.0, \"ROC-AUC\": 0.6725835184411357}, {\"lambda\": 3.5, \"ROC-AUC\": 0.6725835184411357}, {\"lambda\": 4.0, \"ROC-AUC\": 0.6725835184411357}, {\"lambda\": 4.5, \"ROC-AUC\": 0.6725835184411357}, {\"lambda\": 5.0, \"ROC-AUC\": 0.6725835184411357}, {\"lambda\": 5.5, \"ROC-AUC\": 0.6725835184411357}, {\"lambda\": 6.0, \"ROC-AUC\": 0.6725835184411357}, {\"lambda\": 6.5, \"ROC-AUC\": 0.6725835184411357}, {\"lambda\": 7.0, \"ROC-AUC\": 0.6725835184411357}, {\"lambda\": 7.5, \"ROC-AUC\": 0.6725835184411357}, {\"lambda\": 8.0, \"ROC-AUC\": 0.6725835184411357}, {\"lambda\": 8.5, \"ROC-AUC\": 0.6725835184411357}, {\"lambda\": 9.0, \"ROC-AUC\": 0.6725835184411357}, {\"lambda\": 9.5, \"ROC-AUC\": 0.6725835184411357}, {\"lambda\": 10.0, \"ROC-AUC\": 0.6725835184411357}]}}, {\"mode\": \"vega-lite\"});\n",
       "</script>"
      ],
      "text/plain": [
       "alt.Chart(...)"
      ]
     },
     "metadata": {},
     "output_type": "display_data"
    }
   ],
   "source": [
    "plot_parameter_tuning(ratio_svc_analysis.dev_set_analysis)"
   ]
  },
  {
   "cell_type": "code",
   "execution_count": 100,
   "id": "e6a341ec",
   "metadata": {
    "ExecuteTime": {
     "end_time": "2022-11-03T07:09:10.375441Z",
     "start_time": "2022-11-03T07:09:10.371948Z"
    }
   },
   "outputs": [
    {
     "data": {
      "text/plain": [
       "(('SVC', 3.0), 0.6725835184411357)"
      ]
     },
     "execution_count": 100,
     "metadata": {},
     "output_type": "execute_result"
    }
   ],
   "source": [
    "ratio_svc_analysis.dev_set_analysis[6]"
   ]
  },
  {
   "cell_type": "markdown",
   "id": "11c901e3",
   "metadata": {},
   "source": [
    "## LDA"
   ]
  },
  {
   "cell_type": "code",
   "execution_count": 19,
   "id": "19d4a628",
   "metadata": {
    "ExecuteTime": {
     "end_time": "2022-11-03T06:22:09.396786Z",
     "start_time": "2022-11-03T06:22:07.146758Z"
    }
   },
   "outputs": [
    {
     "data": {
      "text/html": [
       "<div>\n",
       "<style scoped>\n",
       "    .dataframe tbody tr th:only-of-type {\n",
       "        vertical-align: middle;\n",
       "    }\n",
       "\n",
       "    .dataframe tbody tr th {\n",
       "        vertical-align: top;\n",
       "    }\n",
       "\n",
       "    .dataframe thead th {\n",
       "        text-align: right;\n",
       "    }\n",
       "</style>\n",
       "<table border=\"1\" class=\"dataframe\">\n",
       "  <thead>\n",
       "    <tr style=\"text-align: right;\">\n",
       "      <th></th>\n",
       "      <th>True 1</th>\n",
       "      <th>True 0</th>\n",
       "    </tr>\n",
       "  </thead>\n",
       "  <tbody>\n",
       "    <tr>\n",
       "      <th>Pred 1</th>\n",
       "      <td>270</td>\n",
       "      <td>1695</td>\n",
       "    </tr>\n",
       "    <tr>\n",
       "      <th>Pred 0</th>\n",
       "      <td>140</td>\n",
       "      <td>3850</td>\n",
       "    </tr>\n",
       "  </tbody>\n",
       "</table>\n",
       "</div>"
      ],
      "text/plain": [
       "        True 1  True 0\n",
       "Pred 1     270    1695\n",
       "Pred 0     140    3850"
      ]
     },
     "metadata": {},
     "output_type": "display_data"
    },
    {
     "data": {
      "text/plain": [
       "['LDA']"
      ]
     },
     "execution_count": 19,
     "metadata": {},
     "output_type": "execute_result"
    }
   ],
   "source": [
    "ldaSearchBuilder = ModelGridBuilder('LDA')\n",
    "models = ldaSearchBuilder.get_models()\n",
    "\n",
    "ratio_lda_analysis = AnalysisPipeline(credit_X, credit_Y, models, roc_auc)\n",
    "ratio_lda_analysis.process_data(pca=True, split_type='set_class_prop_undersample', dev_prop=.05, class_prop_1_0=1)\n",
    "ratio_lda_analysis.fit_models()\n",
    "# choose best model based on confusion matrix\n",
    "best_model_specs, best_model_conf_matrix = ratio_lda_analysis.test_models()\n",
    "display(best_model_conf_matrix)\n",
    "best_model_specs"
   ]
  },
  {
   "cell_type": "code",
   "execution_count": 105,
   "id": "12853548",
   "metadata": {
    "ExecuteTime": {
     "end_time": "2022-11-03T07:10:00.819740Z",
     "start_time": "2022-11-03T07:10:00.816256Z"
    }
   },
   "outputs": [
    {
     "data": {
      "text/plain": [
       "0.6764278959290946"
      ]
     },
     "execution_count": 105,
     "metadata": {},
     "output_type": "execute_result"
    }
   ],
   "source": [
    "ratio_lda_analysis.dev_set_analysis[0][1]"
   ]
  },
  {
   "cell_type": "markdown",
   "id": "866917e4",
   "metadata": {},
   "source": [
    "## Best Model-Train class ratio split: LDA"
   ]
  },
  {
   "cell_type": "code",
   "execution_count": 106,
   "id": "9a607bb5",
   "metadata": {
    "ExecuteTime": {
     "end_time": "2022-11-03T07:11:35.714577Z",
     "start_time": "2022-11-03T07:11:35.632704Z"
    }
   },
   "outputs": [
    {
     "name": "stdout",
     "output_type": "stream",
     "text": [
      "ALL w.r.t. TEST SET\n"
     ]
    },
    {
     "data": {
      "text/plain": [
       "'ROC-AUC: 0.6712; Accuracy: 0.7053; F-4: 0.5227; F-1: 0.2279; F-.5: 0.1647; TPAA: 0.698450'"
      ]
     },
     "execution_count": 106,
     "metadata": {},
     "output_type": "execute_result"
    }
   ],
   "source": [
    "ratio_best_model = ratio_lda_analysis.best_model\n",
    "roc = ratio_lda_analysis.testscore_best_model()\n",
    "\n",
    "_, _, _, _, test_X, test_Y = ratio_lda_analysis.processor.get_train_dev_test_sets()\n",
    "predictions = ratio_best_model.predict(test_X)\n",
    "acc = accuracy(predictions, test_Y)\n",
    "f_4 = fmeasure(predictions, test_Y, B=4)\n",
    "f_1 = fmeasure(predictions, test_Y, B=1)\n",
    "f_p5 = fmeasure(predictions, test_Y, B=.5)\n",
    "annuity = credit_X['AMT_ANNUITY'].loc[ratio_lda_analysis.processor.test_indices]\n",
    "tpaa = net_revenue(predictions, test_Y, annuity)\n",
    "print('ALL w.r.t. TEST SET')\n",
    "f'ROC-AUC: {roc:.4f}; Accuracy: {acc:.4f}; F-4: {f_4:.4f}; F-1: {f_1:.4f}; F-.5: {f_p5:.4f}; TPAA: {tpaa:.6f}'"
   ]
  },
  {
   "cell_type": "markdown",
   "id": "8f0f305e",
   "metadata": {},
   "source": [
    "# Best overall model: Class ratio-split LDA\n",
    "LDA with the class ratio (ratio = 1) split was the best model with ROC-AUC .6712 (see directly above)"
   ]
  },
  {
   "cell_type": "code",
   "execution_count": 116,
   "id": "73545cc2",
   "metadata": {
    "ExecuteTime": {
     "end_time": "2022-11-03T07:21:16.855686Z",
     "start_time": "2022-11-03T07:21:16.788195Z"
    }
   },
   "outputs": [],
   "source": [
    "# This is the missclassificaitions on the dev set for the best model\n",
    "\n",
    "ratio_best_model = ratio_lda_analysis.best_model\n",
    "\n",
    "_, _, dev_X, dev_Y, _, _ = ratio_lda_analysis.processor.get_train_dev_test_sets()\n",
    "predictions = ratio_best_model.predict(dev_X)\n",
    "missclassifications = credit_X.loc[ratio_lda_analysis.processor.dev_indices[predictions != dev_Y]]\n",
    "missclassifications.to_csv('error_analysis.csv', index=False)"
   ]
  },
  {
   "cell_type": "code",
   "execution_count": 120,
   "id": "6ce2f9b8",
   "metadata": {
    "ExecuteTime": {
     "end_time": "2022-11-03T07:24:09.319644Z",
     "start_time": "2022-11-03T07:24:08.651512Z"
    }
   },
   "outputs": [
    {
     "data": {
      "text/html": [
       "<div>\n",
       "<style scoped>\n",
       "    .dataframe tbody tr th:only-of-type {\n",
       "        vertical-align: middle;\n",
       "    }\n",
       "\n",
       "    .dataframe tbody tr th {\n",
       "        vertical-align: top;\n",
       "    }\n",
       "\n",
       "    .dataframe thead th {\n",
       "        text-align: right;\n",
       "    }\n",
       "</style>\n",
       "<table border=\"1\" class=\"dataframe\">\n",
       "  <thead>\n",
       "    <tr style=\"text-align: right;\">\n",
       "      <th></th>\n",
       "      <th>SK_ID_CURR</th>\n",
       "      <th>NAME_CONTRACT_TYPE</th>\n",
       "      <th>CODE_GENDER</th>\n",
       "      <th>FLAG_OWN_CAR</th>\n",
       "      <th>FLAG_OWN_REALTY</th>\n",
       "      <th>CNT_CHILDREN</th>\n",
       "      <th>AMT_INCOME_TOTAL</th>\n",
       "      <th>AMT_CREDIT</th>\n",
       "      <th>AMT_ANNUITY</th>\n",
       "      <th>AMT_GOODS_PRICE</th>\n",
       "      <th>...</th>\n",
       "      <th>FLAG_DOCUMENT_18</th>\n",
       "      <th>FLAG_DOCUMENT_19</th>\n",
       "      <th>FLAG_DOCUMENT_20</th>\n",
       "      <th>FLAG_DOCUMENT_21</th>\n",
       "      <th>AMT_REQ_CREDIT_BUREAU_HOUR</th>\n",
       "      <th>AMT_REQ_CREDIT_BUREAU_DAY</th>\n",
       "      <th>AMT_REQ_CREDIT_BUREAU_WEEK</th>\n",
       "      <th>AMT_REQ_CREDIT_BUREAU_MON</th>\n",
       "      <th>AMT_REQ_CREDIT_BUREAU_QRT</th>\n",
       "      <th>AMT_REQ_CREDIT_BUREAU_YEAR</th>\n",
       "    </tr>\n",
       "  </thead>\n",
       "  <tbody>\n",
       "    <tr>\n",
       "      <th>0</th>\n",
       "      <td>100001</td>\n",
       "      <td>Cash loans</td>\n",
       "      <td>F</td>\n",
       "      <td>N</td>\n",
       "      <td>Y</td>\n",
       "      <td>0</td>\n",
       "      <td>135000.0</td>\n",
       "      <td>568800.0</td>\n",
       "      <td>20560.5</td>\n",
       "      <td>450000.0</td>\n",
       "      <td>...</td>\n",
       "      <td>0</td>\n",
       "      <td>0</td>\n",
       "      <td>0</td>\n",
       "      <td>0</td>\n",
       "      <td>0.0</td>\n",
       "      <td>0.0</td>\n",
       "      <td>0.0</td>\n",
       "      <td>0.0</td>\n",
       "      <td>0.0</td>\n",
       "      <td>0.0</td>\n",
       "    </tr>\n",
       "    <tr>\n",
       "      <th>1</th>\n",
       "      <td>100005</td>\n",
       "      <td>Cash loans</td>\n",
       "      <td>M</td>\n",
       "      <td>N</td>\n",
       "      <td>Y</td>\n",
       "      <td>0</td>\n",
       "      <td>99000.0</td>\n",
       "      <td>222768.0</td>\n",
       "      <td>17370.0</td>\n",
       "      <td>180000.0</td>\n",
       "      <td>...</td>\n",
       "      <td>0</td>\n",
       "      <td>0</td>\n",
       "      <td>0</td>\n",
       "      <td>0</td>\n",
       "      <td>0.0</td>\n",
       "      <td>0.0</td>\n",
       "      <td>0.0</td>\n",
       "      <td>0.0</td>\n",
       "      <td>0.0</td>\n",
       "      <td>3.0</td>\n",
       "    </tr>\n",
       "    <tr>\n",
       "      <th>2</th>\n",
       "      <td>100013</td>\n",
       "      <td>Cash loans</td>\n",
       "      <td>M</td>\n",
       "      <td>Y</td>\n",
       "      <td>Y</td>\n",
       "      <td>0</td>\n",
       "      <td>202500.0</td>\n",
       "      <td>663264.0</td>\n",
       "      <td>69777.0</td>\n",
       "      <td>630000.0</td>\n",
       "      <td>...</td>\n",
       "      <td>0</td>\n",
       "      <td>0</td>\n",
       "      <td>0</td>\n",
       "      <td>0</td>\n",
       "      <td>0.0</td>\n",
       "      <td>0.0</td>\n",
       "      <td>0.0</td>\n",
       "      <td>0.0</td>\n",
       "      <td>1.0</td>\n",
       "      <td>4.0</td>\n",
       "    </tr>\n",
       "    <tr>\n",
       "      <th>3</th>\n",
       "      <td>100028</td>\n",
       "      <td>Cash loans</td>\n",
       "      <td>F</td>\n",
       "      <td>N</td>\n",
       "      <td>Y</td>\n",
       "      <td>2</td>\n",
       "      <td>315000.0</td>\n",
       "      <td>1575000.0</td>\n",
       "      <td>49018.5</td>\n",
       "      <td>1575000.0</td>\n",
       "      <td>...</td>\n",
       "      <td>0</td>\n",
       "      <td>0</td>\n",
       "      <td>0</td>\n",
       "      <td>0</td>\n",
       "      <td>0.0</td>\n",
       "      <td>0.0</td>\n",
       "      <td>0.0</td>\n",
       "      <td>0.0</td>\n",
       "      <td>0.0</td>\n",
       "      <td>3.0</td>\n",
       "    </tr>\n",
       "    <tr>\n",
       "      <th>4</th>\n",
       "      <td>100038</td>\n",
       "      <td>Cash loans</td>\n",
       "      <td>M</td>\n",
       "      <td>Y</td>\n",
       "      <td>N</td>\n",
       "      <td>1</td>\n",
       "      <td>180000.0</td>\n",
       "      <td>625500.0</td>\n",
       "      <td>32067.0</td>\n",
       "      <td>625500.0</td>\n",
       "      <td>...</td>\n",
       "      <td>0</td>\n",
       "      <td>0</td>\n",
       "      <td>0</td>\n",
       "      <td>0</td>\n",
       "      <td>NaN</td>\n",
       "      <td>NaN</td>\n",
       "      <td>NaN</td>\n",
       "      <td>NaN</td>\n",
       "      <td>NaN</td>\n",
       "      <td>NaN</td>\n",
       "    </tr>\n",
       "    <tr>\n",
       "      <th>...</th>\n",
       "      <td>...</td>\n",
       "      <td>...</td>\n",
       "      <td>...</td>\n",
       "      <td>...</td>\n",
       "      <td>...</td>\n",
       "      <td>...</td>\n",
       "      <td>...</td>\n",
       "      <td>...</td>\n",
       "      <td>...</td>\n",
       "      <td>...</td>\n",
       "      <td>...</td>\n",
       "      <td>...</td>\n",
       "      <td>...</td>\n",
       "      <td>...</td>\n",
       "      <td>...</td>\n",
       "      <td>...</td>\n",
       "      <td>...</td>\n",
       "      <td>...</td>\n",
       "      <td>...</td>\n",
       "      <td>...</td>\n",
       "      <td>...</td>\n",
       "    </tr>\n",
       "    <tr>\n",
       "      <th>48739</th>\n",
       "      <td>456221</td>\n",
       "      <td>Cash loans</td>\n",
       "      <td>F</td>\n",
       "      <td>N</td>\n",
       "      <td>Y</td>\n",
       "      <td>0</td>\n",
       "      <td>121500.0</td>\n",
       "      <td>412560.0</td>\n",
       "      <td>17473.5</td>\n",
       "      <td>270000.0</td>\n",
       "      <td>...</td>\n",
       "      <td>0</td>\n",
       "      <td>0</td>\n",
       "      <td>0</td>\n",
       "      <td>0</td>\n",
       "      <td>0.0</td>\n",
       "      <td>0.0</td>\n",
       "      <td>0.0</td>\n",
       "      <td>0.0</td>\n",
       "      <td>0.0</td>\n",
       "      <td>1.0</td>\n",
       "    </tr>\n",
       "    <tr>\n",
       "      <th>48740</th>\n",
       "      <td>456222</td>\n",
       "      <td>Cash loans</td>\n",
       "      <td>F</td>\n",
       "      <td>N</td>\n",
       "      <td>N</td>\n",
       "      <td>2</td>\n",
       "      <td>157500.0</td>\n",
       "      <td>622413.0</td>\n",
       "      <td>31909.5</td>\n",
       "      <td>495000.0</td>\n",
       "      <td>...</td>\n",
       "      <td>0</td>\n",
       "      <td>0</td>\n",
       "      <td>0</td>\n",
       "      <td>0</td>\n",
       "      <td>NaN</td>\n",
       "      <td>NaN</td>\n",
       "      <td>NaN</td>\n",
       "      <td>NaN</td>\n",
       "      <td>NaN</td>\n",
       "      <td>NaN</td>\n",
       "    </tr>\n",
       "    <tr>\n",
       "      <th>48741</th>\n",
       "      <td>456223</td>\n",
       "      <td>Cash loans</td>\n",
       "      <td>F</td>\n",
       "      <td>Y</td>\n",
       "      <td>Y</td>\n",
       "      <td>1</td>\n",
       "      <td>202500.0</td>\n",
       "      <td>315000.0</td>\n",
       "      <td>33205.5</td>\n",
       "      <td>315000.0</td>\n",
       "      <td>...</td>\n",
       "      <td>0</td>\n",
       "      <td>0</td>\n",
       "      <td>0</td>\n",
       "      <td>0</td>\n",
       "      <td>0.0</td>\n",
       "      <td>0.0</td>\n",
       "      <td>0.0</td>\n",
       "      <td>0.0</td>\n",
       "      <td>3.0</td>\n",
       "      <td>1.0</td>\n",
       "    </tr>\n",
       "    <tr>\n",
       "      <th>48742</th>\n",
       "      <td>456224</td>\n",
       "      <td>Cash loans</td>\n",
       "      <td>M</td>\n",
       "      <td>N</td>\n",
       "      <td>N</td>\n",
       "      <td>0</td>\n",
       "      <td>225000.0</td>\n",
       "      <td>450000.0</td>\n",
       "      <td>25128.0</td>\n",
       "      <td>450000.0</td>\n",
       "      <td>...</td>\n",
       "      <td>0</td>\n",
       "      <td>0</td>\n",
       "      <td>0</td>\n",
       "      <td>0</td>\n",
       "      <td>0.0</td>\n",
       "      <td>0.0</td>\n",
       "      <td>0.0</td>\n",
       "      <td>0.0</td>\n",
       "      <td>0.0</td>\n",
       "      <td>2.0</td>\n",
       "    </tr>\n",
       "    <tr>\n",
       "      <th>48743</th>\n",
       "      <td>456250</td>\n",
       "      <td>Cash loans</td>\n",
       "      <td>F</td>\n",
       "      <td>Y</td>\n",
       "      <td>N</td>\n",
       "      <td>0</td>\n",
       "      <td>135000.0</td>\n",
       "      <td>312768.0</td>\n",
       "      <td>24709.5</td>\n",
       "      <td>270000.0</td>\n",
       "      <td>...</td>\n",
       "      <td>0</td>\n",
       "      <td>0</td>\n",
       "      <td>0</td>\n",
       "      <td>0</td>\n",
       "      <td>0.0</td>\n",
       "      <td>0.0</td>\n",
       "      <td>0.0</td>\n",
       "      <td>0.0</td>\n",
       "      <td>1.0</td>\n",
       "      <td>4.0</td>\n",
       "    </tr>\n",
       "  </tbody>\n",
       "</table>\n",
       "<p>48744 rows × 121 columns</p>\n",
       "</div>"
      ],
      "text/plain": [
       "       SK_ID_CURR NAME_CONTRACT_TYPE CODE_GENDER FLAG_OWN_CAR FLAG_OWN_REALTY  \\\n",
       "0          100001         Cash loans           F            N               Y   \n",
       "1          100005         Cash loans           M            N               Y   \n",
       "2          100013         Cash loans           M            Y               Y   \n",
       "3          100028         Cash loans           F            N               Y   \n",
       "4          100038         Cash loans           M            Y               N   \n",
       "...           ...                ...         ...          ...             ...   \n",
       "48739      456221         Cash loans           F            N               Y   \n",
       "48740      456222         Cash loans           F            N               N   \n",
       "48741      456223         Cash loans           F            Y               Y   \n",
       "48742      456224         Cash loans           M            N               N   \n",
       "48743      456250         Cash loans           F            Y               N   \n",
       "\n",
       "       CNT_CHILDREN  AMT_INCOME_TOTAL  AMT_CREDIT  AMT_ANNUITY  \\\n",
       "0                 0          135000.0    568800.0      20560.5   \n",
       "1                 0           99000.0    222768.0      17370.0   \n",
       "2                 0          202500.0    663264.0      69777.0   \n",
       "3                 2          315000.0   1575000.0      49018.5   \n",
       "4                 1          180000.0    625500.0      32067.0   \n",
       "...             ...               ...         ...          ...   \n",
       "48739             0          121500.0    412560.0      17473.5   \n",
       "48740             2          157500.0    622413.0      31909.5   \n",
       "48741             1          202500.0    315000.0      33205.5   \n",
       "48742             0          225000.0    450000.0      25128.0   \n",
       "48743             0          135000.0    312768.0      24709.5   \n",
       "\n",
       "       AMT_GOODS_PRICE  ... FLAG_DOCUMENT_18 FLAG_DOCUMENT_19  \\\n",
       "0             450000.0  ...                0                0   \n",
       "1             180000.0  ...                0                0   \n",
       "2             630000.0  ...                0                0   \n",
       "3            1575000.0  ...                0                0   \n",
       "4             625500.0  ...                0                0   \n",
       "...                ...  ...              ...              ...   \n",
       "48739         270000.0  ...                0                0   \n",
       "48740         495000.0  ...                0                0   \n",
       "48741         315000.0  ...                0                0   \n",
       "48742         450000.0  ...                0                0   \n",
       "48743         270000.0  ...                0                0   \n",
       "\n",
       "      FLAG_DOCUMENT_20 FLAG_DOCUMENT_21 AMT_REQ_CREDIT_BUREAU_HOUR  \\\n",
       "0                    0                0                        0.0   \n",
       "1                    0                0                        0.0   \n",
       "2                    0                0                        0.0   \n",
       "3                    0                0                        0.0   \n",
       "4                    0                0                        NaN   \n",
       "...                ...              ...                        ...   \n",
       "48739                0                0                        0.0   \n",
       "48740                0                0                        NaN   \n",
       "48741                0                0                        0.0   \n",
       "48742                0                0                        0.0   \n",
       "48743                0                0                        0.0   \n",
       "\n",
       "       AMT_REQ_CREDIT_BUREAU_DAY  AMT_REQ_CREDIT_BUREAU_WEEK  \\\n",
       "0                            0.0                         0.0   \n",
       "1                            0.0                         0.0   \n",
       "2                            0.0                         0.0   \n",
       "3                            0.0                         0.0   \n",
       "4                            NaN                         NaN   \n",
       "...                          ...                         ...   \n",
       "48739                        0.0                         0.0   \n",
       "48740                        NaN                         NaN   \n",
       "48741                        0.0                         0.0   \n",
       "48742                        0.0                         0.0   \n",
       "48743                        0.0                         0.0   \n",
       "\n",
       "       AMT_REQ_CREDIT_BUREAU_MON  AMT_REQ_CREDIT_BUREAU_QRT  \\\n",
       "0                            0.0                        0.0   \n",
       "1                            0.0                        0.0   \n",
       "2                            0.0                        1.0   \n",
       "3                            0.0                        0.0   \n",
       "4                            NaN                        NaN   \n",
       "...                          ...                        ...   \n",
       "48739                        0.0                        0.0   \n",
       "48740                        NaN                        NaN   \n",
       "48741                        0.0                        3.0   \n",
       "48742                        0.0                        0.0   \n",
       "48743                        0.0                        1.0   \n",
       "\n",
       "       AMT_REQ_CREDIT_BUREAU_YEAR  \n",
       "0                             0.0  \n",
       "1                             3.0  \n",
       "2                             4.0  \n",
       "3                             3.0  \n",
       "4                             NaN  \n",
       "...                           ...  \n",
       "48739                         1.0  \n",
       "48740                         NaN  \n",
       "48741                         1.0  \n",
       "48742                         2.0  \n",
       "48743                         4.0  \n",
       "\n",
       "[48744 rows x 121 columns]"
      ]
     },
     "execution_count": 120,
     "metadata": {},
     "output_type": "execute_result"
    }
   ],
   "source": [
    "to_predict = pd.read_csv('cleaned_test_data.csv')\n",
    "to_predict\n",
    "pd.read_csv('application_test.csv')"
   ]
  }
 ],
 "metadata": {
  "kernelspec": {
   "display_name": "Python 3",
   "language": "python",
   "name": "python3"
  },
  "language_info": {
   "codemirror_mode": {
    "name": "ipython",
    "version": 3
   },
   "file_extension": ".py",
   "mimetype": "text/x-python",
   "name": "python",
   "nbconvert_exporter": "python",
   "pygments_lexer": "ipython3",
   "version": "3.8.8"
  }
 },
 "nbformat": 4,
 "nbformat_minor": 5
}
