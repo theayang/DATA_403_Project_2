{
 "cells": [
  {
   "cell_type": "code",
   "execution_count": 1,
   "id": "555e0ee5",
   "metadata": {
    "ExecuteTime": {
     "end_time": "2022-11-03T05:19:56.385277Z",
     "start_time": "2022-11-03T05:19:55.494302Z"
    }
   },
   "outputs": [],
   "source": [
    "# Our code imports\n",
    "from Models import Model\n",
    "from Metrics import accuracy, fmeasure, roc_auc, confusion_matrix\n",
    "from Processing import Processor\n",
    "from Pipelines import ModelGridBuilder, AnalysisPipeline\n",
    "\n",
    "# Standard lib imports\n",
    "import pandas as pd\n",
    "import numpy as np\n",
    "from sklearn.decomposition import PCA\n",
    "\n",
    "import altair as alt"
   ]
  },
  {
   "cell_type": "code",
   "execution_count": 2,
   "id": "1cc050ba",
   "metadata": {
    "ExecuteTime": {
     "end_time": "2022-11-03T05:19:56.996573Z",
     "start_time": "2022-11-03T05:19:56.387319Z"
    }
   },
   "outputs": [],
   "source": [
    "credit = pd.read_csv('cleaned_training_data.csv')\n",
    "credit_X = credit.drop(columns='TARGET')\n",
    "credit_Y = credit['TARGET']"
   ]
  },
  {
   "cell_type": "code",
   "execution_count": 3,
   "id": "d1f264cf",
   "metadata": {
    "ExecuteTime": {
     "end_time": "2022-11-03T05:19:57.002623Z",
     "start_time": "2022-11-03T05:19:56.999051Z"
    }
   },
   "outputs": [],
   "source": [
    "def plot_parameter_tuning(dev_set_analysis):\n",
    "    lambdas = [x[0][1] for x in dev_set_analysis]\n",
    "    roc = [x[1] for x in dev_set_analysis]\n",
    "    data = pd.DataFrame({\n",
    "        'lambda': lambdas,\n",
    "        'ROC-AUC': roc\n",
    "    })\n",
    "    display(alt.Chart(data).mark_line().encode(\n",
    "        x='lambda',\n",
    "        y='ROC-AUC'\n",
    "    ))"
   ]
  },
  {
   "cell_type": "markdown",
   "id": "6a07a977",
   "metadata": {},
   "source": [
    "# Random Split"
   ]
  },
  {
   "cell_type": "markdown",
   "id": "a8f104df",
   "metadata": {},
   "source": [
    "## Tune Logistic Regression w/ Lasso lambda"
   ]
  },
  {
   "cell_type": "code",
   "execution_count": null,
   "id": "bd483983",
   "metadata": {
    "ExecuteTime": {
     "start_time": "2022-11-03T05:19:55.496Z"
    }
   },
   "outputs": [],
   "source": [
    "lambdas = np.linspace(0, 100, num=26)\n",
    "\n",
    "logisticSearchBuilder = ModelGridBuilder('Logistic Lasso', parameters=lambdas)\n",
    "models = logisticSearchBuilder.get_models()\n",
    "\n",
    "random_logistic_analysis = AnalysisPipeline(credit_X, credit_Y, models, roc_auc)\n",
    "random_logistic_analysis.process_data(pca=True, split_type='random', train_prop=.8, dev_prop=.1)\n",
    "random_logistic_analysis.fit_models(max_iterations=8000)\n",
    "# choose best model based on confusion matrix\n",
    "best_model_specs, best_model_conf_matrix = random_logistic_analysis.test_models()\n",
    "display(best_model_conf_matrix)\n",
    "best_model_specs"
   ]
  },
  {
   "cell_type": "code",
   "execution_count": null,
   "id": "36f3f496",
   "metadata": {
    "ExecuteTime": {
     "start_time": "2022-11-03T05:19:55.497Z"
    }
   },
   "outputs": [],
   "source": [
    "plot_parameter_tuning(random_logistic_analysis.dev_set_analysis)"
   ]
  },
  {
   "cell_type": "markdown",
   "id": "ab2531b9",
   "metadata": {},
   "source": [
    "## Tune SVC"
   ]
  },
  {
   "cell_type": "code",
   "execution_count": null,
   "id": "2d02d6d1",
   "metadata": {
    "ExecuteTime": {
     "start_time": "2022-11-03T05:19:55.498Z"
    }
   },
   "outputs": [],
   "source": [
    "lambdas = np.linspace(0, 10, num=21)\n",
    "svcSearchBuilder = ModelGridBuilder('SVC', parameters=lambdas)\n",
    "models = svcSearchBuilder.get_models()\n",
    "\n",
    "random_svc_analysis = AnalysisPipeline(credit_X, credit_Y, models, roc_auc)\n",
    "random_svc_analysis.process_data(pca=True, split_type='random', train_prop=.8, dev_prop=.1)\n",
    "random_svc_analysis.fit_models(max_iterations=8000)\n",
    "# choose best model based on confusion matrix\n",
    "best_model_specs, best_model_conf_matrix = random_svc_analysis.test_models()\n",
    "display(best_model_conf_matrix)\n",
    "best_model_specs"
   ]
  },
  {
   "cell_type": "code",
   "execution_count": null,
   "id": "ba0a7ece",
   "metadata": {
    "ExecuteTime": {
     "start_time": "2022-11-03T05:19:55.499Z"
    }
   },
   "outputs": [],
   "source": [
    "plot_parameter_tuning(random_svc_analysis.dev_set_analysis)"
   ]
  },
  {
   "cell_type": "markdown",
   "id": "b3f0cb00",
   "metadata": {},
   "source": [
    "## Test LDA"
   ]
  },
  {
   "cell_type": "code",
   "execution_count": null,
   "id": "8fe71621",
   "metadata": {
    "ExecuteTime": {
     "start_time": "2022-11-03T05:19:55.500Z"
    }
   },
   "outputs": [],
   "source": [
    "ldaSearchBuilder = ModelGridBuilder('LDA')\n",
    "models = ldaSearchBuilder.get_models()\n",
    "\n",
    "random_lda_analysis = AnalysisPipeline(credit_X, credit_Y, models, roc_auc)\n",
    "random_lda_analysis.process_data(pca=True, split_type='random', train_prop=.8, dev_prop=.1)\n",
    "random_lda_analysis.fit_models()\n",
    "# choose best model based on confusion matrix\n",
    "best_model_specs, best_model_conf_matrix = random_lda_analysis.test_models()\n",
    "display(best_model_conf_matrix)\n",
    "best_model_specs"
   ]
  },
  {
   "cell_type": "code",
   "execution_count": null,
   "id": "12b79aa3",
   "metadata": {
    "ExecuteTime": {
     "start_time": "2022-11-03T05:19:55.501Z"
    }
   },
   "outputs": [],
   "source": [
    "plot_parameter_tuning(random_lda_analysis.dev_set_analysis)"
   ]
  },
  {
   "cell_type": "markdown",
   "id": "3ed123af",
   "metadata": {},
   "source": [
    "# Stratified Split"
   ]
  },
  {
   "cell_type": "markdown",
   "id": "4e8f14e3",
   "metadata": {},
   "source": [
    "## Tune Logistic w/ Lasso"
   ]
  },
  {
   "cell_type": "code",
   "execution_count": null,
   "id": "c43138d8",
   "metadata": {
    "ExecuteTime": {
     "start_time": "2022-11-03T05:19:55.502Z"
    }
   },
   "outputs": [],
   "source": [
    "lambdas = np.linspace(0, 50, num=26)\n",
    "\n",
    "logisticSearchBuilder = ModelGridBuilder('Logistic Lasso', parameters=lambdas)\n",
    "models = logisticSearchBuilder.get_models()\n",
    "\n",
    "stratified_logistic_analysis = AnalysisPipeline(credit_X, credit_Y, models, roc_auc)\n",
    "stratified_logistic_analysis.process_data(pca=True, split_type='stratified_class', train_prop=.8, dev_prop=.1)\n",
    "stratified_logistic_analysis.fit_models(max_iterations=8000)\n",
    "# choose best model based on confusion matrix\n",
    "best_model_specs, best_model_conf_matrix = stratified_logistic_analysis.test_models()\n",
    "display(best_model_conf_matrix)\n",
    "best_model_specs"
   ]
  },
  {
   "cell_type": "code",
   "execution_count": null,
   "id": "56c80c28",
   "metadata": {
    "ExecuteTime": {
     "start_time": "2022-11-03T05:19:55.503Z"
    }
   },
   "outputs": [],
   "source": [
    "plot_parameter_tuning(stratified_logistic_analysis.dev_set_analysis)"
   ]
  },
  {
   "cell_type": "markdown",
   "id": "71b953a2",
   "metadata": {},
   "source": [
    "## Tune SVC"
   ]
  },
  {
   "cell_type": "code",
   "execution_count": null,
   "id": "f399e03d",
   "metadata": {
    "ExecuteTime": {
     "start_time": "2022-11-03T05:19:55.504Z"
    }
   },
   "outputs": [],
   "source": [
    "lambdas = np.linspace(0, 10, num=21)\n",
    "svcSearchBuilder = ModelGridBuilder('SVC', parameters=lambdas)\n",
    "models = svcSearchBuilder.get_models()\n",
    "\n",
    "stratified_svc_analysis = AnalysisPipeline(credit_X, credit_Y, models, roc_auc)\n",
    "stratified_svc_analysis.process_data(pca=True, split_type='stratified_class', train_prop=.8, dev_prop=.1)\n",
    "stratified_svc_analysis.fit_models(max_iterations=8000)\n",
    "# choose best model based on confusion matrix\n",
    "best_model_specs, best_model_conf_matrix = stratified_svc_analysis.test_models()\n",
    "display(best_model_conf_matrix)\n",
    "best_model_specs"
   ]
  },
  {
   "cell_type": "code",
   "execution_count": null,
   "id": "fb4ea342",
   "metadata": {
    "ExecuteTime": {
     "start_time": "2022-11-03T05:19:55.505Z"
    }
   },
   "outputs": [],
   "source": [
    "plot_parameter_tuning(stratified_svc_analysis.dev_set_analysis)"
   ]
  },
  {
   "cell_type": "markdown",
   "id": "54c0072c",
   "metadata": {},
   "source": [
    "## LDA"
   ]
  },
  {
   "cell_type": "code",
   "execution_count": null,
   "id": "26640b75",
   "metadata": {
    "ExecuteTime": {
     "start_time": "2022-11-03T05:19:55.506Z"
    }
   },
   "outputs": [],
   "source": [
    "ldaSearchBuilder = ModelGridBuilder('LDA')\n",
    "models = ldaSearchBuilder.get_models()\n",
    "\n",
    "stratified_lda_analysis = AnalysisPipeline(credit_X, credit_Y, models, roc_auc)\n",
    "stratified_lda_analysis.process_data(pca=True, split_type='stratified_class', train_prop=.8, dev_prop=.1)\n",
    "stratified_lda_analysis.fit_models()\n",
    "# choose best model based on confusion matrix\n",
    "best_model_specs, best_model_conf_matrix = stratified_lda_analysis.test_models()\n",
    "display(best_model_conf_matrix)\n",
    "best_model_specs"
   ]
  },
  {
   "cell_type": "code",
   "execution_count": null,
   "id": "2091de76",
   "metadata": {
    "ExecuteTime": {
     "start_time": "2022-11-03T05:19:55.507Z"
    }
   },
   "outputs": [],
   "source": [
    "plot_parameter_tuning(random_lda_analysis.dev_set_analysis)"
   ]
  },
  {
   "cell_type": "markdown",
   "id": "f1fae8bb",
   "metadata": {},
   "source": [
    "# Set training class ratio split"
   ]
  },
  {
   "cell_type": "markdown",
   "id": "02de6e91",
   "metadata": {},
   "source": [
    "## Tune Logistic Lasso"
   ]
  },
  {
   "cell_type": "code",
   "execution_count": null,
   "id": "00cf42e8",
   "metadata": {
    "ExecuteTime": {
     "start_time": "2022-11-03T05:19:55.509Z"
    }
   },
   "outputs": [],
   "source": [
    "lambdas = np.linspace(0, 50, num=26)\n",
    "\n",
    "logisticSearchBuilder = ModelGridBuilder('Logistic Lasso', parameters=lambdas)\n",
    "models = logisticSearchBuilder.get_models()\n",
    "\n",
    "ratio_logistic_analysis = AnalysisPipeline(credit_X, credit_Y, models, roc_auc)\n",
    "ratio_logistic_analysis.process_data(pca=True, split_type='set_class_prop_undersample', dev_prop=.05, class_prop_1_0=1)\n",
    "ratio_logistic_analysis.fit_models(max_iterations=8000)\n",
    "# choose best model based on confusion matrix\n",
    "best_model_specs, best_model_conf_matrix = ratio_logistic_analysis.test_models()\n",
    "display(best_model_conf_matrix)\n",
    "best_model_specs"
   ]
  },
  {
   "cell_type": "code",
   "execution_count": null,
   "id": "7d822795",
   "metadata": {
    "ExecuteTime": {
     "start_time": "2022-11-03T05:19:55.510Z"
    }
   },
   "outputs": [],
   "source": [
    "plot_parameter_tuning(ratio_logistic_analysis.dev_set_analysis)"
   ]
  },
  {
   "cell_type": "markdown",
   "id": "91233dfc",
   "metadata": {},
   "source": [
    "## Tune SVC "
   ]
  },
  {
   "cell_type": "code",
   "execution_count": null,
   "id": "705a8c7c",
   "metadata": {
    "ExecuteTime": {
     "start_time": "2022-11-03T05:19:55.511Z"
    }
   },
   "outputs": [],
   "source": [
    "lambdas = np.linspace(0, 10, num=21)\n",
    "svcSearchBuilder = ModelGridBuilder('SVC', parameters=lambdas)\n",
    "models = svcSearchBuilder.get_models()\n",
    "\n",
    "ratio_svc_analysis = AnalysisPipeline(credit_X, credit_Y, models, roc_auc)\n",
    "ratio_svc_analysis.process_data(pca=True, split_type='set_class_prop_undersample', dev_prop=.05, class_prop_1_0=1)\n",
    "ratio_svc_analysis.fit_models(max_iterations=8000)\n",
    "# choose best model based on confusion matrix\n",
    "best_model_specs, best_model_conf_matrix = ratio_svc_analysis.test_models()\n",
    "display(best_model_conf_matrix)\n",
    "best_model_specs"
   ]
  },
  {
   "cell_type": "code",
   "execution_count": null,
   "id": "2c39684f",
   "metadata": {
    "ExecuteTime": {
     "start_time": "2022-11-03T05:19:55.512Z"
    }
   },
   "outputs": [],
   "source": [
    "plot_parameter_tuning(ratio_svc_analysis.dev_set_analysis)"
   ]
  },
  {
   "cell_type": "markdown",
   "id": "9692f503",
   "metadata": {},
   "source": [
    "## LDA"
   ]
  },
  {
   "cell_type": "code",
   "execution_count": null,
   "id": "d1a52172",
   "metadata": {
    "ExecuteTime": {
     "start_time": "2022-11-03T05:19:55.513Z"
    }
   },
   "outputs": [],
   "source": [
    "ldaSearchBuilder = ModelGridBuilder('LDA')\n",
    "models = ldaSearchBuilder.get_models()\n",
    "\n",
    "ratio_lda_analysis = AnalysisPipeline(credit_X, credit_Y, models, roc_auc)\n",
    "ratio_lda_analysis.process_data(pca=True, split_type='set_class_prop_undersample', dev_prop=.05, class_prop_1_0=1)\n",
    "ratio_lda_analysis.fit_models()\n",
    "# choose best model based on confusion matrix\n",
    "best_model_specs, best_model_conf_matrix = ratio_lda_analysis.test_models()\n",
    "display(best_model_conf_matrix)\n",
    "best_model_specs"
   ]
  },
  {
   "cell_type": "code",
   "execution_count": null,
   "id": "5977575a",
   "metadata": {
    "ExecuteTime": {
     "start_time": "2022-11-03T05:19:55.514Z"
    }
   },
   "outputs": [],
   "source": [
    "plot_parameter_tuning(ratio_lda_analysis.dev_set_analysis)"
   ]
  }
 ],
 "metadata": {
  "kernelspec": {
   "display_name": "Python 3",
   "language": "python",
   "name": "python3"
  },
  "language_info": {
   "codemirror_mode": {
    "name": "ipython",
    "version": 3
   },
   "file_extension": ".py",
   "mimetype": "text/x-python",
   "name": "python",
   "nbconvert_exporter": "python",
   "pygments_lexer": "ipython3",
   "version": "3.8.8"
  }
 },
 "nbformat": 4,
 "nbformat_minor": 5
}
