{
 "cells": [
  {
   "cell_type": "code",
   "execution_count": 1,
   "id": "c56eb18d",
   "metadata": {
    "ExecuteTime": {
     "end_time": "2022-10-25T03:37:17.240710Z",
     "start_time": "2022-10-25T03:37:16.730334Z"
    }
   },
   "outputs": [],
   "source": [
    "from Models import Model\n",
    "from Metrics import compute_metrics\n",
    "import pandas as pd\n",
    "import numpy as np"
   ]
  },
  {
   "cell_type": "code",
   "execution_count": 2,
   "id": "0ccf81f6",
   "metadata": {
    "ExecuteTime": {
     "end_time": "2022-10-25T03:37:19.702156Z",
     "start_time": "2022-10-25T03:37:18.212790Z"
    }
   },
   "outputs": [],
   "source": [
    "heart = pd.read_csv('https://www.dropbox.com/s/jpnyx41u7wpa41m/heart_attack_clean.csv?dl=1')\n",
    "heart_X = heart.drop(columns=['output'])\n",
    "heart_X['B0'] = 1\n",
    "heart_X = heart_X[['B0'] + list(heart_X.drop(columns='B0').columns)]\n",
    "heart_X = heart_X.to_numpy()\n",
    "heart_Y = heart['output'].to_numpy()"
   ]
  },
  {
   "cell_type": "markdown",
   "id": "5620e065",
   "metadata": {},
   "source": [
    "**Test Logistic**"
   ]
  },
  {
   "cell_type": "code",
   "execution_count": 3,
   "id": "aa424809",
   "metadata": {
    "ExecuteTime": {
     "end_time": "2022-10-25T03:28:25.199846Z",
     "start_time": "2022-10-25T03:28:25.195157Z"
    }
   },
   "outputs": [],
   "source": [
    "logistic = Model('Logistic')\n",
    "logistic.fit(heart_X, heart_Y, etas=[.01], show_iter=False)"
   ]
  },
  {
   "cell_type": "code",
   "execution_count": 4,
   "id": "bbc92889",
   "metadata": {
    "ExecuteTime": {
     "end_time": "2022-10-25T03:28:25.211717Z",
     "start_time": "2022-10-25T03:28:25.202327Z"
    }
   },
   "outputs": [
    {
     "data": {
      "text/plain": [
       "array([ 0.43049373, -0.24494049, -0.35145458, -0.30755228,  0.80157621,\n",
       "        1.32409691, -0.89360318, -1.44110098,  0.80462346,  0.59638294,\n",
       "        0.47058831,  0.14408393,  0.48099673, -0.19458693])"
      ]
     },
     "execution_count": 4,
     "metadata": {},
     "output_type": "execute_result"
    }
   ],
   "source": [
    "logistic.coef_"
   ]
  },
  {
   "cell_type": "code",
   "execution_count": 7,
   "id": "cf90cd22",
   "metadata": {
    "ExecuteTime": {
     "end_time": "2022-10-25T03:28:41.733954Z",
     "start_time": "2022-10-25T03:28:41.727551Z"
    }
   },
   "outputs": [
    {
     "name": "stdout",
     "output_type": "stream",
     "text": [
      "Accuracy: 0.799; Precision: 0.801; Recall: 0.829; f1: 0.815; ROC-AUC: 0.796\n"
     ]
    }
   ],
   "source": [
    "compute_metrics(logistic.predict(heart_X), heart_Y)"
   ]
  },
  {
   "cell_type": "markdown",
   "id": "b599eecc",
   "metadata": {},
   "source": [
    "**Test Logistic Lasso**"
   ]
  },
  {
   "cell_type": "code",
   "execution_count": 9,
   "id": "00dc65f3",
   "metadata": {
    "ExecuteTime": {
     "end_time": "2022-10-25T03:29:59.209407Z",
     "start_time": "2022-10-25T03:29:48.841636Z"
    }
   },
   "outputs": [
    {
     "name": "stdout",
     "output_type": "stream",
     "text": [
      "Eta: 0.1; Iterations: 75000\n",
      "Eta: 0.01; Iterations: 75000\n",
      "Eta: 0.001; Iterations: 75000\n",
      "Gradient converged w/ 1999 iterations and eta = 0.0001\n"
     ]
    }
   ],
   "source": [
    "logistic_lasso = Model('Logistic Lasso', lamb=1)\n",
    "logistic_lasso.fit(heart_X, heart_Y)"
   ]
  },
  {
   "cell_type": "code",
   "execution_count": 11,
   "id": "8f6d9958",
   "metadata": {
    "ExecuteTime": {
     "end_time": "2022-10-25T03:30:32.681627Z",
     "start_time": "2022-10-25T03:30:32.677841Z"
    }
   },
   "outputs": [
    {
     "data": {
      "text/plain": [
       "array([ 0.51786504, -0.24378054, -0.32628711, -0.28039243,  0.75477116,\n",
       "        1.11543986, -0.79737482, -1.33575536,  0.5307092 ,  0.57387384,\n",
       "        0.14963736,  0.00987222,  0.35943055, -0.25103774])"
      ]
     },
     "execution_count": 11,
     "metadata": {},
     "output_type": "execute_result"
    }
   ],
   "source": [
    "logistic_lasso.coef_"
   ]
  },
  {
   "cell_type": "code",
   "execution_count": 13,
   "id": "bedfb77a",
   "metadata": {
    "ExecuteTime": {
     "end_time": "2022-10-25T03:31:03.625501Z",
     "start_time": "2022-10-25T03:31:03.621078Z"
    }
   },
   "outputs": [
    {
     "name": "stdout",
     "output_type": "stream",
     "text": [
      "Accuracy: 0.802; Precision: 0.799; Recall: 0.842; f1: 0.82; ROC-AUC: 0.799\n"
     ]
    }
   ],
   "source": [
    "compute_metrics(logistic_lasso.predict(heart_X), heart_Y)"
   ]
  },
  {
   "cell_type": "markdown",
   "id": "3e8fb626",
   "metadata": {},
   "source": [
    "**Test SVC**"
   ]
  },
  {
   "cell_type": "code",
   "execution_count": 14,
   "id": "fe2732ab",
   "metadata": {
    "ExecuteTime": {
     "end_time": "2022-10-25T03:33:47.558794Z",
     "start_time": "2022-10-25T03:33:47.473396Z"
    }
   },
   "outputs": [
    {
     "name": "stdout",
     "output_type": "stream",
     "text": [
      "Eta: 0.1; Iterations: 1206\n",
      "Gradient converged w/ 123 iterations and eta = 0.01\n"
     ]
    }
   ],
   "source": [
    "svc = Model('SVC', lamb=1)\n",
    "svc.fit(heart_X, heart_Y)"
   ]
  },
  {
   "cell_type": "code",
   "execution_count": 16,
   "id": "18155399",
   "metadata": {
    "ExecuteTime": {
     "end_time": "2022-10-25T03:34:32.579336Z",
     "start_time": "2022-10-25T03:34:32.574416Z"
    }
   },
   "outputs": [
    {
     "name": "stdout",
     "output_type": "stream",
     "text": [
      "Accuracy: 0.736; Precision: 0.768; Recall: 0.726; f1: 0.746; ROC-AUC: 0.737\n"
     ]
    }
   ],
   "source": [
    "compute_metrics(svc.predict(heart_X), heart_Y)"
   ]
  },
  {
   "cell_type": "markdown",
   "id": "d6c97b59",
   "metadata": {},
   "source": [
    "**Test LDA**"
   ]
  },
  {
   "cell_type": "code",
   "execution_count": 4,
   "id": "ec6b64f6",
   "metadata": {
    "ExecuteTime": {
     "end_time": "2022-10-25T03:37:27.342647Z",
     "start_time": "2022-10-25T03:37:27.332027Z"
    }
   },
   "outputs": [
    {
     "data": {
      "text/plain": [
       "(array([-0.22330363, -0.31878649, -0.24470013,  0.7353733 ,  7.5546875 ,\n",
       "         6.1640625 , -1.96484375,  0.98828125,  0.77734375,  0.58984375,\n",
       "         2.625     ,  3.1875    ,  2.0625    ]),\n",
       " 8.796416881801354)"
      ]
     },
     "execution_count": 4,
     "metadata": {},
     "output_type": "execute_result"
    }
   ],
   "source": [
    "lda = Model('LDA')\n",
    "lda.fit(heart_X, heart_Y)\n",
    "lda.coef_"
   ]
  },
  {
   "cell_type": "code",
   "execution_count": 6,
   "id": "154b6fc8",
   "metadata": {
    "ExecuteTime": {
     "end_time": "2022-10-25T03:38:02.844827Z",
     "start_time": "2022-10-25T03:38:02.839310Z"
    }
   },
   "outputs": [
    {
     "name": "stdout",
     "output_type": "stream",
     "text": [
      "Accuracy: 0.78; Precision: 0.803; Recall: 0.781; f1: 0.792; ROC-AUC: 0.78\n"
     ]
    }
   ],
   "source": [
    "compute_metrics(lda.predict(heart_X), heart_Y)"
   ]
  }
 ],
 "metadata": {
  "kernelspec": {
   "display_name": "Python 3",
   "language": "python",
   "name": "python3"
  },
  "language_info": {
   "codemirror_mode": {
    "name": "ipython",
    "version": 3
   },
   "file_extension": ".py",
   "mimetype": "text/x-python",
   "name": "python",
   "nbconvert_exporter": "python",
   "pygments_lexer": "ipython3",
   "version": "3.8.8"
  }
 },
 "nbformat": 4,
 "nbformat_minor": 5
}
