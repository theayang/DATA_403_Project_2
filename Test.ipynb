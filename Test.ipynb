{
 "cells": [
  {
   "cell_type": "code",
   "execution_count": 1,
   "id": "c56eb18d",
   "metadata": {
    "ExecuteTime": {
     "end_time": "2022-10-30T23:16:31.453300Z",
     "start_time": "2022-10-30T23:16:30.549634Z"
    }
   },
   "outputs": [],
   "source": [
    "# Our code imports\n",
    "from Models import Model\n",
    "from Metrics import accuracy, fmeasure, roc_auc\n",
    "from Processing import Processor\n",
    "from Pipelines import ModelGridBuilder, AnalysisPipeline\n",
    "\n",
    "# Standard lib imports\n",
    "import pandas as pd\n",
    "import numpy as np\n",
    "from sklearn.linear_model import LogisticRegression\n",
    "from sklearn.svm import SVC\n",
    "from sklearn.discriminant_analysis import LinearDiscriminantAnalysis\n",
    "from sklearn.cluster import KMeans"
   ]
  },
  {
   "cell_type": "markdown",
   "id": "e46a3b0e",
   "metadata": {},
   "source": [
    "# General Testing"
   ]
  },
  {
   "cell_type": "code",
   "execution_count": 2,
   "id": "2f249075",
   "metadata": {
    "ExecuteTime": {
     "end_time": "2022-10-30T23:16:32.531034Z",
     "start_time": "2022-10-30T23:16:31.867292Z"
    }
   },
   "outputs": [],
   "source": [
    "heart = pd.read_csv('https://www.dropbox.com/s/jpnyx41u7wpa41m/heart_attack_clean.csv?dl=1')\n",
    "heart_X = heart.drop(columns='output')\n",
    "heart_Y = heart['output']"
   ]
  },
  {
   "cell_type": "code",
   "execution_count": 3,
   "id": "91243211",
   "metadata": {
    "ExecuteTime": {
     "end_time": "2022-10-30T23:18:16.409515Z",
     "start_time": "2022-10-30T23:16:35.345939Z"
    }
   },
   "outputs": [],
   "source": [
    "logisticSearchBuilder = ModelGridBuilder('Logistic Lasso', parameters=[.25, .5, 1, 1.5, 2])\n",
    "svcSearchBuilder = ModelGridBuilder('SVC', parameters=[.25, .5, 1, 1.5, 2])\n",
    "ldaSearchBuilder = ModelGridBuilder('LDA')\n",
    "models = logisticSearchBuilder.get_models() + svcSearchBuilder.get_models() + ldaSearchBuilder.get_models()\n",
    "\n",
    "modelAnalysis = AnalysisPipeline(heart_X, heart_Y, models, roc_auc)\n",
    "modelAnalysis.process_data(split_type='random', train_prop=.8, dev_prop=.1)\n",
    "modelAnalysis.fit_models()"
   ]
  },
  {
   "cell_type": "code",
   "execution_count": null,
   "id": "d38f31de",
   "metadata": {},
   "outputs": [],
   "source": [
    "modelAnalysis"
   ]
  },
  {
   "cell_type": "code",
   "execution_count": 4,
   "id": "6dafeacf",
   "metadata": {
    "ExecuteTime": {
     "end_time": "2022-10-30T23:18:16.446843Z",
     "start_time": "2022-10-30T23:18:16.411890Z"
    }
   },
   "outputs": [
    {
     "data": {
      "text/plain": [
       "((218, 14), (28, 14), (27, 14), (218,), (28,), (27,))"
      ]
     },
     "execution_count": 4,
     "metadata": {},
     "output_type": "execute_result"
    }
   ],
   "source": [
    "# Declare a processor object\n",
    "processor = Processor(heart_X, heart_Y)\n",
    "# Standardize dummify, and pad with B0. Numeric data is infered if no column names provided\n",
    "processor.process_data(numeric=[])\n",
    "# Grab train, dev, and test set indices\n",
    "processor.calculate_train_dev_test_split()\n",
    "train_X, train_Y, dev_X, dev_Y, test_X, test_Y = processor.get_train_dev_test_sets(ret_numpy=True)\n",
    "train_X.shape, dev_X.shape, test_X.shape, train_Y.shape, dev_Y.shape, test_Y.shape"
   ]
  },
  {
   "cell_type": "markdown",
   "id": "5620e065",
   "metadata": {},
   "source": [
    "**Test Logistic**"
   ]
  },
  {
   "cell_type": "code",
   "execution_count": 5,
   "id": "aa424809",
   "metadata": {
    "ExecuteTime": {
     "end_time": "2022-10-30T23:18:16.455550Z",
     "start_time": "2022-10-30T23:18:16.449974Z"
    }
   },
   "outputs": [
    {
     "name": "stdout",
     "output_type": "stream",
     "text": [
      "Gradient converged w/ 26 iterations and eta = 0.01\n"
     ]
    }
   ],
   "source": [
    "logistic = Model('Logistic')\n",
    "logistic.fit(train_X, train_Y, etas=[.01])"
   ]
  },
  {
   "cell_type": "code",
   "execution_count": 29,
   "id": "bbc92889",
   "metadata": {
    "ExecuteTime": {
     "end_time": "2022-10-27T20:16:36.936049Z",
     "start_time": "2022-10-27T20:16:36.932362Z"
    }
   },
   "outputs": [
    {
     "data": {
      "text/plain": [
       "array([ 0.43049373, -0.24494049, -0.35145458, -0.30755228,  0.80157621,\n",
       "        1.32409691, -0.89360318, -1.44110098,  0.80462346,  0.59638294,\n",
       "        0.47058831,  0.14408393,  0.48099673, -0.19458693])"
      ]
     },
     "execution_count": 29,
     "metadata": {},
     "output_type": "execute_result"
    }
   ],
   "source": [
    "logistic.coef_"
   ]
  },
  {
   "cell_type": "code",
   "execution_count": 21,
   "id": "cf90cd22",
   "metadata": {
    "ExecuteTime": {
     "end_time": "2022-10-27T20:12:03.849264Z",
     "start_time": "2022-10-27T20:12:03.844091Z"
    }
   },
   "outputs": [
    {
     "name": "stdout",
     "output_type": "stream",
     "text": [
      "Accuracy: 0.799; Precision: 0.801; Recall: 0.829; f1: 0.815; ROC-AUC: 0.796\n"
     ]
    }
   ],
   "source": [
    "compute_metrics(logistic.predict(heart_X), heart_Y)"
   ]
  },
  {
   "cell_type": "code",
   "execution_count": 22,
   "id": "ae130ca8",
   "metadata": {
    "ExecuteTime": {
     "end_time": "2022-10-27T20:12:05.487632Z",
     "start_time": "2022-10-27T20:12:05.476286Z"
    }
   },
   "outputs": [
    {
     "data": {
      "text/plain": [
       "(array([[ 0.37354234, -0.2427223 , -0.35312769, -0.31360559,  0.79589884,\n",
       "          1.3091975 , -0.93565516, -1.46690184,  0.78711929,  0.57430834,\n",
       "          0.47901655,  0.26171764,  0.59844848, -0.48662378]]),\n",
       " 0.7985347985347986)"
      ]
     },
     "execution_count": 22,
     "metadata": {},
     "output_type": "execute_result"
    }
   ],
   "source": [
    "clf = LogisticRegression(fit_intercept=False, penalty='none')\n",
    "clf.fit(heart_X, heart_Y)\n",
    "clf.coef_, clf.score(heart_X, heart_Y)"
   ]
  },
  {
   "cell_type": "markdown",
   "id": "b599eecc",
   "metadata": {},
   "source": [
    "**Test Logistic Lasso**"
   ]
  },
  {
   "cell_type": "code",
   "execution_count": 9,
   "id": "00dc65f3",
   "metadata": {
    "ExecuteTime": {
     "end_time": "2022-10-25T03:29:59.209407Z",
     "start_time": "2022-10-25T03:29:48.841636Z"
    }
   },
   "outputs": [
    {
     "name": "stdout",
     "output_type": "stream",
     "text": [
      "Eta: 0.1; Iterations: 75000\n",
      "Eta: 0.01; Iterations: 75000\n",
      "Eta: 0.001; Iterations: 75000\n",
      "Gradient converged w/ 1999 iterations and eta = 0.0001\n"
     ]
    }
   ],
   "source": [
    "logistic_lasso = Model('Logistic Lasso', lamb=1)\n",
    "logistic_lasso.fit(heart_X, heart_Y)"
   ]
  },
  {
   "cell_type": "code",
   "execution_count": 11,
   "id": "8f6d9958",
   "metadata": {
    "ExecuteTime": {
     "end_time": "2022-10-25T03:30:32.681627Z",
     "start_time": "2022-10-25T03:30:32.677841Z"
    }
   },
   "outputs": [
    {
     "data": {
      "text/plain": [
       "array([ 0.51786504, -0.24378054, -0.32628711, -0.28039243,  0.75477116,\n",
       "        1.11543986, -0.79737482, -1.33575536,  0.5307092 ,  0.57387384,\n",
       "        0.14963736,  0.00987222,  0.35943055, -0.25103774])"
      ]
     },
     "execution_count": 11,
     "metadata": {},
     "output_type": "execute_result"
    }
   ],
   "source": [
    "logistic_lasso.coef_"
   ]
  },
  {
   "cell_type": "code",
   "execution_count": 13,
   "id": "bedfb77a",
   "metadata": {
    "ExecuteTime": {
     "end_time": "2022-10-25T03:31:03.625501Z",
     "start_time": "2022-10-25T03:31:03.621078Z"
    }
   },
   "outputs": [
    {
     "name": "stdout",
     "output_type": "stream",
     "text": [
      "Accuracy: 0.802; Precision: 0.799; Recall: 0.842; f1: 0.82; ROC-AUC: 0.799\n"
     ]
    }
   ],
   "source": [
    "compute_metrics(logistic_lasso.predict(heart_X), heart_Y)"
   ]
  },
  {
   "cell_type": "code",
   "execution_count": 25,
   "id": "f0dbe67f",
   "metadata": {
    "ExecuteTime": {
     "end_time": "2022-10-27T20:13:17.271411Z",
     "start_time": "2022-10-27T20:13:17.260532Z"
    }
   },
   "outputs": [
    {
     "data": {
      "text/plain": [
       "(array([[ 0.37698672, -0.22992372, -0.32117822, -0.27393535,  0.76172782,\n",
       "          1.17964603, -0.80265931, -1.30033705,  0.70206826,  0.58295456,\n",
       "          0.39230095,  0.12310419,  0.45560806, -0.20172553]]),\n",
       " 0.7985347985347986)"
      ]
     },
     "execution_count": 25,
     "metadata": {},
     "output_type": "execute_result"
    }
   ],
   "source": [
    "# Check against sklearn\n",
    "clf = LogisticRegression(fit_intercept=False, penalty='l2')\n",
    "clf.fit(heart_X, heart_Y)\n",
    "clf.coef_, clf.score(heart_X, heart_Y)"
   ]
  },
  {
   "cell_type": "markdown",
   "id": "3e8fb626",
   "metadata": {},
   "source": [
    "**Test SVC**"
   ]
  },
  {
   "cell_type": "code",
   "execution_count": 4,
   "id": "fe2732ab",
   "metadata": {
    "ExecuteTime": {
     "end_time": "2022-10-30T21:56:17.132779Z",
     "start_time": "2022-10-30T21:56:17.047420Z"
    }
   },
   "outputs": [
    {
     "name": "stdout",
     "output_type": "stream",
     "text": [
      "Eta: 0.1; Iterations: 1206\n",
      "Gradient converged w/ 123 iterations and eta = 0.01\n"
     ]
    },
    {
     "data": {
      "text/plain": [
       "(None,\n",
       " array([ 0.0601239 , -0.24464632, -0.14514566, -0.08528606,  0.39045293,\n",
       "         0.16411657, -0.12738526, -0.26793471,  0.09151584,  0.16312756,\n",
       "         0.00323745, -0.07152445,  0.11616785, -0.03130467]))"
      ]
     },
     "execution_count": 4,
     "metadata": {},
     "output_type": "execute_result"
    }
   ],
   "source": [
    "svc = Model('SVC', lamb=1)\n",
    "svc.fit(heart_X, heart_Y), svc.coef_"
   ]
  },
  {
   "cell_type": "code",
   "execution_count": 5,
   "id": "b5bd6a6c",
   "metadata": {
    "ExecuteTime": {
     "end_time": "2022-10-30T21:56:28.638099Z",
     "start_time": "2022-10-30T21:56:28.633506Z"
    }
   },
   "outputs": [
    {
     "data": {
      "text/plain": [
       "array([0, 1, 1, 1, 0, 1, 1, 1, 1, 0, 1, 1, 1, 1, 1, 0, 1, 0, 1, 0, 0, 1,\n",
       "       1, 0, 1, 1, 0, 1, 0, 1, 1, 1, 0, 0, 1, 1, 1, 0, 1, 1, 1, 1, 0, 1,\n",
       "       1, 0, 0, 1, 1, 1, 1, 1, 0, 1, 1, 1, 1, 1, 1, 1, 1, 1, 1, 1, 1, 1,\n",
       "       1, 1, 1, 1, 1, 1, 1, 1, 0, 0, 1, 0, 1, 1, 1, 1, 0, 0, 1, 1, 1, 0,\n",
       "       1, 1, 1, 0, 1, 0, 1, 0, 1, 1, 1, 1, 1, 1, 1, 0, 1, 1, 1, 1, 1, 1,\n",
       "       0, 1, 1, 1, 1, 1, 1, 0, 0, 0, 0, 1, 1, 1, 0, 0, 0, 1, 1, 1, 1, 0,\n",
       "       0, 0, 0, 1, 0, 1, 1, 1, 1, 1, 1, 1, 1, 1, 0, 0, 0, 0, 0, 0, 1, 1,\n",
       "       0, 0, 0, 0, 0, 0, 0, 0, 1, 0, 1, 0, 0, 1, 1, 0, 0, 0, 0, 1, 0, 1,\n",
       "       0, 0, 0, 1, 0, 0, 0, 1, 0, 0, 1, 1, 0, 1, 0, 0, 0, 0, 0, 0, 0, 0,\n",
       "       0, 0, 0, 0, 1, 0, 0, 1, 0, 0, 0, 0, 1, 0, 0, 0, 1, 0, 0, 0, 0, 0,\n",
       "       1, 0, 0, 1, 0, 0, 0, 0, 0, 0, 0, 1, 0, 1, 0, 1, 0, 0, 0, 1, 0, 0,\n",
       "       0, 0, 0, 1, 1, 0, 0, 1, 0, 0, 1, 0, 1, 0, 0, 1, 0, 0, 0, 0, 0, 0,\n",
       "       0, 1, 0, 0, 0, 0, 1, 0, 1])"
      ]
     },
     "execution_count": 5,
     "metadata": {},
     "output_type": "execute_result"
    }
   ],
   "source": [
    "svc.predict(heart_X)"
   ]
  },
  {
   "cell_type": "code",
   "execution_count": 36,
   "id": "18155399",
   "metadata": {
    "ExecuteTime": {
     "end_time": "2022-10-28T17:13:19.918697Z",
     "start_time": "2022-10-28T17:13:19.911903Z"
    }
   },
   "outputs": [
    {
     "name": "stdout",
     "output_type": "stream",
     "text": [
      "Accuracy: 0.736; Precision: 0.768; Recall: 0.726; f1: 0.746; ROC-AUC: 0.737\n"
     ]
    }
   ],
   "source": [
    "compute_metrics(svc.predict(heart_X), heart_Y)"
   ]
  },
  {
   "cell_type": "code",
   "execution_count": 41,
   "id": "f1110f44",
   "metadata": {
    "ExecuteTime": {
     "end_time": "2022-10-27T20:23:58.016854Z",
     "start_time": "2022-10-27T20:23:58.007808Z"
    }
   },
   "outputs": [
    {
     "data": {
      "text/plain": [
       "(array([[-7.77156117e-16, -1.32571390e-01, -3.51887594e-01,\n",
       "         -2.44453562e-01,  5.41043423e-01,  8.27604167e-01,\n",
       "         -8.27604167e-01, -1.24547361e+00,  5.36317391e-01,\n",
       "          4.06879039e-01,  3.02277181e-01,  5.48845951e-03,\n",
       "          4.40598727e-02, -4.95483322e-02]]),\n",
       " array([0.8322204]),\n",
       " 0.8021978021978022)"
      ]
     },
     "execution_count": 41,
     "metadata": {},
     "output_type": "execute_result"
    }
   ],
   "source": [
    "# Check against sklearn\n",
    "clf = SVC(kernel='linear', C=1, degree=0)\n",
    "clf.fit(heart_X, heart_Y)\n",
    "clf.coef_, clf.intercept_, clf.score(heart_X, heart_Y)"
   ]
  },
  {
   "cell_type": "markdown",
   "id": "d6c97b59",
   "metadata": {},
   "source": [
    "**Test LDA**"
   ]
  },
  {
   "cell_type": "code",
   "execution_count": 3,
   "id": "ec6b64f6",
   "metadata": {
    "ExecuteTime": {
     "end_time": "2022-10-27T20:37:25.079545Z",
     "start_time": "2022-10-27T20:37:23.422000Z"
    }
   },
   "outputs": [
    {
     "data": {
      "text/plain": [
       "(array([-0.22330363, -0.31878649, -0.24470013,  0.7353733 ,  7.5546875 ,\n",
       "         6.1640625 , -1.96484375,  0.98828125,  0.77734375,  0.58984375,\n",
       "         2.625     ,  3.1875    ,  2.0625    ]),\n",
       " 8.796416881801354)"
      ]
     },
     "execution_count": 3,
     "metadata": {},
     "output_type": "execute_result"
    }
   ],
   "source": [
    "lda = Model('LDA')\n",
    "lda.fit(heart_X, heart_Y)\n",
    "lda.coef_"
   ]
  },
  {
   "cell_type": "code",
   "execution_count": 4,
   "id": "154b6fc8",
   "metadata": {
    "ExecuteTime": {
     "end_time": "2022-10-27T20:37:25.085475Z",
     "start_time": "2022-10-27T20:37:25.081065Z"
    }
   },
   "outputs": [
    {
     "name": "stdout",
     "output_type": "stream",
     "text": [
      "Accuracy: 0.78; Precision: 0.803; Recall: 0.781; f1: 0.792; ROC-AUC: 0.78\n"
     ]
    }
   ],
   "source": [
    "compute_metrics(lda.predict(heart_X), heart_Y)"
   ]
  },
  {
   "cell_type": "code",
   "execution_count": 5,
   "id": "3f8e00d1",
   "metadata": {
    "ExecuteTime": {
     "end_time": "2022-10-27T20:37:25.095460Z",
     "start_time": "2022-10-27T20:37:25.087551Z"
    }
   },
   "outputs": [
    {
     "data": {
      "text/plain": [
       "(array([[-0.22330363, -0.31878649, -0.24470013,  0.7353733 ,  1.04828114,\n",
       "         -1.04828114, -1.70068584,  0.94194233,  0.8034785 ,  0.65550057,\n",
       "         -0.14629208,  0.20392029, -0.9575273 ]]),\n",
       " array([0.94102802]),\n",
       " 0.7948717948717948)"
      ]
     },
     "execution_count": 5,
     "metadata": {},
     "output_type": "execute_result"
    }
   ],
   "source": [
    "# Check against sklearn\n",
    "clf = LinearDiscriminantAnalysis(solver='svd')\n",
    "clf.fit(heart_X.T[1:].T, heart_Y)\n",
    "clf.coef_, clf.intercept_, clf.score(heart_X.T[1:].T, heart_Y)"
   ]
  }
 ],
 "metadata": {
  "kernelspec": {
   "display_name": "Python 3",
   "language": "python",
   "name": "python3"
  },
  "language_info": {
   "codemirror_mode": {
    "name": "ipython",
    "version": 3
   },
   "file_extension": ".py",
   "mimetype": "text/x-python",
   "name": "python",
   "nbconvert_exporter": "python",
   "pygments_lexer": "ipython3",
   "version": "3.8.8"
  }
 },
 "nbformat": 4,
 "nbformat_minor": 5
}
