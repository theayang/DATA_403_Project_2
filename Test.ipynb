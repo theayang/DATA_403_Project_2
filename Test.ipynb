{
 "cells": [
  {
   "cell_type": "code",
   "execution_count": 1,
   "id": "c56eb18d",
   "metadata": {
    "ExecuteTime": {
     "end_time": "2022-11-02T06:36:23.251467Z",
     "start_time": "2022-11-02T06:36:22.369853Z"
    }
   },
   "outputs": [],
   "source": [
    "# Our code imports\n",
    "from Models import Model\n",
    "from Metrics import accuracy, fmeasure, roc_auc\n",
    "from Processing import Processor\n",
    "from Pipelines import ModelGridBuilder, AnalysisPipeline\n",
    "\n",
    "# Standard lib imports\n",
    "import pandas as pd\n",
    "import numpy as np\n",
    "from sklearn.linear_model import LogisticRegression\n",
    "from sklearn.svm import SVC\n",
    "from sklearn.discriminant_analysis import LinearDiscriminantAnalysis\n",
    "from sklearn.cluster import KMeans"
   ]
  },
  {
   "cell_type": "code",
   "execution_count": 2,
   "id": "4ae7379f",
   "metadata": {
    "ExecuteTime": {
     "end_time": "2022-11-02T06:36:24.235956Z",
     "start_time": "2022-11-02T06:36:23.471764Z"
    }
   },
   "outputs": [],
   "source": [
    "credit = pd.read_csv('cleaned_training_data.csv', index_col=0).reset_index(drop=True).drop(columns=['FLAG_MOBIL', 'FLAG_DOCUMENT_2'])\n",
    "credit_X = credit.drop(columns='TARGET')\n",
    "credit_Y = credit['TARGET']"
   ]
  },
  {
   "cell_type": "code",
   "execution_count": 3,
   "id": "5991c087",
   "metadata": {
    "ExecuteTime": {
     "end_time": "2022-11-02T06:53:10.526162Z",
     "start_time": "2022-11-02T06:36:30.071924Z"
    }
   },
   "outputs": [
    {
     "ename": "KeyboardInterrupt",
     "evalue": "",
     "output_type": "error",
     "traceback": [
      "\u001b[0;31m---------------------------------------------------------------------------\u001b[0m",
      "\u001b[0;31mKeyboardInterrupt\u001b[0m                         Traceback (most recent call last)",
      "\u001b[0;32m<ipython-input-3-d45b83f86238>\u001b[0m in \u001b[0;36m<module>\u001b[0;34m\u001b[0m\n\u001b[1;32m      6\u001b[0m \u001b[0mmodelAnalysis\u001b[0m \u001b[0;34m=\u001b[0m \u001b[0mAnalysisPipeline\u001b[0m\u001b[0;34m(\u001b[0m\u001b[0mcredit_X\u001b[0m\u001b[0;34m,\u001b[0m \u001b[0mcredit_Y\u001b[0m\u001b[0;34m,\u001b[0m \u001b[0mmodels\u001b[0m\u001b[0;34m,\u001b[0m \u001b[0;32mlambda\u001b[0m \u001b[0mp\u001b[0m\u001b[0;34m,\u001b[0m \u001b[0mY\u001b[0m\u001b[0;34m:\u001b[0m \u001b[0mfmeasure\u001b[0m\u001b[0;34m(\u001b[0m\u001b[0mp\u001b[0m\u001b[0;34m,\u001b[0m \u001b[0mY\u001b[0m\u001b[0;34m,\u001b[0m \u001b[0mB\u001b[0m\u001b[0;34m=\u001b[0m\u001b[0;36m10\u001b[0m\u001b[0;34m)\u001b[0m\u001b[0;34m)\u001b[0m\u001b[0;34m\u001b[0m\u001b[0;34m\u001b[0m\u001b[0m\n\u001b[1;32m      7\u001b[0m \u001b[0mmodelAnalysis\u001b[0m\u001b[0;34m.\u001b[0m\u001b[0mprocess_data\u001b[0m\u001b[0;34m(\u001b[0m\u001b[0msplit_type\u001b[0m\u001b[0;34m=\u001b[0m\u001b[0;34m'random'\u001b[0m\u001b[0;34m,\u001b[0m \u001b[0mtrain_prop\u001b[0m\u001b[0;34m=\u001b[0m\u001b[0;36m.9\u001b[0m\u001b[0;34m,\u001b[0m \u001b[0mdev_prop\u001b[0m\u001b[0;34m=\u001b[0m\u001b[0;36m.05\u001b[0m\u001b[0;34m)\u001b[0m\u001b[0;34m\u001b[0m\u001b[0;34m\u001b[0m\u001b[0m\n\u001b[0;32m----> 8\u001b[0;31m \u001b[0mmodelAnalysis\u001b[0m\u001b[0;34m.\u001b[0m\u001b[0mfit_models\u001b[0m\u001b[0;34m(\u001b[0m\u001b[0mmax_iterations\u001b[0m\u001b[0;34m=\u001b[0m\u001b[0;36m2000\u001b[0m\u001b[0;34m,\u001b[0m \u001b[0metas\u001b[0m\u001b[0;34m=\u001b[0m\u001b[0;34m[\u001b[0m\u001b[0;36m.001\u001b[0m\u001b[0;34m,\u001b[0m \u001b[0;36m.0001\u001b[0m\u001b[0;34m]\u001b[0m\u001b[0;34m,\u001b[0m \u001b[0mshow_iter\u001b[0m\u001b[0;34m=\u001b[0m\u001b[0;32mTrue\u001b[0m\u001b[0;34m)\u001b[0m\u001b[0;34m\u001b[0m\u001b[0;34m\u001b[0m\u001b[0m\n\u001b[0m",
      "\u001b[0;32m~/DATA403/DATA_403_Project_2/Pipelines.py\u001b[0m in \u001b[0;36mfit_models\u001b[0;34m(self, adaptive_descent, initial_B, max_iterations, etas, tol, err, show_iter, parallel)\u001b[0m\n\u001b[1;32m     48\u001b[0m         \u001b[0m_\u001b[0m\u001b[0;34m,\u001b[0m \u001b[0m_\u001b[0m\u001b[0;34m,\u001b[0m \u001b[0mdev_X\u001b[0m\u001b[0;34m,\u001b[0m \u001b[0mdev_Y\u001b[0m\u001b[0;34m,\u001b[0m \u001b[0m_\u001b[0m\u001b[0;34m,\u001b[0m \u001b[0m_\u001b[0m \u001b[0;34m=\u001b[0m \u001b[0mself\u001b[0m\u001b[0;34m.\u001b[0m\u001b[0mprocessor\u001b[0m\u001b[0;34m.\u001b[0m\u001b[0mget_train_dev_test_sets\u001b[0m\u001b[0;34m(\u001b[0m\u001b[0;34m)\u001b[0m\u001b[0;34m\u001b[0m\u001b[0;34m\u001b[0m\u001b[0m\n\u001b[1;32m     49\u001b[0m         \u001b[0mscores\u001b[0m \u001b[0;34m=\u001b[0m \u001b[0;34m[\u001b[0m\u001b[0;34m]\u001b[0m\u001b[0;34m\u001b[0m\u001b[0;34m\u001b[0m\u001b[0m\n\u001b[0;32m---> 50\u001b[0;31m         \u001b[0mbest_score\u001b[0m \u001b[0;34m=\u001b[0m \u001b[0;36m0\u001b[0m\u001b[0;34m\u001b[0m\u001b[0;34m\u001b[0m\u001b[0m\n\u001b[0m\u001b[1;32m     51\u001b[0m         \u001b[0mbest_model\u001b[0m \u001b[0;34m=\u001b[0m \u001b[0;32mNone\u001b[0m\u001b[0;34m\u001b[0m\u001b[0;34m\u001b[0m\u001b[0m\n\u001b[1;32m     52\u001b[0m         \u001b[0mbest_model_specs\u001b[0m \u001b[0;34m=\u001b[0m \u001b[0;32mNone\u001b[0m\u001b[0;34m\u001b[0m\u001b[0;34m\u001b[0m\u001b[0m\n",
      "\u001b[0;32m~/opt/anaconda3/lib/python3.8/multiprocessing/pool.py\u001b[0m in \u001b[0;36mmap\u001b[0;34m(self, func, iterable, chunksize)\u001b[0m\n\u001b[1;32m    362\u001b[0m         \u001b[0;32min\u001b[0m \u001b[0ma\u001b[0m \u001b[0mlist\u001b[0m \u001b[0mthat\u001b[0m \u001b[0;32mis\u001b[0m \u001b[0mreturned\u001b[0m\u001b[0;34m.\u001b[0m\u001b[0;34m\u001b[0m\u001b[0;34m\u001b[0m\u001b[0m\n\u001b[1;32m    363\u001b[0m         '''\n\u001b[0;32m--> 364\u001b[0;31m         \u001b[0;32mreturn\u001b[0m \u001b[0mself\u001b[0m\u001b[0;34m.\u001b[0m\u001b[0m_map_async\u001b[0m\u001b[0;34m(\u001b[0m\u001b[0mfunc\u001b[0m\u001b[0;34m,\u001b[0m \u001b[0miterable\u001b[0m\u001b[0;34m,\u001b[0m \u001b[0mmapstar\u001b[0m\u001b[0;34m,\u001b[0m \u001b[0mchunksize\u001b[0m\u001b[0;34m)\u001b[0m\u001b[0;34m.\u001b[0m\u001b[0mget\u001b[0m\u001b[0;34m(\u001b[0m\u001b[0;34m)\u001b[0m\u001b[0;34m\u001b[0m\u001b[0;34m\u001b[0m\u001b[0m\n\u001b[0m\u001b[1;32m    365\u001b[0m \u001b[0;34m\u001b[0m\u001b[0m\n\u001b[1;32m    366\u001b[0m     \u001b[0;32mdef\u001b[0m \u001b[0mstarmap\u001b[0m\u001b[0;34m(\u001b[0m\u001b[0mself\u001b[0m\u001b[0;34m,\u001b[0m \u001b[0mfunc\u001b[0m\u001b[0;34m,\u001b[0m \u001b[0miterable\u001b[0m\u001b[0;34m,\u001b[0m \u001b[0mchunksize\u001b[0m\u001b[0;34m=\u001b[0m\u001b[0;32mNone\u001b[0m\u001b[0;34m)\u001b[0m\u001b[0;34m:\u001b[0m\u001b[0;34m\u001b[0m\u001b[0;34m\u001b[0m\u001b[0m\n",
      "\u001b[0;32m~/opt/anaconda3/lib/python3.8/multiprocessing/pool.py\u001b[0m in \u001b[0;36mget\u001b[0;34m(self, timeout)\u001b[0m\n\u001b[1;32m    763\u001b[0m \u001b[0;34m\u001b[0m\u001b[0m\n\u001b[1;32m    764\u001b[0m     \u001b[0;32mdef\u001b[0m \u001b[0mget\u001b[0m\u001b[0;34m(\u001b[0m\u001b[0mself\u001b[0m\u001b[0;34m,\u001b[0m \u001b[0mtimeout\u001b[0m\u001b[0;34m=\u001b[0m\u001b[0;32mNone\u001b[0m\u001b[0;34m)\u001b[0m\u001b[0;34m:\u001b[0m\u001b[0;34m\u001b[0m\u001b[0;34m\u001b[0m\u001b[0m\n\u001b[0;32m--> 765\u001b[0;31m         \u001b[0mself\u001b[0m\u001b[0;34m.\u001b[0m\u001b[0mwait\u001b[0m\u001b[0;34m(\u001b[0m\u001b[0mtimeout\u001b[0m\u001b[0;34m)\u001b[0m\u001b[0;34m\u001b[0m\u001b[0;34m\u001b[0m\u001b[0m\n\u001b[0m\u001b[1;32m    766\u001b[0m         \u001b[0;32mif\u001b[0m \u001b[0;32mnot\u001b[0m \u001b[0mself\u001b[0m\u001b[0;34m.\u001b[0m\u001b[0mready\u001b[0m\u001b[0;34m(\u001b[0m\u001b[0;34m)\u001b[0m\u001b[0;34m:\u001b[0m\u001b[0;34m\u001b[0m\u001b[0;34m\u001b[0m\u001b[0m\n\u001b[1;32m    767\u001b[0m             \u001b[0;32mraise\u001b[0m \u001b[0mTimeoutError\u001b[0m\u001b[0;34m\u001b[0m\u001b[0;34m\u001b[0m\u001b[0m\n",
      "\u001b[0;32m~/opt/anaconda3/lib/python3.8/multiprocessing/pool.py\u001b[0m in \u001b[0;36mwait\u001b[0;34m(self, timeout)\u001b[0m\n\u001b[1;32m    760\u001b[0m \u001b[0;34m\u001b[0m\u001b[0m\n\u001b[1;32m    761\u001b[0m     \u001b[0;32mdef\u001b[0m \u001b[0mwait\u001b[0m\u001b[0;34m(\u001b[0m\u001b[0mself\u001b[0m\u001b[0;34m,\u001b[0m \u001b[0mtimeout\u001b[0m\u001b[0;34m=\u001b[0m\u001b[0;32mNone\u001b[0m\u001b[0;34m)\u001b[0m\u001b[0;34m:\u001b[0m\u001b[0;34m\u001b[0m\u001b[0;34m\u001b[0m\u001b[0m\n\u001b[0;32m--> 762\u001b[0;31m         \u001b[0mself\u001b[0m\u001b[0;34m.\u001b[0m\u001b[0m_event\u001b[0m\u001b[0;34m.\u001b[0m\u001b[0mwait\u001b[0m\u001b[0;34m(\u001b[0m\u001b[0mtimeout\u001b[0m\u001b[0;34m)\u001b[0m\u001b[0;34m\u001b[0m\u001b[0;34m\u001b[0m\u001b[0m\n\u001b[0m\u001b[1;32m    763\u001b[0m \u001b[0;34m\u001b[0m\u001b[0m\n\u001b[1;32m    764\u001b[0m     \u001b[0;32mdef\u001b[0m \u001b[0mget\u001b[0m\u001b[0;34m(\u001b[0m\u001b[0mself\u001b[0m\u001b[0;34m,\u001b[0m \u001b[0mtimeout\u001b[0m\u001b[0;34m=\u001b[0m\u001b[0;32mNone\u001b[0m\u001b[0;34m)\u001b[0m\u001b[0;34m:\u001b[0m\u001b[0;34m\u001b[0m\u001b[0;34m\u001b[0m\u001b[0m\n",
      "\u001b[0;32m~/opt/anaconda3/lib/python3.8/threading.py\u001b[0m in \u001b[0;36mwait\u001b[0;34m(self, timeout)\u001b[0m\n\u001b[1;32m    556\u001b[0m             \u001b[0msignaled\u001b[0m \u001b[0;34m=\u001b[0m \u001b[0mself\u001b[0m\u001b[0;34m.\u001b[0m\u001b[0m_flag\u001b[0m\u001b[0;34m\u001b[0m\u001b[0;34m\u001b[0m\u001b[0m\n\u001b[1;32m    557\u001b[0m             \u001b[0;32mif\u001b[0m \u001b[0;32mnot\u001b[0m \u001b[0msignaled\u001b[0m\u001b[0;34m:\u001b[0m\u001b[0;34m\u001b[0m\u001b[0;34m\u001b[0m\u001b[0m\n\u001b[0;32m--> 558\u001b[0;31m                 \u001b[0msignaled\u001b[0m \u001b[0;34m=\u001b[0m \u001b[0mself\u001b[0m\u001b[0;34m.\u001b[0m\u001b[0m_cond\u001b[0m\u001b[0;34m.\u001b[0m\u001b[0mwait\u001b[0m\u001b[0;34m(\u001b[0m\u001b[0mtimeout\u001b[0m\u001b[0;34m)\u001b[0m\u001b[0;34m\u001b[0m\u001b[0;34m\u001b[0m\u001b[0m\n\u001b[0m\u001b[1;32m    559\u001b[0m             \u001b[0;32mreturn\u001b[0m \u001b[0msignaled\u001b[0m\u001b[0;34m\u001b[0m\u001b[0;34m\u001b[0m\u001b[0m\n\u001b[1;32m    560\u001b[0m \u001b[0;34m\u001b[0m\u001b[0m\n",
      "\u001b[0;32m~/opt/anaconda3/lib/python3.8/threading.py\u001b[0m in \u001b[0;36mwait\u001b[0;34m(self, timeout)\u001b[0m\n\u001b[1;32m    300\u001b[0m         \u001b[0;32mtry\u001b[0m\u001b[0;34m:\u001b[0m    \u001b[0;31m# restore state no matter what (e.g., KeyboardInterrupt)\u001b[0m\u001b[0;34m\u001b[0m\u001b[0;34m\u001b[0m\u001b[0m\n\u001b[1;32m    301\u001b[0m             \u001b[0;32mif\u001b[0m \u001b[0mtimeout\u001b[0m \u001b[0;32mis\u001b[0m \u001b[0;32mNone\u001b[0m\u001b[0;34m:\u001b[0m\u001b[0;34m\u001b[0m\u001b[0;34m\u001b[0m\u001b[0m\n\u001b[0;32m--> 302\u001b[0;31m                 \u001b[0mwaiter\u001b[0m\u001b[0;34m.\u001b[0m\u001b[0macquire\u001b[0m\u001b[0;34m(\u001b[0m\u001b[0;34m)\u001b[0m\u001b[0;34m\u001b[0m\u001b[0;34m\u001b[0m\u001b[0m\n\u001b[0m\u001b[1;32m    303\u001b[0m                 \u001b[0mgotit\u001b[0m \u001b[0;34m=\u001b[0m \u001b[0;32mTrue\u001b[0m\u001b[0;34m\u001b[0m\u001b[0;34m\u001b[0m\u001b[0m\n\u001b[1;32m    304\u001b[0m             \u001b[0;32melse\u001b[0m\u001b[0;34m:\u001b[0m\u001b[0;34m\u001b[0m\u001b[0;34m\u001b[0m\u001b[0m\n",
      "\u001b[0;31mKeyboardInterrupt\u001b[0m: "
     ]
    }
   ],
   "source": [
    "logisticSearchBuilder = ModelGridBuilder('Logistic Lasso', parameters=[1, 2])\n",
    "#svcSearchBuilder = ModelGridBuilder('SVC', parameters=[1, 5, 10])\n",
    "ldaSearchBuilder = ModelGridBuilder('LDA')\n",
    "models = ldaSearchBuilder.get_models()\n",
    "\n",
    "modelAnalysis = AnalysisPipeline(credit_X, credit_Y, models, lambda p, Y: fmeasure(p, Y, B=10))\n",
    "modelAnalysis.process_data(split_type='random', train_prop=.9, dev_prop=.05)\n",
    "modelAnalysis.fit_models(max_iterations=2000, etas=[.001, .0001], show_iter=True)"
   ]
  },
  {
   "cell_type": "code",
   "execution_count": 5,
   "id": "80f5230c",
   "metadata": {
    "ExecuteTime": {
     "end_time": "2022-11-02T06:09:21.118605Z",
     "start_time": "2022-11-02T06:09:19.684064Z"
    }
   },
   "outputs": [
    {
     "ename": "ValueError",
     "evalue": "not enough values to unpack (expected 2, got 0)",
     "output_type": "error",
     "traceback": [
      "\u001b[0;31m---------------------------------------------------------------------------\u001b[0m",
      "\u001b[0;31mValueError\u001b[0m                                Traceback (most recent call last)",
      "\u001b[0;32m<ipython-input-5-4d1bc9a5c7e7>\u001b[0m in \u001b[0;36m<module>\u001b[0;34m\u001b[0m\n\u001b[0;32m----> 1\u001b[0;31m \u001b[0mbest_model_specs\u001b[0m\u001b[0;34m,\u001b[0m \u001b[0mconf_mat\u001b[0m \u001b[0;34m=\u001b[0m \u001b[0mmodelAnalysis\u001b[0m\u001b[0;34m.\u001b[0m\u001b[0mtest_models\u001b[0m\u001b[0;34m(\u001b[0m\u001b[0;34m)\u001b[0m\u001b[0;34m\u001b[0m\u001b[0;34m\u001b[0m\u001b[0m\n\u001b[0m\u001b[1;32m      2\u001b[0m \u001b[0mdisplay\u001b[0m\u001b[0;34m(\u001b[0m\u001b[0mconf_mat\u001b[0m\u001b[0;34m)\u001b[0m\u001b[0;34m\u001b[0m\u001b[0;34m\u001b[0m\u001b[0m\n\u001b[1;32m      3\u001b[0m \u001b[0mbest_model_specs\u001b[0m\u001b[0;34m,\u001b[0m \u001b[0mmodelAnalysis\u001b[0m\u001b[0;34m.\u001b[0m\u001b[0mdev_set_analysis\u001b[0m\u001b[0;34m\u001b[0m\u001b[0;34m\u001b[0m\u001b[0m\n",
      "\u001b[0;32m~/DATA403/DATA_403_Project_2/Pipelines.py\u001b[0m in \u001b[0;36mtest_models\u001b[0;34m(self)\u001b[0m\n\u001b[1;32m     64\u001b[0m         \u001b[0mbest_predictions\u001b[0m \u001b[0;34m=\u001b[0m \u001b[0;32mNone\u001b[0m\u001b[0;34m\u001b[0m\u001b[0;34m\u001b[0m\u001b[0m\n\u001b[1;32m     65\u001b[0m         \u001b[0;32mfor\u001b[0m \u001b[0mmodel\u001b[0m \u001b[0;32min\u001b[0m \u001b[0mself\u001b[0m\u001b[0;34m.\u001b[0m\u001b[0mmodels\u001b[0m\u001b[0;34m:\u001b[0m\u001b[0;34m\u001b[0m\u001b[0;34m\u001b[0m\u001b[0m\n\u001b[0;32m---> 66\u001b[0;31m             \u001b[0mpredictions\u001b[0m \u001b[0;34m=\u001b[0m \u001b[0mmodel\u001b[0m\u001b[0;34m.\u001b[0m\u001b[0mpredict\u001b[0m\u001b[0;34m(\u001b[0m\u001b[0mdev_X\u001b[0m\u001b[0;34m)\u001b[0m\u001b[0;34m\u001b[0m\u001b[0;34m\u001b[0m\u001b[0m\n\u001b[0m\u001b[1;32m     67\u001b[0m             \u001b[0mscore\u001b[0m \u001b[0;34m=\u001b[0m \u001b[0mself\u001b[0m\u001b[0;34m.\u001b[0m\u001b[0mscore_func\u001b[0m\u001b[0;34m(\u001b[0m\u001b[0mpredictions\u001b[0m\u001b[0;34m,\u001b[0m \u001b[0mdev_Y\u001b[0m\u001b[0;34m)\u001b[0m\u001b[0;34m\u001b[0m\u001b[0;34m\u001b[0m\u001b[0m\n\u001b[1;32m     68\u001b[0m             \u001b[0mspecs\u001b[0m \u001b[0;34m=\u001b[0m \u001b[0mmodel\u001b[0m\u001b[0;34m.\u001b[0m\u001b[0mget_model_specs\u001b[0m\u001b[0;34m(\u001b[0m\u001b[0;34m)\u001b[0m\u001b[0;34m\u001b[0m\u001b[0;34m\u001b[0m\u001b[0m\n",
      "\u001b[0;32m~/DATA403/DATA_403_Project_2/Models.py\u001b[0m in \u001b[0;36mpredict\u001b[0;34m(self, X, LDA_X_drop_B0, *args)\u001b[0m\n\u001b[1;32m     56\u001b[0m         \u001b[0;32mif\u001b[0m \u001b[0mself\u001b[0m\u001b[0;34m.\u001b[0m\u001b[0mmodel_type\u001b[0m \u001b[0;34m==\u001b[0m \u001b[0;34m'LDA'\u001b[0m \u001b[0;32mand\u001b[0m \u001b[0mLDA_X_drop_B0\u001b[0m\u001b[0;34m:\u001b[0m\u001b[0;34m\u001b[0m\u001b[0;34m\u001b[0m\u001b[0m\n\u001b[1;32m     57\u001b[0m             \u001b[0mX\u001b[0m \u001b[0;34m=\u001b[0m \u001b[0mself\u001b[0m\u001b[0;34m.\u001b[0m\u001b[0mmodel\u001b[0m\u001b[0;34m.\u001b[0m\u001b[0mX_transform\u001b[0m\u001b[0;34m(\u001b[0m\u001b[0mX\u001b[0m\u001b[0;34m)\u001b[0m\u001b[0;34m\u001b[0m\u001b[0;34m\u001b[0m\u001b[0m\n\u001b[0;32m---> 58\u001b[0;31m         \u001b[0;32mreturn\u001b[0m \u001b[0mself\u001b[0m\u001b[0;34m.\u001b[0m\u001b[0mmodel\u001b[0m\u001b[0;34m.\u001b[0m\u001b[0mpredict\u001b[0m\u001b[0;34m(\u001b[0m\u001b[0mX\u001b[0m\u001b[0;34m,\u001b[0m \u001b[0mself\u001b[0m\u001b[0;34m.\u001b[0m\u001b[0mcoef_\u001b[0m\u001b[0;34m,\u001b[0m \u001b[0;34m*\u001b[0m\u001b[0margs\u001b[0m\u001b[0;34m)\u001b[0m\u001b[0;34m\u001b[0m\u001b[0;34m\u001b[0m\u001b[0m\n\u001b[0m\u001b[1;32m     59\u001b[0m \u001b[0;34m\u001b[0m\u001b[0m\n\u001b[1;32m     60\u001b[0m \u001b[0;32mclass\u001b[0m \u001b[0mLogistic\u001b[0m\u001b[0;34m:\u001b[0m\u001b[0;34m\u001b[0m\u001b[0;34m\u001b[0m\u001b[0m\n",
      "\u001b[0;32m~/DATA403/DATA_403_Project_2/Models.py\u001b[0m in \u001b[0;36mpredict\u001b[0;34m(self, X, B)\u001b[0m\n\u001b[1;32m    171\u001b[0m \u001b[0;34m\u001b[0m\u001b[0m\n\u001b[1;32m    172\u001b[0m     \u001b[0;32mdef\u001b[0m \u001b[0mpredict\u001b[0m\u001b[0;34m(\u001b[0m\u001b[0mself\u001b[0m\u001b[0;34m,\u001b[0m \u001b[0mX\u001b[0m\u001b[0;34m,\u001b[0m \u001b[0mB\u001b[0m\u001b[0;34m)\u001b[0m\u001b[0;34m:\u001b[0m\u001b[0;34m\u001b[0m\u001b[0;34m\u001b[0m\u001b[0m\n\u001b[0;32m--> 173\u001b[0;31m         \u001b[0ma\u001b[0m\u001b[0;34m,\u001b[0m \u001b[0mcutoff\u001b[0m \u001b[0;34m=\u001b[0m \u001b[0mB\u001b[0m\u001b[0;34m\u001b[0m\u001b[0;34m\u001b[0m\u001b[0m\n\u001b[0m\u001b[1;32m    174\u001b[0m         \u001b[0mmask\u001b[0m \u001b[0;34m=\u001b[0m \u001b[0ma\u001b[0m \u001b[0;34m@\u001b[0m \u001b[0mX\u001b[0m\u001b[0;34m.\u001b[0m\u001b[0mT\u001b[0m \u001b[0;34m>=\u001b[0m \u001b[0mcutoff\u001b[0m\u001b[0;34m\u001b[0m\u001b[0;34m\u001b[0m\u001b[0m\n\u001b[1;32m    175\u001b[0m         \u001b[0;32mreturn\u001b[0m \u001b[0mnp\u001b[0m\u001b[0;34m.\u001b[0m\u001b[0mwhere\u001b[0m\u001b[0;34m(\u001b[0m\u001b[0mmask\u001b[0m\u001b[0;34m,\u001b[0m \u001b[0mnp\u001b[0m\u001b[0;34m.\u001b[0m\u001b[0mones\u001b[0m\u001b[0;34m(\u001b[0m\u001b[0mlen\u001b[0m\u001b[0;34m(\u001b[0m\u001b[0mX\u001b[0m\u001b[0;34m)\u001b[0m\u001b[0;34m)\u001b[0m\u001b[0;34m,\u001b[0m \u001b[0mnp\u001b[0m\u001b[0;34m.\u001b[0m\u001b[0mzeros\u001b[0m\u001b[0;34m(\u001b[0m\u001b[0mlen\u001b[0m\u001b[0;34m(\u001b[0m\u001b[0mX\u001b[0m\u001b[0;34m)\u001b[0m\u001b[0;34m)\u001b[0m\u001b[0;34m)\u001b[0m\u001b[0;34m\u001b[0m\u001b[0;34m\u001b[0m\u001b[0m\n",
      "\u001b[0;31mValueError\u001b[0m: not enough values to unpack (expected 2, got 0)"
     ]
    }
   ],
   "source": [
    "best_model_specs, conf_mat = modelAnalysis.test_models()\n",
    "display(conf_mat)\n",
    "best_model_specs, modelAnalysis.dev_set_analysis"
   ]
  },
  {
   "cell_type": "markdown",
   "id": "42c7c1a7",
   "metadata": {},
   "source": [
    "# Before "
   ]
  },
  {
   "cell_type": "code",
   "execution_count": 25,
   "id": "287c4d0e",
   "metadata": {
    "ExecuteTime": {
     "end_time": "2022-11-02T00:44:22.289094Z",
     "start_time": "2022-11-02T00:44:22.178089Z"
    }
   },
   "outputs": [
    {
     "data": {
      "text/html": [
       "<div>\n",
       "<style scoped>\n",
       "    .dataframe tbody tr th:only-of-type {\n",
       "        vertical-align: middle;\n",
       "    }\n",
       "\n",
       "    .dataframe tbody tr th {\n",
       "        vertical-align: top;\n",
       "    }\n",
       "\n",
       "    .dataframe thead th {\n",
       "        text-align: right;\n",
       "    }\n",
       "</style>\n",
       "<table border=\"1\" class=\"dataframe\">\n",
       "  <thead>\n",
       "    <tr style=\"text-align: right;\">\n",
       "      <th></th>\n",
       "      <th>SK_ID_CURR</th>\n",
       "      <th>TARGET</th>\n",
       "      <th>NAME_CONTRACT_TYPE</th>\n",
       "      <th>CODE_GENDER</th>\n",
       "      <th>FLAG_OWN_CAR</th>\n",
       "      <th>FLAG_OWN_REALTY</th>\n",
       "      <th>AMT_INCOME_TOTAL</th>\n",
       "      <th>AMT_CREDIT</th>\n",
       "      <th>AMT_ANNUITY</th>\n",
       "      <th>NAME_TYPE_SUITE</th>\n",
       "      <th>...</th>\n",
       "      <th>FLAG_DOCUMENT_14</th>\n",
       "      <th>FLAG_DOCUMENT_15</th>\n",
       "      <th>FLAG_DOCUMENT_16</th>\n",
       "      <th>FLAG_DOCUMENT_17</th>\n",
       "      <th>FLAG_DOCUMENT_18</th>\n",
       "      <th>FLAG_DOCUMENT_19</th>\n",
       "      <th>FLAG_DOCUMENT_20</th>\n",
       "      <th>FLAG_DOCUMENT_21</th>\n",
       "      <th>AMT_REQ_CREDIT</th>\n",
       "      <th>HOUSING_SCORE</th>\n",
       "    </tr>\n",
       "  </thead>\n",
       "  <tbody>\n",
       "    <tr>\n",
       "      <th>0</th>\n",
       "      <td>100002</td>\n",
       "      <td>1</td>\n",
       "      <td>Cash loans</td>\n",
       "      <td>M</td>\n",
       "      <td>N</td>\n",
       "      <td>Y</td>\n",
       "      <td>202500.0</td>\n",
       "      <td>406597.5</td>\n",
       "      <td>24700.5</td>\n",
       "      <td>Unaccompanied</td>\n",
       "      <td>...</td>\n",
       "      <td>0</td>\n",
       "      <td>0</td>\n",
       "      <td>0</td>\n",
       "      <td>0</td>\n",
       "      <td>0</td>\n",
       "      <td>0</td>\n",
       "      <td>0</td>\n",
       "      <td>0</td>\n",
       "      <td>1</td>\n",
       "      <td>0.0</td>\n",
       "    </tr>\n",
       "    <tr>\n",
       "      <th>1</th>\n",
       "      <td>100016</td>\n",
       "      <td>0</td>\n",
       "      <td>Cash loans</td>\n",
       "      <td>F</td>\n",
       "      <td>N</td>\n",
       "      <td>Y</td>\n",
       "      <td>67500.0</td>\n",
       "      <td>80865.0</td>\n",
       "      <td>5881.5</td>\n",
       "      <td>Unaccompanied</td>\n",
       "      <td>...</td>\n",
       "      <td>0</td>\n",
       "      <td>0</td>\n",
       "      <td>0</td>\n",
       "      <td>0</td>\n",
       "      <td>0</td>\n",
       "      <td>0</td>\n",
       "      <td>0</td>\n",
       "      <td>0</td>\n",
       "      <td>1</td>\n",
       "      <td>2.0</td>\n",
       "    </tr>\n",
       "    <tr>\n",
       "      <th>2</th>\n",
       "      <td>100017</td>\n",
       "      <td>0</td>\n",
       "      <td>Cash loans</td>\n",
       "      <td>M</td>\n",
       "      <td>Y</td>\n",
       "      <td>N</td>\n",
       "      <td>225000.0</td>\n",
       "      <td>918468.0</td>\n",
       "      <td>28966.5</td>\n",
       "      <td>Unaccompanied</td>\n",
       "      <td>...</td>\n",
       "      <td>0</td>\n",
       "      <td>0</td>\n",
       "      <td>0</td>\n",
       "      <td>0</td>\n",
       "      <td>0</td>\n",
       "      <td>0</td>\n",
       "      <td>0</td>\n",
       "      <td>0</td>\n",
       "      <td>1</td>\n",
       "      <td>7.0</td>\n",
       "    </tr>\n",
       "    <tr>\n",
       "      <th>3</th>\n",
       "      <td>100022</td>\n",
       "      <td>0</td>\n",
       "      <td>Revolving loans</td>\n",
       "      <td>F</td>\n",
       "      <td>N</td>\n",
       "      <td>Y</td>\n",
       "      <td>112500.0</td>\n",
       "      <td>157500.0</td>\n",
       "      <td>7875.0</td>\n",
       "      <td>Accompanied</td>\n",
       "      <td>...</td>\n",
       "      <td>0</td>\n",
       "      <td>0</td>\n",
       "      <td>0</td>\n",
       "      <td>0</td>\n",
       "      <td>0</td>\n",
       "      <td>0</td>\n",
       "      <td>0</td>\n",
       "      <td>0</td>\n",
       "      <td>0</td>\n",
       "      <td>2.0</td>\n",
       "    </tr>\n",
       "    <tr>\n",
       "      <th>4</th>\n",
       "      <td>100026</td>\n",
       "      <td>0</td>\n",
       "      <td>Cash loans</td>\n",
       "      <td>F</td>\n",
       "      <td>N</td>\n",
       "      <td>N</td>\n",
       "      <td>450000.0</td>\n",
       "      <td>497520.0</td>\n",
       "      <td>32521.5</td>\n",
       "      <td>Unaccompanied</td>\n",
       "      <td>...</td>\n",
       "      <td>0</td>\n",
       "      <td>0</td>\n",
       "      <td>0</td>\n",
       "      <td>0</td>\n",
       "      <td>0</td>\n",
       "      <td>0</td>\n",
       "      <td>0</td>\n",
       "      <td>0</td>\n",
       "      <td>1</td>\n",
       "      <td>3.0</td>\n",
       "    </tr>\n",
       "    <tr>\n",
       "      <th>...</th>\n",
       "      <td>...</td>\n",
       "      <td>...</td>\n",
       "      <td>...</td>\n",
       "      <td>...</td>\n",
       "      <td>...</td>\n",
       "      <td>...</td>\n",
       "      <td>...</td>\n",
       "      <td>...</td>\n",
       "      <td>...</td>\n",
       "      <td>...</td>\n",
       "      <td>...</td>\n",
       "      <td>...</td>\n",
       "      <td>...</td>\n",
       "      <td>...</td>\n",
       "      <td>...</td>\n",
       "      <td>...</td>\n",
       "      <td>...</td>\n",
       "      <td>...</td>\n",
       "      <td>...</td>\n",
       "      <td>...</td>\n",
       "      <td>...</td>\n",
       "    </tr>\n",
       "    <tr>\n",
       "      <th>127636</th>\n",
       "      <td>456244</td>\n",
       "      <td>0</td>\n",
       "      <td>Cash loans</td>\n",
       "      <td>F</td>\n",
       "      <td>N</td>\n",
       "      <td>Y</td>\n",
       "      <td>261000.0</td>\n",
       "      <td>1303812.0</td>\n",
       "      <td>35982.0</td>\n",
       "      <td>Unaccompanied</td>\n",
       "      <td>...</td>\n",
       "      <td>0</td>\n",
       "      <td>0</td>\n",
       "      <td>0</td>\n",
       "      <td>0</td>\n",
       "      <td>0</td>\n",
       "      <td>0</td>\n",
       "      <td>0</td>\n",
       "      <td>0</td>\n",
       "      <td>1</td>\n",
       "      <td>3.0</td>\n",
       "    </tr>\n",
       "    <tr>\n",
       "      <th>127637</th>\n",
       "      <td>456249</td>\n",
       "      <td>0</td>\n",
       "      <td>Cash loans</td>\n",
       "      <td>F</td>\n",
       "      <td>N</td>\n",
       "      <td>Y</td>\n",
       "      <td>112500.0</td>\n",
       "      <td>225000.0</td>\n",
       "      <td>22050.0</td>\n",
       "      <td>Unaccompanied</td>\n",
       "      <td>...</td>\n",
       "      <td>0</td>\n",
       "      <td>0</td>\n",
       "      <td>0</td>\n",
       "      <td>0</td>\n",
       "      <td>0</td>\n",
       "      <td>0</td>\n",
       "      <td>0</td>\n",
       "      <td>0</td>\n",
       "      <td>1</td>\n",
       "      <td>10.0</td>\n",
       "    </tr>\n",
       "    <tr>\n",
       "      <th>127638</th>\n",
       "      <td>456253</td>\n",
       "      <td>0</td>\n",
       "      <td>Cash loans</td>\n",
       "      <td>F</td>\n",
       "      <td>N</td>\n",
       "      <td>Y</td>\n",
       "      <td>153000.0</td>\n",
       "      <td>677664.0</td>\n",
       "      <td>29979.0</td>\n",
       "      <td>Unaccompanied</td>\n",
       "      <td>...</td>\n",
       "      <td>0</td>\n",
       "      <td>0</td>\n",
       "      <td>0</td>\n",
       "      <td>0</td>\n",
       "      <td>0</td>\n",
       "      <td>0</td>\n",
       "      <td>0</td>\n",
       "      <td>0</td>\n",
       "      <td>1</td>\n",
       "      <td>2.0</td>\n",
       "    </tr>\n",
       "    <tr>\n",
       "      <th>127639</th>\n",
       "      <td>456254</td>\n",
       "      <td>1</td>\n",
       "      <td>Cash loans</td>\n",
       "      <td>F</td>\n",
       "      <td>N</td>\n",
       "      <td>Y</td>\n",
       "      <td>171000.0</td>\n",
       "      <td>370107.0</td>\n",
       "      <td>20205.0</td>\n",
       "      <td>Unaccompanied</td>\n",
       "      <td>...</td>\n",
       "      <td>0</td>\n",
       "      <td>0</td>\n",
       "      <td>0</td>\n",
       "      <td>0</td>\n",
       "      <td>0</td>\n",
       "      <td>0</td>\n",
       "      <td>0</td>\n",
       "      <td>0</td>\n",
       "      <td>0</td>\n",
       "      <td>0.0</td>\n",
       "    </tr>\n",
       "    <tr>\n",
       "      <th>127640</th>\n",
       "      <td>456255</td>\n",
       "      <td>0</td>\n",
       "      <td>Cash loans</td>\n",
       "      <td>F</td>\n",
       "      <td>N</td>\n",
       "      <td>N</td>\n",
       "      <td>157500.0</td>\n",
       "      <td>675000.0</td>\n",
       "      <td>49117.5</td>\n",
       "      <td>Unaccompanied</td>\n",
       "      <td>...</td>\n",
       "      <td>0</td>\n",
       "      <td>0</td>\n",
       "      <td>0</td>\n",
       "      <td>0</td>\n",
       "      <td>0</td>\n",
       "      <td>0</td>\n",
       "      <td>0</td>\n",
       "      <td>0</td>\n",
       "      <td>1</td>\n",
       "      <td>2.0</td>\n",
       "    </tr>\n",
       "  </tbody>\n",
       "</table>\n",
       "<p>127641 rows × 60 columns</p>\n",
       "</div>"
      ],
      "text/plain": [
       "        SK_ID_CURR  TARGET NAME_CONTRACT_TYPE CODE_GENDER FLAG_OWN_CAR  \\\n",
       "0           100002       1         Cash loans           M            N   \n",
       "1           100016       0         Cash loans           F            N   \n",
       "2           100017       0         Cash loans           M            Y   \n",
       "3           100022       0    Revolving loans           F            N   \n",
       "4           100026       0         Cash loans           F            N   \n",
       "...            ...     ...                ...         ...          ...   \n",
       "127636      456244       0         Cash loans           F            N   \n",
       "127637      456249       0         Cash loans           F            N   \n",
       "127638      456253       0         Cash loans           F            N   \n",
       "127639      456254       1         Cash loans           F            N   \n",
       "127640      456255       0         Cash loans           F            N   \n",
       "\n",
       "       FLAG_OWN_REALTY  AMT_INCOME_TOTAL  AMT_CREDIT  AMT_ANNUITY  \\\n",
       "0                    Y          202500.0    406597.5      24700.5   \n",
       "1                    Y           67500.0     80865.0       5881.5   \n",
       "2                    N          225000.0    918468.0      28966.5   \n",
       "3                    Y          112500.0    157500.0       7875.0   \n",
       "4                    N          450000.0    497520.0      32521.5   \n",
       "...                ...               ...         ...          ...   \n",
       "127636               Y          261000.0   1303812.0      35982.0   \n",
       "127637               Y          112500.0    225000.0      22050.0   \n",
       "127638               Y          153000.0    677664.0      29979.0   \n",
       "127639               Y          171000.0    370107.0      20205.0   \n",
       "127640               N          157500.0    675000.0      49117.5   \n",
       "\n",
       "       NAME_TYPE_SUITE  ... FLAG_DOCUMENT_14 FLAG_DOCUMENT_15  \\\n",
       "0        Unaccompanied  ...                0                0   \n",
       "1        Unaccompanied  ...                0                0   \n",
       "2        Unaccompanied  ...                0                0   \n",
       "3          Accompanied  ...                0                0   \n",
       "4        Unaccompanied  ...                0                0   \n",
       "...                ...  ...              ...              ...   \n",
       "127636   Unaccompanied  ...                0                0   \n",
       "127637   Unaccompanied  ...                0                0   \n",
       "127638   Unaccompanied  ...                0                0   \n",
       "127639   Unaccompanied  ...                0                0   \n",
       "127640   Unaccompanied  ...                0                0   \n",
       "\n",
       "       FLAG_DOCUMENT_16 FLAG_DOCUMENT_17  FLAG_DOCUMENT_18  FLAG_DOCUMENT_19  \\\n",
       "0                     0                0                 0                 0   \n",
       "1                     0                0                 0                 0   \n",
       "2                     0                0                 0                 0   \n",
       "3                     0                0                 0                 0   \n",
       "4                     0                0                 0                 0   \n",
       "...                 ...              ...               ...               ...   \n",
       "127636                0                0                 0                 0   \n",
       "127637                0                0                 0                 0   \n",
       "127638                0                0                 0                 0   \n",
       "127639                0                0                 0                 0   \n",
       "127640                0                0                 0                 0   \n",
       "\n",
       "        FLAG_DOCUMENT_20  FLAG_DOCUMENT_21  AMT_REQ_CREDIT HOUSING_SCORE  \n",
       "0                      0                 0               1           0.0  \n",
       "1                      0                 0               1           2.0  \n",
       "2                      0                 0               1           7.0  \n",
       "3                      0                 0               0           2.0  \n",
       "4                      0                 0               1           3.0  \n",
       "...                  ...               ...             ...           ...  \n",
       "127636                 0                 0               1           3.0  \n",
       "127637                 0                 0               1          10.0  \n",
       "127638                 0                 0               1           2.0  \n",
       "127639                 0                 0               0           0.0  \n",
       "127640                 0                 0               1           2.0  \n",
       "\n",
       "[127641 rows x 60 columns]"
      ]
     },
     "execution_count": 25,
     "metadata": {},
     "output_type": "execute_result"
    }
   ],
   "source": [
    "credit"
   ]
  },
  {
   "cell_type": "code",
   "execution_count": 15,
   "id": "fe981e3c",
   "metadata": {
    "ExecuteTime": {
     "end_time": "2022-11-02T00:10:08.661646Z",
     "start_time": "2022-11-02T00:10:07.382308Z"
    }
   },
   "outputs": [
    {
     "data": {
      "text/html": [
       "<div>\n",
       "<style scoped>\n",
       "    .dataframe tbody tr th:only-of-type {\n",
       "        vertical-align: middle;\n",
       "    }\n",
       "\n",
       "    .dataframe tbody tr th {\n",
       "        vertical-align: top;\n",
       "    }\n",
       "\n",
       "    .dataframe thead th {\n",
       "        text-align: right;\n",
       "    }\n",
       "</style>\n",
       "<table border=\"1\" class=\"dataframe\">\n",
       "  <thead>\n",
       "    <tr style=\"text-align: right;\">\n",
       "      <th></th>\n",
       "      <th>True 1</th>\n",
       "      <th>True 0</th>\n",
       "    </tr>\n",
       "  </thead>\n",
       "  <tbody>\n",
       "    <tr>\n",
       "      <th>Pred 1</th>\n",
       "      <td>48</td>\n",
       "      <td>171</td>\n",
       "    </tr>\n",
       "    <tr>\n",
       "      <th>Pred 0</th>\n",
       "      <td>412</td>\n",
       "      <td>5751</td>\n",
       "    </tr>\n",
       "  </tbody>\n",
       "</table>\n",
       "</div>"
      ],
      "text/plain": [
       "        True 1  True 0\n",
       "Pred 1      48     171\n",
       "Pred 0     412    5751"
      ]
     },
     "metadata": {},
     "output_type": "display_data"
    },
    {
     "data": {
      "text/plain": [
       "(('SVC', 0.25),\n",
       " [(('Logistic Lasso', 0), 0.067936728361577),\n",
       "  (('Logistic Lasso', 0.25), 0.067936728361577),\n",
       "  (('Logistic Lasso', 0.5), 0.067936728361577),\n",
       "  (('Logistic Lasso', 1), 0.067936728361577),\n",
       "  (('Logistic Lasso', 1.5), 0.067936728361577),\n",
       "  (('Logistic Lasso', 2), 0.067936728361577),\n",
       "  (('SVC', 0.25), 0.10489192756225793),\n",
       "  (('SVC', 0.5), 0.10489192756225793),\n",
       "  (('SVC', 0.75), 0.10489192756225793),\n",
       "  (('SVC', 1), 0.10489192756225793),\n",
       "  (('SVC', 1.5), 0.10489192756225793),\n",
       "  (('SVC', 2), 0.10489192756225793),\n",
       "  (['LDA'], 0.06928931289527282)])"
      ]
     },
     "execution_count": 15,
     "metadata": {},
     "output_type": "execute_result"
    }
   ],
   "source": [
    "modelAnalysis.score_func = lambda p, Y: fmeasure(p, Y, B=10)\n",
    "best_model_specs, conf_mat = modelAnalysis.test_models()\n",
    "display(conf_mat)\n",
    "best_model_specs, modelAnalysis.dev_set_analysis"
   ]
  },
  {
   "cell_type": "markdown",
   "id": "ca1c9b87",
   "metadata": {},
   "source": [
    "# General Testing"
   ]
  },
  {
   "cell_type": "code",
   "execution_count": 2,
   "id": "35a13610",
   "metadata": {
    "ExecuteTime": {
     "end_time": "2022-10-31T00:14:21.580880Z",
     "start_time": "2022-10-31T00:14:19.713261Z"
    }
   },
   "outputs": [],
   "source": [
    "heart = pd.read_csv('https://www.dropbox.com/s/jpnyx41u7wpa41m/heart_attack_clean.csv?dl=1')\n",
    "heart_X = heart.drop(columns='output')\n",
    "heart_Y = heart['output']"
   ]
  },
  {
   "cell_type": "code",
   "execution_count": 3,
   "id": "b6b55cb8",
   "metadata": {
    "ExecuteTime": {
     "end_time": "2022-10-31T00:15:31.593205Z",
     "start_time": "2022-10-31T00:14:29.473153Z"
    }
   },
   "outputs": [],
   "source": [
    "logisticSearchBuilder = ModelGridBuilder('Logistic Lasso', parameters=[0, .25, .5, 1, 1.5, 2])\n",
    "svcSearchBuilder = ModelGridBuilder('SVC', parameters=[0, .25, .5, 1, 1.5, 2])\n",
    "ldaSearchBuilder = ModelGridBuilder('LDA')\n",
    "models = logisticSearchBuilder.get_models() + svcSearchBuilder.get_models() + ldaSearchBuilder.get_models()\n",
    "\n",
    "modelAnalysis = AnalysisPipeline(heart_X, heart_Y, models, roc_auc)\n",
    "modelAnalysis.process_data(split_type='random', train_prop=.8, dev_prop=.1)\n",
    "modelAnalysis.fit_models()"
   ]
  },
  {
   "cell_type": "code",
   "execution_count": 9,
   "id": "ba5d7009",
   "metadata": {
    "ExecuteTime": {
     "end_time": "2022-11-02T05:45:46.075147Z",
     "start_time": "2022-11-02T05:45:45.950004Z"
    }
   },
   "outputs": [
    {
     "ename": "NameError",
     "evalue": "name 'modelAnalysis' is not defined",
     "output_type": "error",
     "traceback": [
      "\u001b[0;31m---------------------------------------------------------------------------\u001b[0m",
      "\u001b[0;31mNameError\u001b[0m                                 Traceback (most recent call last)",
      "\u001b[0;32m<ipython-input-9-56fda1cb50a2>\u001b[0m in \u001b[0;36m<module>\u001b[0;34m\u001b[0m\n\u001b[0;32m----> 1\u001b[0;31m \u001b[0mbest_model_specs\u001b[0m\u001b[0;34m,\u001b[0m \u001b[0mconf_mat\u001b[0m \u001b[0;34m=\u001b[0m \u001b[0mmodelAnalysis\u001b[0m\u001b[0;34m.\u001b[0m\u001b[0mtest_models\u001b[0m\u001b[0;34m(\u001b[0m\u001b[0;34m)\u001b[0m\u001b[0;34m\u001b[0m\u001b[0;34m\u001b[0m\u001b[0m\n\u001b[0m\u001b[1;32m      2\u001b[0m \u001b[0mdisplay\u001b[0m\u001b[0;34m(\u001b[0m\u001b[0mconf_mat\u001b[0m\u001b[0;34m)\u001b[0m\u001b[0;34m\u001b[0m\u001b[0;34m\u001b[0m\u001b[0m\n\u001b[1;32m      3\u001b[0m \u001b[0mbest_model_specs\u001b[0m\u001b[0;34m\u001b[0m\u001b[0;34m\u001b[0m\u001b[0m\n",
      "\u001b[0;31mNameError\u001b[0m: name 'modelAnalysis' is not defined"
     ]
    }
   ],
   "source": [
    "best_model_specs, conf_mat = modelAnalysis.test_models()\n",
    "display(conf_mat)\n",
    "best_model_specs"
   ]
  },
  {
   "cell_type": "code",
   "execution_count": 5,
   "id": "868361dd",
   "metadata": {
    "ExecuteTime": {
     "end_time": "2022-10-31T00:15:31.626811Z",
     "start_time": "2022-10-31T00:15:31.622904Z"
    }
   },
   "outputs": [
    {
     "data": {
      "text/plain": [
       "[(('Logistic Lasso', 0), 0.6794871794871796),\n",
       " (('Logistic Lasso', 0.25), 0.6794871794871796),\n",
       " (('Logistic Lasso', 0.5), 0.6794871794871796),\n",
       " (('Logistic Lasso', 1), 0.6794871794871796),\n",
       " (('Logistic Lasso', 1.5), 0.7461538461538462),\n",
       " (('Logistic Lasso', 2), 0.7461538461538462),\n",
       " (('SVC', 0), 0.6794871794871796),\n",
       " (('SVC', 0.25), 0.6794871794871796),\n",
       " (('SVC', 0.5), 0.6794871794871796),\n",
       " (('SVC', 1), 0.7128205128205128),\n",
       " (('SVC', 1.5), 0.7128205128205128),\n",
       " (('SVC', 2), 0.7128205128205128),\n",
       " (['LDA'], 0.7461538461538462)]"
      ]
     },
     "execution_count": 5,
     "metadata": {},
     "output_type": "execute_result"
    }
   ],
   "source": [
    "modelAnalysis.dev_set_analysis"
   ]
  },
  {
   "cell_type": "code",
   "execution_count": 4,
   "id": "3c7beb02",
   "metadata": {
    "ExecuteTime": {
     "end_time": "2022-10-30T23:18:16.446843Z",
     "start_time": "2022-10-30T23:18:16.411890Z"
    }
   },
   "outputs": [
    {
     "data": {
      "text/plain": [
       "((218, 14), (28, 14), (27, 14), (218,), (28,), (27,))"
      ]
     },
     "execution_count": 4,
     "metadata": {},
     "output_type": "execute_result"
    }
   ],
   "source": [
    "# HOW TO PROCESS THE DATA USING THE PROCESSOR CLASSS\n",
    "\n",
    "# Declare a processor object\n",
    "processor = Processor(heart_X, heart_Y)\n",
    "# Standardize dummify, and pad with B0. Numeric data is infered if no column names provided\n",
    "processor.process_data(numeric=[])\n",
    "# Grab train, dev, and test set indices\n",
    "processor.calculate_train_dev_test_split()\n",
    "train_X, train_Y, dev_X, dev_Y, test_X, test_Y = processor.get_train_dev_test_sets(ret_numpy=True)\n",
    "train_X.shape, dev_X.shape, test_X.shape, train_Y.shape, dev_Y.shape, test_Y.shape"
   ]
  },
  {
   "cell_type": "code",
   "execution_count": null,
   "id": "8bb0aa35",
   "metadata": {
    "ExecuteTime": {
     "end_time": "2022-11-01T22:37:09.757291Z",
     "start_time": "2022-11-01T22:37:09.551463Z"
    }
   },
   "outputs": [],
   "source": []
  },
  {
   "cell_type": "markdown",
   "id": "5620e065",
   "metadata": {},
   "source": [
    "**Test Logistic**"
   ]
  },
  {
   "cell_type": "code",
   "execution_count": 5,
   "id": "aa424809",
   "metadata": {
    "ExecuteTime": {
     "end_time": "2022-10-30T23:18:16.455550Z",
     "start_time": "2022-10-30T23:18:16.449974Z"
    }
   },
   "outputs": [
    {
     "name": "stdout",
     "output_type": "stream",
     "text": [
      "Gradient converged w/ 26 iterations and eta = 0.01\n"
     ]
    }
   ],
   "source": [
    "logistic = Model('Logistic')\n",
    "logistic.fit(train_X, train_Y, etas=[.01])"
   ]
  },
  {
   "cell_type": "code",
   "execution_count": 29,
   "id": "bbc92889",
   "metadata": {
    "ExecuteTime": {
     "end_time": "2022-10-27T20:16:36.936049Z",
     "start_time": "2022-10-27T20:16:36.932362Z"
    }
   },
   "outputs": [
    {
     "data": {
      "text/plain": [
       "array([ 0.43049373, -0.24494049, -0.35145458, -0.30755228,  0.80157621,\n",
       "        1.32409691, -0.89360318, -1.44110098,  0.80462346,  0.59638294,\n",
       "        0.47058831,  0.14408393,  0.48099673, -0.19458693])"
      ]
     },
     "execution_count": 29,
     "metadata": {},
     "output_type": "execute_result"
    }
   ],
   "source": [
    "logistic.coef_"
   ]
  },
  {
   "cell_type": "code",
   "execution_count": 21,
   "id": "cf90cd22",
   "metadata": {
    "ExecuteTime": {
     "end_time": "2022-10-27T20:12:03.849264Z",
     "start_time": "2022-10-27T20:12:03.844091Z"
    }
   },
   "outputs": [
    {
     "name": "stdout",
     "output_type": "stream",
     "text": [
      "Accuracy: 0.799; Precision: 0.801; Recall: 0.829; f1: 0.815; ROC-AUC: 0.796\n"
     ]
    }
   ],
   "source": [
    "compute_metrics(logistic.predict(heart_X), heart_Y)"
   ]
  },
  {
   "cell_type": "code",
   "execution_count": 22,
   "id": "ae130ca8",
   "metadata": {
    "ExecuteTime": {
     "end_time": "2022-10-27T20:12:05.487632Z",
     "start_time": "2022-10-27T20:12:05.476286Z"
    }
   },
   "outputs": [
    {
     "data": {
      "text/plain": [
       "(array([[ 0.37354234, -0.2427223 , -0.35312769, -0.31360559,  0.79589884,\n",
       "          1.3091975 , -0.93565516, -1.46690184,  0.78711929,  0.57430834,\n",
       "          0.47901655,  0.26171764,  0.59844848, -0.48662378]]),\n",
       " 0.7985347985347986)"
      ]
     },
     "execution_count": 22,
     "metadata": {},
     "output_type": "execute_result"
    }
   ],
   "source": [
    "clf = LogisticRegression(fit_intercept=False, penalty='none')\n",
    "clf.fit(heart_X, heart_Y)\n",
    "clf.coef_, clf.score(heart_X, heart_Y)"
   ]
  },
  {
   "cell_type": "markdown",
   "id": "b599eecc",
   "metadata": {},
   "source": [
    "**Test Logistic Lasso**"
   ]
  },
  {
   "cell_type": "code",
   "execution_count": 9,
   "id": "00dc65f3",
   "metadata": {
    "ExecuteTime": {
     "end_time": "2022-10-25T03:29:59.209407Z",
     "start_time": "2022-10-25T03:29:48.841636Z"
    }
   },
   "outputs": [
    {
     "name": "stdout",
     "output_type": "stream",
     "text": [
      "Eta: 0.1; Iterations: 75000\n",
      "Eta: 0.01; Iterations: 75000\n",
      "Eta: 0.001; Iterations: 75000\n",
      "Gradient converged w/ 1999 iterations and eta = 0.0001\n"
     ]
    }
   ],
   "source": [
    "logistic_lasso = Model('Logistic Lasso', lamb=1)\n",
    "logistic_lasso.fit(heart_X, heart_Y)"
   ]
  },
  {
   "cell_type": "code",
   "execution_count": 11,
   "id": "8f6d9958",
   "metadata": {
    "ExecuteTime": {
     "end_time": "2022-10-25T03:30:32.681627Z",
     "start_time": "2022-10-25T03:30:32.677841Z"
    }
   },
   "outputs": [
    {
     "data": {
      "text/plain": [
       "array([ 0.51786504, -0.24378054, -0.32628711, -0.28039243,  0.75477116,\n",
       "        1.11543986, -0.79737482, -1.33575536,  0.5307092 ,  0.57387384,\n",
       "        0.14963736,  0.00987222,  0.35943055, -0.25103774])"
      ]
     },
     "execution_count": 11,
     "metadata": {},
     "output_type": "execute_result"
    }
   ],
   "source": [
    "logistic_lasso.coef_"
   ]
  },
  {
   "cell_type": "code",
   "execution_count": 13,
   "id": "bedfb77a",
   "metadata": {
    "ExecuteTime": {
     "end_time": "2022-10-25T03:31:03.625501Z",
     "start_time": "2022-10-25T03:31:03.621078Z"
    }
   },
   "outputs": [
    {
     "name": "stdout",
     "output_type": "stream",
     "text": [
      "Accuracy: 0.802; Precision: 0.799; Recall: 0.842; f1: 0.82; ROC-AUC: 0.799\n"
     ]
    }
   ],
   "source": [
    "compute_metrics(logistic_lasso.predict(heart_X), heart_Y)"
   ]
  },
  {
   "cell_type": "code",
   "execution_count": 25,
   "id": "f0dbe67f",
   "metadata": {
    "ExecuteTime": {
     "end_time": "2022-10-27T20:13:17.271411Z",
     "start_time": "2022-10-27T20:13:17.260532Z"
    }
   },
   "outputs": [
    {
     "data": {
      "text/plain": [
       "(array([[ 0.37698672, -0.22992372, -0.32117822, -0.27393535,  0.76172782,\n",
       "          1.17964603, -0.80265931, -1.30033705,  0.70206826,  0.58295456,\n",
       "          0.39230095,  0.12310419,  0.45560806, -0.20172553]]),\n",
       " 0.7985347985347986)"
      ]
     },
     "execution_count": 25,
     "metadata": {},
     "output_type": "execute_result"
    }
   ],
   "source": [
    "# Check against sklearn\n",
    "clf = LogisticRegression(fit_intercept=False, penalty='l2')\n",
    "clf.fit(heart_X, heart_Y)\n",
    "clf.coef_, clf.score(heart_X, heart_Y)"
   ]
  },
  {
   "cell_type": "markdown",
   "id": "3e8fb626",
   "metadata": {},
   "source": [
    "**Test SVC**"
   ]
  },
  {
   "cell_type": "code",
   "execution_count": 4,
   "id": "fe2732ab",
   "metadata": {
    "ExecuteTime": {
     "end_time": "2022-10-30T21:56:17.132779Z",
     "start_time": "2022-10-30T21:56:17.047420Z"
    }
   },
   "outputs": [
    {
     "name": "stdout",
     "output_type": "stream",
     "text": [
      "Eta: 0.1; Iterations: 1206\n",
      "Gradient converged w/ 123 iterations and eta = 0.01\n"
     ]
    },
    {
     "data": {
      "text/plain": [
       "(None,\n",
       " array([ 0.0601239 , -0.24464632, -0.14514566, -0.08528606,  0.39045293,\n",
       "         0.16411657, -0.12738526, -0.26793471,  0.09151584,  0.16312756,\n",
       "         0.00323745, -0.07152445,  0.11616785, -0.03130467]))"
      ]
     },
     "execution_count": 4,
     "metadata": {},
     "output_type": "execute_result"
    }
   ],
   "source": [
    "svc = Model('SVC', lamb=1)\n",
    "svc.fit(heart_X, heart_Y), svc.coef_"
   ]
  },
  {
   "cell_type": "code",
   "execution_count": 5,
   "id": "e08b0034",
   "metadata": {
    "ExecuteTime": {
     "end_time": "2022-10-30T21:56:28.638099Z",
     "start_time": "2022-10-30T21:56:28.633506Z"
    }
   },
   "outputs": [
    {
     "data": {
      "text/plain": [
       "array([0, 1, 1, 1, 0, 1, 1, 1, 1, 0, 1, 1, 1, 1, 1, 0, 1, 0, 1, 0, 0, 1,\n",
       "       1, 0, 1, 1, 0, 1, 0, 1, 1, 1, 0, 0, 1, 1, 1, 0, 1, 1, 1, 1, 0, 1,\n",
       "       1, 0, 0, 1, 1, 1, 1, 1, 0, 1, 1, 1, 1, 1, 1, 1, 1, 1, 1, 1, 1, 1,\n",
       "       1, 1, 1, 1, 1, 1, 1, 1, 0, 0, 1, 0, 1, 1, 1, 1, 0, 0, 1, 1, 1, 0,\n",
       "       1, 1, 1, 0, 1, 0, 1, 0, 1, 1, 1, 1, 1, 1, 1, 0, 1, 1, 1, 1, 1, 1,\n",
       "       0, 1, 1, 1, 1, 1, 1, 0, 0, 0, 0, 1, 1, 1, 0, 0, 0, 1, 1, 1, 1, 0,\n",
       "       0, 0, 0, 1, 0, 1, 1, 1, 1, 1, 1, 1, 1, 1, 0, 0, 0, 0, 0, 0, 1, 1,\n",
       "       0, 0, 0, 0, 0, 0, 0, 0, 1, 0, 1, 0, 0, 1, 1, 0, 0, 0, 0, 1, 0, 1,\n",
       "       0, 0, 0, 1, 0, 0, 0, 1, 0, 0, 1, 1, 0, 1, 0, 0, 0, 0, 0, 0, 0, 0,\n",
       "       0, 0, 0, 0, 1, 0, 0, 1, 0, 0, 0, 0, 1, 0, 0, 0, 1, 0, 0, 0, 0, 0,\n",
       "       1, 0, 0, 1, 0, 0, 0, 0, 0, 0, 0, 1, 0, 1, 0, 1, 0, 0, 0, 1, 0, 0,\n",
       "       0, 0, 0, 1, 1, 0, 0, 1, 0, 0, 1, 0, 1, 0, 0, 1, 0, 0, 0, 0, 0, 0,\n",
       "       0, 1, 0, 0, 0, 0, 1, 0, 1])"
      ]
     },
     "execution_count": 5,
     "metadata": {},
     "output_type": "execute_result"
    }
   ],
   "source": [
    "svc.predict(heart_X)"
   ]
  },
  {
   "cell_type": "code",
   "execution_count": 36,
   "id": "18155399",
   "metadata": {
    "ExecuteTime": {
     "end_time": "2022-10-28T17:13:19.918697Z",
     "start_time": "2022-10-28T17:13:19.911903Z"
    }
   },
   "outputs": [
    {
     "name": "stdout",
     "output_type": "stream",
     "text": [
      "Accuracy: 0.736; Precision: 0.768; Recall: 0.726; f1: 0.746; ROC-AUC: 0.737\n"
     ]
    }
   ],
   "source": [
    "compute_metrics(svc.predict(heart_X), heart_Y)"
   ]
  },
  {
   "cell_type": "code",
   "execution_count": 41,
   "id": "f1110f44",
   "metadata": {
    "ExecuteTime": {
     "end_time": "2022-10-27T20:23:58.016854Z",
     "start_time": "2022-10-27T20:23:58.007808Z"
    }
   },
   "outputs": [
    {
     "data": {
      "text/plain": [
       "(array([[-7.77156117e-16, -1.32571390e-01, -3.51887594e-01,\n",
       "         -2.44453562e-01,  5.41043423e-01,  8.27604167e-01,\n",
       "         -8.27604167e-01, -1.24547361e+00,  5.36317391e-01,\n",
       "          4.06879039e-01,  3.02277181e-01,  5.48845951e-03,\n",
       "          4.40598727e-02, -4.95483322e-02]]),\n",
       " array([0.8322204]),\n",
       " 0.8021978021978022)"
      ]
     },
     "execution_count": 41,
     "metadata": {},
     "output_type": "execute_result"
    }
   ],
   "source": [
    "# Check against sklearn\n",
    "clf = SVC(kernel='linear', C=1, degree=0)\n",
    "clf.fit(heart_X, heart_Y)\n",
    "clf.coef_, clf.intercept_, clf.score(heart_X, heart_Y)"
   ]
  },
  {
   "cell_type": "markdown",
   "id": "d6c97b59",
   "metadata": {},
   "source": [
    "**Test LDA**"
   ]
  },
  {
   "cell_type": "code",
   "execution_count": 3,
   "id": "ec6b64f6",
   "metadata": {
    "ExecuteTime": {
     "end_time": "2022-10-27T20:37:25.079545Z",
     "start_time": "2022-10-27T20:37:23.422000Z"
    }
   },
   "outputs": [
    {
     "data": {
      "text/plain": [
       "(array([-0.22330363, -0.31878649, -0.24470013,  0.7353733 ,  7.5546875 ,\n",
       "         6.1640625 , -1.96484375,  0.98828125,  0.77734375,  0.58984375,\n",
       "         2.625     ,  3.1875    ,  2.0625    ]),\n",
       " 8.796416881801354)"
      ]
     },
     "execution_count": 3,
     "metadata": {},
     "output_type": "execute_result"
    }
   ],
   "source": [
    "lda = Model('LDA')\n",
    "lda.fit(heart_X, heart_Y)\n",
    "lda.coef_"
   ]
  },
  {
   "cell_type": "code",
   "execution_count": 4,
   "id": "154b6fc8",
   "metadata": {
    "ExecuteTime": {
     "end_time": "2022-10-27T20:37:25.085475Z",
     "start_time": "2022-10-27T20:37:25.081065Z"
    }
   },
   "outputs": [
    {
     "name": "stdout",
     "output_type": "stream",
     "text": [
      "Accuracy: 0.78; Precision: 0.803; Recall: 0.781; f1: 0.792; ROC-AUC: 0.78\n"
     ]
    }
   ],
   "source": [
    "compute_metrics(lda.predict(heart_X), heart_Y)"
   ]
  },
  {
   "cell_type": "code",
   "execution_count": 5,
   "id": "3f8e00d1",
   "metadata": {
    "ExecuteTime": {
     "end_time": "2022-10-27T20:37:25.095460Z",
     "start_time": "2022-10-27T20:37:25.087551Z"
    }
   },
   "outputs": [
    {
     "data": {
      "text/plain": [
       "(array([[-0.22330363, -0.31878649, -0.24470013,  0.7353733 ,  1.04828114,\n",
       "         -1.04828114, -1.70068584,  0.94194233,  0.8034785 ,  0.65550057,\n",
       "         -0.14629208,  0.20392029, -0.9575273 ]]),\n",
       " array([0.94102802]),\n",
       " 0.7948717948717948)"
      ]
     },
     "execution_count": 5,
     "metadata": {},
     "output_type": "execute_result"
    }
   ],
   "source": [
    "# Check against sklearn\n",
    "clf = LinearDiscriminantAnalysis(solver='svd')\n",
    "clf.fit(heart_X.T[1:].T, heart_Y)\n",
    "clf.coef_, clf.intercept_, clf.score(heart_X.T[1:].T, heart_Y)"
   ]
  }
 ],
 "metadata": {
  "kernelspec": {
   "display_name": "Python 3",
   "language": "python",
   "name": "python3"
  },
  "language_info": {
   "codemirror_mode": {
    "name": "ipython",
    "version": 3
   },
   "file_extension": ".py",
   "mimetype": "text/x-python",
   "name": "python",
   "nbconvert_exporter": "python",
   "pygments_lexer": "ipython3",
   "version": "3.8.8"
  }
 },
 "nbformat": 4,
 "nbformat_minor": 5
}
