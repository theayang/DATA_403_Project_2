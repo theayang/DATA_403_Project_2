{
 "cells": [
  {
   "cell_type": "code",
   "execution_count": 1,
   "id": "8bd3aa4c",
   "metadata": {
    "ExecuteTime": {
     "end_time": "2022-11-02T06:55:28.534638Z",
     "start_time": "2022-11-02T06:55:28.015679Z"
    }
   },
   "outputs": [],
   "source": [
    "# Our code imports\n",
    "from Models import Model\n",
    "from Metrics import accuracy, fmeasure, roc_auc, confusion_matrix\n",
    "from Processing import Processor\n",
    "from Pipelines import ModelGridBuilder, AnalysisPipeline\n",
    "\n",
    "# Standard lib imports\n",
    "import pandas as pd\n",
    "import numpy as np"
   ]
  },
  {
   "cell_type": "markdown",
   "id": "4a12f886",
   "metadata": {},
   "source": [
    "## Import the final dataset"
   ]
  },
  {
   "cell_type": "code",
   "execution_count": 2,
   "id": "f3729f5c",
   "metadata": {
    "ExecuteTime": {
     "end_time": "2022-11-02T06:55:29.265581Z",
     "start_time": "2022-11-02T06:55:28.537109Z"
    }
   },
   "outputs": [],
   "source": [
    "credit = pd.read_csv('cleaned_training_data.csv', index_col=0).reset_index(drop=True).drop(columns=['FLAG_MOBIL', 'FLAG_DOCUMENT_2'])\n",
    "credit_X = credit.drop(columns='TARGET')\n",
    "credit_Y = credit['TARGET']"
   ]
  },
  {
   "cell_type": "markdown",
   "id": "5c771782",
   "metadata": {},
   "source": [
    "# Build solo models (see later for hyperparameter tuning)"
   ]
  },
  {
   "cell_type": "markdown",
   "id": "4410f462",
   "metadata": {},
   "source": [
    "## Preprocess the data\n",
    "**Use the processor object to handle the data going forward**"
   ]
  },
  {
   "cell_type": "code",
   "execution_count": 3,
   "id": "c4cf984c",
   "metadata": {
    "ExecuteTime": {
     "end_time": "2022-11-02T06:55:33.127312Z",
     "start_time": "2022-11-02T06:55:30.597234Z"
    }
   },
   "outputs": [],
   "source": [
    "processor = Processor(credit_X, credit_Y)\n",
    "# Standardize dummify, and pad with B0. Numeric data is infered if no column names provided\n",
    "processor.process_data()"
   ]
  },
  {
   "cell_type": "markdown",
   "id": "40f26960",
   "metadata": {},
   "source": [
    "## Choose a split type ('random', 'stratified_class', 'set_class_prop_undersample')"
   ]
  },
  {
   "cell_type": "markdown",
   "id": "05d7e67b",
   "metadata": {},
   "source": [
    "'random' performs random selection. 'stratified_class' ensures that the train, dev, and test set each have the same proportions of each class as the overall dataset (\\~93% 0 and 7% 1). 'set_class_prop_undersample' requires the 'class_prop_1_0' parameter to be set (ratio between # of 1s / # of 0s) and forces the training set to have this ratio of class levels. Note that the dev and test sets will have stratified class levels at the overall dataset ratio (\\~ 93% 0 and 7% 1)."
   ]
  },
  {
   "cell_type": "markdown",
   "id": "301c71a0",
   "metadata": {},
   "source": [
    "**random**"
   ]
  },
  {
   "cell_type": "code",
   "execution_count": 4,
   "id": "333e2b89",
   "metadata": {
    "ExecuteTime": {
     "end_time": "2022-11-02T05:48:28.265337Z",
     "start_time": "2022-11-02T05:48:26.019209Z"
    }
   },
   "outputs": [
    {
     "data": {
      "text/plain": [
       "((102113, 144), (102113,), (12764, 144), (12764,), (12764, 144), (12764,))"
      ]
     },
     "execution_count": 4,
     "metadata": {},
     "output_type": "execute_result"
    }
   ],
   "source": [
    "processor.calculate_train_dev_test_split(split_type='random', train_prop=.8, dev_prop=.1)\n",
    "\n",
    "train_X, train_Y, dev_X, dev_Y, test_X, test_Y = processor.get_train_dev_test_sets()\n",
    "\n",
    "train_X.shape, train_Y.shape, dev_X.shape, dev_Y.shape, test_X.shape, test_Y.shape"
   ]
  },
  {
   "cell_type": "markdown",
   "id": "857a9bb9",
   "metadata": {},
   "source": [
    "**stratified_class**"
   ]
  },
  {
   "cell_type": "markdown",
   "id": "676876a2",
   "metadata": {},
   "source": [
    "Note: the calculated train, dev, and test sets are saved and can be accessed by the .get_train_dev_test_sets function. Re-running .calculate_train_dev_test_split() re-calculates the dataset splits"
   ]
  },
  {
   "cell_type": "code",
   "execution_count": 5,
   "id": "3e6132d8",
   "metadata": {
    "ExecuteTime": {
     "end_time": "2022-11-02T05:48:31.294831Z",
     "start_time": "2022-11-02T05:48:29.147251Z"
    }
   },
   "outputs": [
    {
     "name": "stdout",
     "output_type": "stream",
     "text": [
      "Re-calculating train, dev, and test sets\n"
     ]
    },
    {
     "data": {
      "text/plain": [
       "(0    0.932026\n",
       " 1    0.067974\n",
       " dtype: float64,\n",
       " 0    0.932002\n",
       " 1    0.067998\n",
       " dtype: float64,\n",
       " 0    0.932069\n",
       " 1    0.067931\n",
       " dtype: float64)"
      ]
     },
     "execution_count": 5,
     "metadata": {},
     "output_type": "execute_result"
    }
   ],
   "source": [
    "processor.calculate_train_dev_test_split(split_type='stratified_class', train_prop=.8, dev_prop=.1)\n",
    "\n",
    "train_X, train_Y, dev_X, dev_Y, test_X, test_Y = processor.get_train_dev_test_sets()\n",
    "\n",
    "pd.Series(train_Y).value_counts() / len(train_Y), pd.Series(dev_Y).value_counts() / len(dev_Y), pd.Series(test_Y).value_counts() / len(test_Y)"
   ]
  },
  {
   "cell_type": "markdown",
   "id": "5d86bcf5",
   "metadata": {},
   "source": [
    "**set_class_prop_undersample**"
   ]
  },
  {
   "cell_type": "markdown",
   "id": "20c19640",
   "metadata": {},
   "source": [
    "Note: train_prop is ignored here (the size of the training set is determined by how large the dev/test sets are and the 1/0 class level ratio)."
   ]
  },
  {
   "cell_type": "code",
   "execution_count": 6,
   "id": "59727304",
   "metadata": {
    "ExecuteTime": {
     "end_time": "2022-11-02T05:48:32.944988Z",
     "start_time": "2022-11-02T05:48:31.296791Z"
    }
   },
   "outputs": [
    {
     "name": "stdout",
     "output_type": "stream",
     "text": [
      "Re-calculating train, dev, and test sets\n"
     ]
    },
    {
     "data": {
      "text/plain": [
       "((16312,),\n",
       " (3829,),\n",
       " (3829,),\n",
       " 0    8156\n",
       " 1    8156\n",
       " dtype: int64)"
      ]
     },
     "execution_count": 6,
     "metadata": {},
     "output_type": "execute_result"
    }
   ],
   "source": [
    "processor.calculate_train_dev_test_split(split_type='set_class_prop_undersample', dev_prop=.03, class_prop_1_0=1)\n",
    "\n",
    "train_X, train_Y, dev_X, dev_Y, test_X, test_Y = processor.get_train_dev_test_sets()\n",
    "\n",
    "train_Y.shape, dev_Y.shape, test_Y.shape, pd.Series(train_Y).value_counts()"
   ]
  },
  {
   "cell_type": "markdown",
   "id": "c3275a11",
   "metadata": {},
   "source": [
    "## Build solo models w/ preprocessed data\n",
    "**Available models: 'Logistic', 'Logistic Lasso', 'SVC', 'SVC_C', 'LDA'**"
   ]
  },
  {
   "cell_type": "markdown",
   "id": "1692bd50",
   "metadata": {},
   "source": [
    "Note: gradient descent defaults to\n",
    "- max_iterations=75000\n",
    "- tol = 1e-3\n",
    "- etas = [.1, .01, .001, .0001, .00001, .000001]\n",
    "\n",
    "You can modify these by passing in named variables to any model '.fit()' function\n",
    "\n",
    "If you would like to turn off output as gradient descent trys each eta value, use 'show_iter=False'"
   ]
  },
  {
   "cell_type": "code",
   "execution_count": 7,
   "id": "362f53f4",
   "metadata": {
    "ExecuteTime": {
     "end_time": "2022-11-02T05:48:45.681503Z",
     "start_time": "2022-11-02T05:48:42.564167Z"
    }
   },
   "outputs": [
    {
     "name": "stdout",
     "output_type": "stream",
     "text": [
      "Eta: 0.1; Iterations: 2\n",
      "Gradient converged w/ 3085 iterations and eta = 0.0001\n"
     ]
    }
   ],
   "source": [
    "logistic = Model('Logistic')\n",
    "logistic.fit(train_X, train_Y, etas=[.1, .0001], show_iter=True)"
   ]
  },
  {
   "cell_type": "markdown",
   "id": "00e704ba",
   "metadata": {},
   "source": [
    "Any models that require a lambda value requires that it is provided when the model is created (lamb=)"
   ]
  },
  {
   "cell_type": "code",
   "execution_count": 26,
   "id": "0e97473b",
   "metadata": {
    "ExecuteTime": {
     "end_time": "2022-11-02T05:31:38.603061Z",
     "start_time": "2022-11-02T05:28:40.029511Z"
    }
   },
   "outputs": [],
   "source": [
    "logistic = Model('Logistic Lasso', lamb=1)\n",
    "logistic.fit(train_X, train_Y, show_iter=False)"
   ]
  },
  {
   "cell_type": "code",
   "execution_count": 27,
   "id": "5c765576",
   "metadata": {
    "ExecuteTime": {
     "end_time": "2022-11-02T05:31:59.859041Z",
     "start_time": "2022-11-02T05:31:38.605597Z"
    }
   },
   "outputs": [],
   "source": [
    "svc = Model('SVC', lamb=1)\n",
    "svc.fit(train_X, train_Y, show_iter=False)"
   ]
  },
  {
   "cell_type": "markdown",
   "id": "015cf898",
   "metadata": {},
   "source": [
    "Access any modles coefficients via '.coef_'"
   ]
  },
  {
   "cell_type": "code",
   "execution_count": 30,
   "id": "9889fb35",
   "metadata": {
    "ExecuteTime": {
     "end_time": "2022-11-02T05:32:15.844836Z",
     "start_time": "2022-11-02T05:32:15.840942Z"
    }
   },
   "outputs": [
    {
     "data": {
      "text/plain": [
       "array([ 0.00000000e+00,  9.49645789e-06,  1.30141738e-05, -4.68515224e-05,\n",
       "       -3.00345191e-05, -6.14864012e-05,  1.49985113e-04, -8.22653154e-05,\n",
       "        5.92100506e-05,  9.42785972e-05])"
      ]
     },
     "execution_count": 30,
     "metadata": {},
     "output_type": "execute_result"
    }
   ],
   "source": [
    "svc.coef_[:10]"
   ]
  },
  {
   "cell_type": "markdown",
   "id": "fe45ac61",
   "metadata": {},
   "source": [
    "LDA '.coef_' returns a 2-dimensional tuple where [0] holds B and [1] holds the cutoff value (c) for which XB >= C is class 1."
   ]
  },
  {
   "cell_type": "code",
   "execution_count": null,
   "id": "36f3dc00",
   "metadata": {
    "ExecuteTime": {
     "end_time": "2022-11-02T05:32:18.970598Z",
     "start_time": "2022-11-02T05:32:18.930296Z"
    }
   },
   "outputs": [],
   "source": [
    "lda = Model('LDA')\n",
    "lda.fit(train_X, train_Y)\n",
    "lda.coef_"
   ]
  },
  {
   "cell_type": "markdown",
   "id": "b318d02d",
   "metadata": {},
   "source": [
    "## Make predictions and score"
   ]
  },
  {
   "cell_type": "code",
   "execution_count": 10,
   "id": "76258c53",
   "metadata": {
    "ExecuteTime": {
     "end_time": "2022-11-02T05:49:32.407556Z",
     "start_time": "2022-11-02T05:49:32.388580Z"
    }
   },
   "outputs": [
    {
     "data": {
      "text/html": [
       "<div>\n",
       "<style scoped>\n",
       "    .dataframe tbody tr th:only-of-type {\n",
       "        vertical-align: middle;\n",
       "    }\n",
       "\n",
       "    .dataframe tbody tr th {\n",
       "        vertical-align: top;\n",
       "    }\n",
       "\n",
       "    .dataframe thead th {\n",
       "        text-align: right;\n",
       "    }\n",
       "</style>\n",
       "<table border=\"1\" class=\"dataframe\">\n",
       "  <thead>\n",
       "    <tr style=\"text-align: right;\">\n",
       "      <th></th>\n",
       "      <th>True 1</th>\n",
       "      <th>True 0</th>\n",
       "    </tr>\n",
       "  </thead>\n",
       "  <tbody>\n",
       "    <tr>\n",
       "      <th>Pred 1</th>\n",
       "      <td>171</td>\n",
       "      <td>1108</td>\n",
       "    </tr>\n",
       "    <tr>\n",
       "      <th>Pred 0</th>\n",
       "      <td>89</td>\n",
       "      <td>2461</td>\n",
       "    </tr>\n",
       "  </tbody>\n",
       "</table>\n",
       "</div>"
      ],
      "text/plain": [
       "        True 1  True 0\n",
       "Pred 1     171    1108\n",
       "Pred 0      89    2461"
      ]
     },
     "metadata": {},
     "output_type": "display_data"
    },
    {
     "data": {
      "text/plain": [
       "('Accuracy: ', 0.6873857404021938)"
      ]
     },
     "execution_count": 10,
     "metadata": {},
     "output_type": "execute_result"
    }
   ],
   "source": [
    "predictions = logistic.predict(dev_X, dev_Y)\n",
    "display(confusion_matrix(predictions, dev_Y))\n",
    "'Accuracy: ', accuracy(predictions, dev_Y)"
   ]
  },
  {
   "cell_type": "markdown",
   "id": "25ea6211",
   "metadata": {},
   "source": [
    "# Run some analysis of class level ratios in training set"
   ]
  },
  {
   "cell_type": "code",
   "execution_count": null,
   "id": "9f50476f",
   "metadata": {
    "ExecuteTime": {
     "start_time": "2022-11-02T07:09:46.242Z"
    }
   },
   "outputs": [],
   "source": [
    "ratios = np.linspace(0, 2, num=21)\n",
    "fscores = []\n",
    "accuracies = []\n",
    "roc_aucs = []\n",
    "saved_predictions = []\n",
    "for class_ratio in ratios:\n",
    "    # Get splits for the class_ratio\n",
    "    processor.calculate_train_dev_test_split(split_type='set_class_prop_undersample', dev_prop=.03, \n",
    "                                             class_prop_1_0=class_ratio, silence=True)\n",
    "    train_X, train_Y, dev_X, dev_Y, test_X, test_Y = processor.get_train_dev_test_sets()\n",
    "    # Train model and get predictions on the dev set\n",
    "    logisticLasso = Model('Logistic Lasso', lamb=1)\n",
    "    logisticLasso.fit(train_X, train_Y, max_iterations=4000, etas=[.001, .0001], show_iter=True)\n",
    "    predictions = logisticLasso.predict(dev_X, dev_Y)\n",
    "    saved_predictions.append(predictions)\n",
    "    fscores.append(fmeasure(predictions, dev_Y, B=5))\n",
    "    accuracies.append(accuracy(predictions, dev_Y))\n",
    "    roc_aucs.append(roc_auc(predictions, dev_Y))"
   ]
  },
  {
   "cell_type": "code",
   "execution_count": 10,
   "id": "2d581ea1",
   "metadata": {
    "ExecuteTime": {
     "end_time": "2022-11-02T07:06:04.341756Z",
     "start_time": "2022-11-02T07:06:04.048802Z"
    }
   },
   "outputs": [
    {
     "data": {
      "text/html": [
       "\n",
       "<div id=\"altair-viz-40638b9dd13543e5b618c620ea4b9294\"></div>\n",
       "<script type=\"text/javascript\">\n",
       "  (function(spec, embedOpt){\n",
       "    let outputDiv = document.currentScript.previousElementSibling;\n",
       "    if (outputDiv.id !== \"altair-viz-40638b9dd13543e5b618c620ea4b9294\") {\n",
       "      outputDiv = document.getElementById(\"altair-viz-40638b9dd13543e5b618c620ea4b9294\");\n",
       "    }\n",
       "    const paths = {\n",
       "      \"vega\": \"https://cdn.jsdelivr.net/npm//vega@5?noext\",\n",
       "      \"vega-lib\": \"https://cdn.jsdelivr.net/npm//vega-lib?noext\",\n",
       "      \"vega-lite\": \"https://cdn.jsdelivr.net/npm//vega-lite@4.8.1?noext\",\n",
       "      \"vega-embed\": \"https://cdn.jsdelivr.net/npm//vega-embed@6?noext\",\n",
       "    };\n",
       "\n",
       "    function loadScript(lib) {\n",
       "      return new Promise(function(resolve, reject) {\n",
       "        var s = document.createElement('script');\n",
       "        s.src = paths[lib];\n",
       "        s.async = true;\n",
       "        s.onload = () => resolve(paths[lib]);\n",
       "        s.onerror = () => reject(`Error loading script: ${paths[lib]}`);\n",
       "        document.getElementsByTagName(\"head\")[0].appendChild(s);\n",
       "      });\n",
       "    }\n",
       "\n",
       "    function showError(err) {\n",
       "      outputDiv.innerHTML = `<div class=\"error\" style=\"color:red;\">${err}</div>`;\n",
       "      throw err;\n",
       "    }\n",
       "\n",
       "    function displayChart(vegaEmbed) {\n",
       "      vegaEmbed(outputDiv, spec, embedOpt)\n",
       "        .catch(err => showError(`Javascript Error: ${err.message}<br>This usually means there's a typo in your chart specification. See the javascript console for the full traceback.`));\n",
       "    }\n",
       "\n",
       "    if(typeof define === \"function\" && define.amd) {\n",
       "      requirejs.config({paths});\n",
       "      require([\"vega-embed\"], displayChart, err => showError(`Error loading script: ${err.message}`));\n",
       "    } else if (typeof vegaEmbed === \"function\") {\n",
       "      displayChart(vegaEmbed);\n",
       "    } else {\n",
       "      loadScript(\"vega\")\n",
       "        .then(() => loadScript(\"vega-lite\"))\n",
       "        .then(() => loadScript(\"vega-embed\"))\n",
       "        .catch(showError)\n",
       "        .then(() => displayChart(vegaEmbed));\n",
       "    }\n",
       "  })({\"config\": {\"view\": {\"continuousWidth\": 400, \"continuousHeight\": 300}}, \"data\": {\"name\": \"data-c942194cae352729a2055097b6be46e4\"}, \"mark\": \"line\", \"encoding\": {\"x\": {\"type\": \"quantitative\", \"field\": \"Ratios\"}, \"y\": {\"type\": \"quantitative\", \"field\": \"Scores\"}}, \"$schema\": \"https://vega.github.io/schema/vega-lite/v4.8.1.json\", \"datasets\": {\"data-c942194cae352729a2055097b6be46e4\": [{\"Ratios\": 0.0, \"Scores\": 0.0}, {\"Ratios\": 0.1, \"Scores\": 0.5082655471004985}, {\"Ratios\": 0.2, \"Scores\": 0.027931246163290364}, {\"Ratios\": 0.30000000000000004, \"Scores\": 0.6570626297155414}, {\"Ratios\": 0.4, \"Scores\": 0.6499203528979292}, {\"Ratios\": 0.5, \"Scores\": 0.6442422791477136}, {\"Ratios\": 0.6000000000000001, \"Scores\": 0.6654925443231184}, {\"Ratios\": 0.7000000000000001, \"Scores\": 0.6327433628318584}, {\"Ratios\": 0.8, \"Scores\": 0.65251553887651}, {\"Ratios\": 0.9, \"Scores\": 0.41952983725135623}, {\"Ratios\": 1.0, \"Scores\": 0.6235976789168278}, {\"Ratios\": 1.1, \"Scores\": 0.5714285714285714}, {\"Ratios\": 1.2000000000000002, \"Scores\": 0.5945811583395475}, {\"Ratios\": 1.3, \"Scores\": 0.6281879194630873}, {\"Ratios\": 1.4000000000000001, \"Scores\": 0.6158892128279884}, {\"Ratios\": 1.5, \"Scores\": 0.6133397197940366}, {\"Ratios\": 1.6, \"Scores\": 0.6165644171779141}, {\"Ratios\": 1.7000000000000002, \"Scores\": 0.6406015037593986}, {\"Ratios\": 1.8, \"Scores\": 0.6431941088482338}, {\"Ratios\": 1.9000000000000001, \"Scores\": 0.675672581568403}, {\"Ratios\": 2.0, \"Scores\": 0.6549192364170336}]}}, {\"mode\": \"vega-lite\"});\n",
       "</script>"
      ],
      "text/plain": [
       "alt.Chart(...)"
      ]
     },
     "execution_count": 10,
     "metadata": {},
     "output_type": "execute_result"
    }
   ],
   "source": [
    "import altair as alt\n",
    "\n",
    "data = pd.DataFrame({\n",
    "    'Ratios': ratios,\n",
    "    'F-5': fscores,\n",
    "    'ROC-AUC': roc_aucs,\n",
    "    'Accuracy': accuracies\n",
    "})\n",
    "\n",
    "alt.Chart(data).mark_line().encode(\n",
    "    x='Ratios',\n",
    "    y='ROC-AUC'\n",
    ")"
   ]
  },
  {
   "cell_type": "markdown",
   "id": "946617b6",
   "metadata": {},
   "source": [
    "# Run multiple models at once and do hyperparameter tuning"
   ]
  },
  {
   "cell_type": "markdown",
   "id": "f10890d5",
   "metadata": {},
   "source": [
    "## Use the 'ModelGridBuilder' class to create multiple models at once to test"
   ]
  },
  {
   "cell_type": "code",
   "execution_count": 38,
   "id": "533b6b2d",
   "metadata": {
    "ExecuteTime": {
     "end_time": "2022-11-02T05:37:34.605811Z",
     "start_time": "2022-11-02T05:37:34.602983Z"
    }
   },
   "outputs": [],
   "source": [
    "logisticSearchBuilder = ModelGridBuilder('Logistic Lasso', parameters=[0, .25, .5, 1, 1.5, 2])\n",
    "svcSearchBuilder = ModelGridBuilder('SVC', parameters=[0, .25, .5, 1, 1.5, 2])\n",
    "ldaSearchBuilder = ModelGridBuilder('LDA')"
   ]
  },
  {
   "cell_type": "markdown",
   "id": "05a8ac43",
   "metadata": {},
   "source": [
    "**Save all models created into a single list**"
   ]
  },
  {
   "cell_type": "code",
   "execution_count": 39,
   "id": "e9705459",
   "metadata": {
    "ExecuteTime": {
     "end_time": "2022-11-02T05:37:35.495315Z",
     "start_time": "2022-11-02T05:37:35.492624Z"
    }
   },
   "outputs": [],
   "source": [
    "models = logisticSearchBuilder.get_models() + svcSearchBuilder.get_models() + ldaSearchBuilder.get_models()"
   ]
  },
  {
   "cell_type": "markdown",
   "id": "4b070a20",
   "metadata": {},
   "source": [
    "## Use the 'AnalysisPipeline' class to create a grid search over the provided models\n",
    "**Provide AnalysisPipeline with the unprocessed X and Y data, models, and a scoring function to be used on the dev/test sets**\n",
    "\n",
    "Run '.process_data()' to process the data via the input split type (see notes on the Processor object above)\n",
    "\n",
    "Run '.fit_models()' to fit every model provided on the processed data (can pass in gradient descent variables as above)"
   ]
  },
  {
   "cell_type": "code",
   "execution_count": 42,
   "id": "a9d20c32",
   "metadata": {
    "ExecuteTime": {
     "end_time": "2022-11-02T05:39:48.683257Z",
     "start_time": "2022-11-02T05:39:48.681543Z"
    }
   },
   "outputs": [],
   "source": [
    "modelAnalysis = AnalysisPipeline(credit_X, credit_Y, models, roc_auc)\n",
    "modelAnalysis.process_data(split_type='stratified_class', train_prop=.8, dev_prop=.1)\n",
    "modelAnalysis.fit_models(max_iterations=1000, etas=[.001])"
   ]
  },
  {
   "cell_type": "markdown",
   "id": "e15df2b4",
   "metadata": {},
   "source": [
    "**Run predictions on the dev set for every model and determine which one is best via '.test_models()'**\n",
    "\n",
    "**Output all of the computed scores for each model via '.dev_set_analysis'**"
   ]
  },
  {
   "cell_type": "code",
   "execution_count": null,
   "id": "dbdcad86",
   "metadata": {},
   "outputs": [],
   "source": [
    "best_model_specs, conf_mat = modelAnalysis.test_models()\n",
    "display(conf_mat)\n",
    "best_model_specs, modelAnalysis.dev_set_analysis"
   ]
  },
  {
   "cell_type": "markdown",
   "id": "c109e620",
   "metadata": {},
   "source": [
    "**Change the scoring function and retest the models**"
   ]
  },
  {
   "cell_type": "code",
   "execution_count": null,
   "id": "c1ad47df",
   "metadata": {},
   "outputs": [],
   "source": [
    "modelAnalysis.score_func = lambda p, Y: fmeasure(p, Y, B=10)\n",
    "\n",
    "best_model_specs, conf_mat = modelAnalysis.test_models()\n",
    "display(conf_mat)\n",
    "best_model_specs, modelAnalysis.dev_set_analysis"
   ]
  },
  {
   "cell_type": "markdown",
   "id": "d5bae5f7",
   "metadata": {},
   "source": [
    "**Get the test set scores for the best model**"
   ]
  },
  {
   "cell_type": "code",
   "execution_count": null,
   "id": "046c7011",
   "metadata": {},
   "outputs": [],
   "source": [
    "modelAnalysis.testscore_best_model()"
   ]
  }
 ],
 "metadata": {
  "kernelspec": {
   "display_name": "Python 3",
   "language": "python",
   "name": "python3"
  },
  "language_info": {
   "codemirror_mode": {
    "name": "ipython",
    "version": 3
   },
   "file_extension": ".py",
   "mimetype": "text/x-python",
   "name": "python",
   "nbconvert_exporter": "python",
   "pygments_lexer": "ipython3",
   "version": "3.8.8"
  }
 },
 "nbformat": 4,
 "nbformat_minor": 5
}
