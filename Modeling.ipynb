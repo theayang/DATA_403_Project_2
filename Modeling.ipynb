{
 "cells": [
  {
   "cell_type": "code",
   "execution_count": 1,
   "id": "a82bddd9",
   "metadata": {
    "ExecuteTime": {
     "end_time": "2022-11-03T01:38:12.446456Z",
     "start_time": "2022-11-03T01:38:11.474959Z"
    }
   },
   "outputs": [],
   "source": [
    "# Our code imports\n",
    "from Models import Model\n",
    "from Metrics import accuracy, fmeasure, roc_auc, confusion_matrix\n",
    "from Processing import Processor\n",
    "from Pipelines import ModelGridBuilder, AnalysisPipeline\n",
    "\n",
    "# Standard lib imports\n",
    "import pandas as pd\n",
    "import numpy as np"
   ]
  },
  {
   "cell_type": "markdown",
   "id": "b47ad366",
   "metadata": {},
   "source": [
    "## Import the final dataset"
   ]
  },
  {
   "cell_type": "code",
   "execution_count": 2,
   "id": "d6cdccf9",
   "metadata": {
    "ExecuteTime": {
     "end_time": "2022-11-03T01:38:13.119665Z",
     "start_time": "2022-11-03T01:38:12.448628Z"
    }
   },
   "outputs": [],
   "source": [
    "credit = pd.read_csv('cleaned_training_data.csv')\n",
    "credit_X = credit.drop(columns='TARGET')\n",
    "credit_Y = credit['TARGET']"
   ]
  },
  {
   "cell_type": "markdown",
   "id": "c1a3c5dc",
   "metadata": {},
   "source": [
    "# Build solo models (see later for hyperparameter tuning)"
   ]
  },
  {
   "cell_type": "markdown",
   "id": "fa8fe8b1",
   "metadata": {},
   "source": [
    "## Preprocess the data\n",
    "**Use the processor object to handle the data going forward**"
   ]
  },
  {
   "cell_type": "code",
   "execution_count": 3,
   "id": "a1729d06",
   "metadata": {
    "ExecuteTime": {
     "end_time": "2022-11-03T01:38:15.783635Z",
     "start_time": "2022-11-03T01:38:13.545411Z"
    }
   },
   "outputs": [],
   "source": [
    "processor = Processor(credit_X, credit_Y)\n",
    "# Standardize dummify, and pad with B0. Numeric data is infered if no column names provided\n",
    "processor.process_data()"
   ]
  },
  {
   "cell_type": "markdown",
   "id": "ca5da841",
   "metadata": {},
   "source": [
    "## Choose a split type ('random', 'stratified_class', 'set_class_prop_undersample')"
   ]
  },
  {
   "cell_type": "markdown",
   "id": "dfca9a10",
   "metadata": {},
   "source": [
    "'random' performs random selection. 'stratified_class' ensures that the train, dev, and test set each have the same proportions of each class as the overall dataset (\\~93% 0 and 7% 1). 'set_class_prop_undersample' requires the 'class_prop_1_0' parameter to be set (ratio between # of 1s / # of 0s) and forces the training set to have this ratio of class levels. Note that the dev and test sets will have stratified class levels at the overall dataset ratio (\\~ 93% 0 and 7% 1)."
   ]
  },
  {
   "cell_type": "markdown",
   "id": "b93f7691",
   "metadata": {},
   "source": [
    "**random**"
   ]
  },
  {
   "cell_type": "code",
   "execution_count": 4,
   "id": "a34b4557",
   "metadata": {
    "ExecuteTime": {
     "end_time": "2022-11-03T01:38:17.815701Z",
     "start_time": "2022-11-03T01:38:15.785689Z"
    }
   },
   "outputs": [
    {
     "data": {
      "text/plain": [
       "((95282, 133), (95282,), (11911, 133), (11911,), (11910, 133), (11910,))"
      ]
     },
     "execution_count": 4,
     "metadata": {},
     "output_type": "execute_result"
    }
   ],
   "source": [
    "processor.calculate_train_dev_test_split(split_type='random', train_prop=.8, dev_prop=.1)\n",
    "\n",
    "train_X, train_Y, dev_X, dev_Y, test_X, test_Y = processor.get_train_dev_test_sets()\n",
    "\n",
    "train_X.shape, train_Y.shape, dev_X.shape, dev_Y.shape, test_X.shape, test_Y.shape"
   ]
  },
  {
   "cell_type": "markdown",
   "id": "8a018822",
   "metadata": {},
   "source": [
    "**stratified_class**"
   ]
  },
  {
   "cell_type": "markdown",
   "id": "2f5760c5",
   "metadata": {},
   "source": [
    "Note: the calculated train, dev, and test sets are saved and can be accessed by the .get_train_dev_test_sets function. Re-running .calculate_train_dev_test_split() re-calculates the dataset splits"
   ]
  },
  {
   "cell_type": "code",
   "execution_count": 5,
   "id": "752fbdf3",
   "metadata": {
    "ExecuteTime": {
     "end_time": "2022-11-03T01:38:21.338343Z",
     "start_time": "2022-11-03T01:38:19.319222Z"
    }
   },
   "outputs": [
    {
     "name": "stdout",
     "output_type": "stream",
     "text": [
      "Re-calculating train, dev, and test sets\n"
     ]
    },
    {
     "data": {
      "text/plain": [
       "(0    0.93112\n",
       " 1    0.06888\n",
       " dtype: float64,\n",
       " 0    0.931072\n",
       " 1    0.068928\n",
       " dtype: float64,\n",
       " 0    0.93115\n",
       " 1    0.06885\n",
       " dtype: float64)"
      ]
     },
     "execution_count": 5,
     "metadata": {},
     "output_type": "execute_result"
    }
   ],
   "source": [
    "processor.calculate_train_dev_test_split(split_type='stratified_class', train_prop=.8, dev_prop=.1)\n",
    "\n",
    "train_X, train_Y, dev_X, dev_Y, test_X, test_Y = processor.get_train_dev_test_sets()\n",
    "\n",
    "pd.Series(train_Y).value_counts() / len(train_Y), pd.Series(dev_Y).value_counts() / len(dev_Y), pd.Series(test_Y).value_counts() / len(test_Y)"
   ]
  },
  {
   "cell_type": "markdown",
   "id": "8c146657",
   "metadata": {},
   "source": [
    "**set_class_prop_undersample**"
   ]
  },
  {
   "cell_type": "markdown",
   "id": "08a3e76c",
   "metadata": {},
   "source": [
    "Note: train_prop is ignored here (the size of the training set is determined by how large the dev/test sets are and the 1/0 class level ratio)."
   ]
  },
  {
   "cell_type": "code",
   "execution_count": 6,
   "id": "978db238",
   "metadata": {
    "ExecuteTime": {
     "end_time": "2022-11-03T01:38:24.126788Z",
     "start_time": "2022-11-03T01:38:22.669762Z"
    }
   },
   "outputs": [
    {
     "name": "stdout",
     "output_type": "stream",
     "text": [
      "Re-calculating train, dev, and test sets\n"
     ]
    },
    {
     "data": {
      "text/plain": [
       "((15424,),\n",
       " (3573,),\n",
       " (3573,),\n",
       " 0    7712\n",
       " 1    7712\n",
       " dtype: int64)"
      ]
     },
     "execution_count": 6,
     "metadata": {},
     "output_type": "execute_result"
    }
   ],
   "source": [
    "processor.calculate_train_dev_test_split(split_type='set_class_prop_undersample', dev_prop=.03, class_prop_1_0=1)\n",
    "\n",
    "train_X, train_Y, dev_X, dev_Y, test_X, test_Y = processor.get_train_dev_test_sets()\n",
    "\n",
    "train_Y.shape, dev_Y.shape, test_Y.shape, pd.Series(train_Y).value_counts()"
   ]
  },
  {
   "cell_type": "markdown",
   "id": "b589940a",
   "metadata": {},
   "source": [
    "## Build solo models w/ preprocessed data\n",
    "**Available models: 'Logistic', 'Logistic Lasso', 'SVC', 'SVC_C', 'LDA'**"
   ]
  },
  {
   "cell_type": "markdown",
   "id": "d846f7b2",
   "metadata": {},
   "source": [
    "Note: gradient descent defaults to\n",
    "- max_iterations=75000\n",
    "- tol = 1e-3\n",
    "- etas = [.1, .01, .001, .0001, .00001, .000001]\n",
    "\n",
    "You can modify these by passing in named variables to any model '.fit()' function\n",
    "\n",
    "If you would like to turn off output as gradient descent trys each eta value, use 'show_iter=False'"
   ]
  },
  {
   "cell_type": "code",
   "execution_count": 58,
   "id": "4ac5f011",
   "metadata": {
    "ExecuteTime": {
     "end_time": "2022-11-03T00:57:49.341125Z",
     "start_time": "2022-11-03T00:56:40.519470Z"
    }
   },
   "outputs": [
    {
     "name": "stdout",
     "output_type": "stream",
     "text": [
      "Eta: 0.1; Iterations: 3\n",
      "Eta: 0.0005; Iterations: 5000\n",
      "GRADIENT DID NOT CONVERGE. RESULTS ARE BAD\n"
     ]
    }
   ],
   "source": [
    "logistic = Model('Logistic')\n",
    "logistic.fit(train_X, train_Y, max_iterations=5000, etas=[.1, 5e-4], show_iter=True)"
   ]
  },
  {
   "cell_type": "markdown",
   "id": "9cb0f650",
   "metadata": {},
   "source": [
    "Any models that require a lambda value requires that it is provided when the model is created (lamb=)"
   ]
  },
  {
   "cell_type": "code",
   "execution_count": 26,
   "id": "9cb373fa",
   "metadata": {
    "ExecuteTime": {
     "end_time": "2022-11-02T05:31:38.603061Z",
     "start_time": "2022-11-02T05:28:40.029511Z"
    }
   },
   "outputs": [],
   "source": [
    "logistic = Model('Logistic Lasso', lamb=1)\n",
    "logistic.fit(train_X, train_Y, show_iter=False)"
   ]
  },
  {
   "cell_type": "code",
   "execution_count": 27,
   "id": "540b93ce",
   "metadata": {
    "ExecuteTime": {
     "end_time": "2022-11-02T05:31:59.859041Z",
     "start_time": "2022-11-02T05:31:38.605597Z"
    }
   },
   "outputs": [],
   "source": [
    "svc = Model('SVC', lamb=1)\n",
    "svc.fit(train_X, train_Y, show_iter=False)"
   ]
  },
  {
   "cell_type": "markdown",
   "id": "e8a6930b",
   "metadata": {},
   "source": [
    "Access any modles coefficients via '.coef_'"
   ]
  },
  {
   "cell_type": "code",
   "execution_count": 30,
   "id": "ea6adde5",
   "metadata": {
    "ExecuteTime": {
     "end_time": "2022-11-02T05:32:15.844836Z",
     "start_time": "2022-11-02T05:32:15.840942Z"
    }
   },
   "outputs": [
    {
     "data": {
      "text/plain": [
       "array([ 0.00000000e+00,  9.49645789e-06,  1.30141738e-05, -4.68515224e-05,\n",
       "       -3.00345191e-05, -6.14864012e-05,  1.49985113e-04, -8.22653154e-05,\n",
       "        5.92100506e-05,  9.42785972e-05])"
      ]
     },
     "execution_count": 30,
     "metadata": {},
     "output_type": "execute_result"
    }
   ],
   "source": [
    "svc.coef_[:10]"
   ]
  },
  {
   "cell_type": "markdown",
   "id": "226395c6",
   "metadata": {},
   "source": [
    "LDA '.coef_' returns a 2-dimensional tuple where [0] holds B and [1] holds the cutoff value (c) for which XB >= C is class 1."
   ]
  },
  {
   "cell_type": "code",
   "execution_count": null,
   "id": "d480e31a",
   "metadata": {
    "ExecuteTime": {
     "end_time": "2022-11-02T05:32:18.970598Z",
     "start_time": "2022-11-02T05:32:18.930296Z"
    }
   },
   "outputs": [],
   "source": [
    "lda = Model('LDA')\n",
    "lda.fit(train_X, train_Y)\n",
    "lda.coef_"
   ]
  },
  {
   "cell_type": "markdown",
   "id": "aebfc114",
   "metadata": {},
   "source": [
    "## Make predictions and score"
   ]
  },
  {
   "cell_type": "code",
   "execution_count": 10,
   "id": "75dbe947",
   "metadata": {
    "ExecuteTime": {
     "end_time": "2022-11-02T05:49:32.407556Z",
     "start_time": "2022-11-02T05:49:32.388580Z"
    }
   },
   "outputs": [
    {
     "data": {
      "text/html": [
       "<div>\n",
       "<style scoped>\n",
       "    .dataframe tbody tr th:only-of-type {\n",
       "        vertical-align: middle;\n",
       "    }\n",
       "\n",
       "    .dataframe tbody tr th {\n",
       "        vertical-align: top;\n",
       "    }\n",
       "\n",
       "    .dataframe thead th {\n",
       "        text-align: right;\n",
       "    }\n",
       "</style>\n",
       "<table border=\"1\" class=\"dataframe\">\n",
       "  <thead>\n",
       "    <tr style=\"text-align: right;\">\n",
       "      <th></th>\n",
       "      <th>True 1</th>\n",
       "      <th>True 0</th>\n",
       "    </tr>\n",
       "  </thead>\n",
       "  <tbody>\n",
       "    <tr>\n",
       "      <th>Pred 1</th>\n",
       "      <td>171</td>\n",
       "      <td>1108</td>\n",
       "    </tr>\n",
       "    <tr>\n",
       "      <th>Pred 0</th>\n",
       "      <td>89</td>\n",
       "      <td>2461</td>\n",
       "    </tr>\n",
       "  </tbody>\n",
       "</table>\n",
       "</div>"
      ],
      "text/plain": [
       "        True 1  True 0\n",
       "Pred 1     171    1108\n",
       "Pred 0      89    2461"
      ]
     },
     "metadata": {},
     "output_type": "display_data"
    },
    {
     "data": {
      "text/plain": [
       "('Accuracy: ', 0.6873857404021938)"
      ]
     },
     "execution_count": 10,
     "metadata": {},
     "output_type": "execute_result"
    }
   ],
   "source": [
    "predictions = logistic.predict(dev_X, dev_Y)\n",
    "display(confusion_matrix(predictions, dev_Y))\n",
    "'Accuracy: ', accuracy(predictions, dev_Y)"
   ]
  },
  {
   "cell_type": "markdown",
   "id": "419da177",
   "metadata": {},
   "source": [
    "# Run some analysis of class level ratios in training set"
   ]
  },
  {
   "cell_type": "code",
   "execution_count": 15,
   "id": "dabd615a",
   "metadata": {
    "ExecuteTime": {
     "end_time": "2022-11-02T07:32:21.452369Z",
     "start_time": "2022-11-02T07:23:52.580241Z"
    }
   },
   "outputs": [
    {
     "name": "stdout",
     "output_type": "stream",
     "text": [
      "Eta: 0.0001; Iterations: 4000\n",
      "Eta: 0.0001; Iterations: 4000\n",
      "GRADIENT DID NOT CONVERGE. RESULTS ARE BAD\n",
      "Eta: 0.0001; Iterations: 4000\n",
      "Eta: 0.0001; Iterations: 4000\n",
      "GRADIENT DID NOT CONVERGE. RESULTS ARE BAD\n",
      "Eta: 0.0001; Iterations: 4000\n",
      "Eta: 0.0001; Iterations: 4000\n",
      "GRADIENT DID NOT CONVERGE. RESULTS ARE BAD\n",
      "Eta: 0.0001; Iterations: 4000\n",
      "Eta: 0.0001; Iterations: 4000\n",
      "GRADIENT DID NOT CONVERGE. RESULTS ARE BAD\n",
      "Eta: 0.0001; Iterations: 4000\n",
      "Eta: 0.0001; Iterations: 4000\n",
      "GRADIENT DID NOT CONVERGE. RESULTS ARE BAD\n",
      "Eta: 0.0001; Iterations: 4000\n",
      "Eta: 0.0001; Iterations: 4000\n",
      "GRADIENT DID NOT CONVERGE. RESULTS ARE BAD\n",
      "Eta: 0.0001; Iterations: 4000\n",
      "Eta: 0.0001; Iterations: 4000\n",
      "GRADIENT DID NOT CONVERGE. RESULTS ARE BAD\n",
      "Eta: 0.0001; Iterations: 4000\n",
      "Eta: 0.0001; Iterations: 4000\n",
      "GRADIENT DID NOT CONVERGE. RESULTS ARE BAD\n",
      "Eta: 0.0001; Iterations: 4000\n",
      "Eta: 0.0001; Iterations: 4000\n",
      "GRADIENT DID NOT CONVERGE. RESULTS ARE BAD\n",
      "Eta: 0.0001; Iterations: 4000\n",
      "Eta: 0.0001; Iterations: 4000\n",
      "GRADIENT DID NOT CONVERGE. RESULTS ARE BAD\n",
      "Eta: 0.0001; Iterations: 4000\n",
      "Eta: 0.0001; Iterations: 4000\n",
      "GRADIENT DID NOT CONVERGE. RESULTS ARE BAD\n",
      "Eta: 0.0001; Iterations: 4000\n",
      "Eta: 0.0001; Iterations: 4000\n",
      "GRADIENT DID NOT CONVERGE. RESULTS ARE BAD\n",
      "Eta: 0.0001; Iterations: 4000\n",
      "Eta: 0.0001; Iterations: 4000\n",
      "GRADIENT DID NOT CONVERGE. RESULTS ARE BAD\n",
      "Eta: 0.0001; Iterations: 4000\n",
      "Eta: 0.0001; Iterations: 4000\n",
      "GRADIENT DID NOT CONVERGE. RESULTS ARE BAD\n",
      "Eta: 0.0001; Iterations: 4000\n",
      "Eta: 0.0001; Iterations: 4000\n",
      "GRADIENT DID NOT CONVERGE. RESULTS ARE BAD\n",
      "Eta: 0.0001; Iterations: 4000\n",
      "Eta: 0.0001; Iterations: 4000\n",
      "GRADIENT DID NOT CONVERGE. RESULTS ARE BAD\n",
      "Eta: 0.0001; Iterations: 4000\n",
      "Eta: 0.0001; Iterations: 4000\n",
      "GRADIENT DID NOT CONVERGE. RESULTS ARE BAD\n",
      "Eta: 0.0001; Iterations: 4000\n",
      "Eta: 0.0001; Iterations: 4000\n",
      "GRADIENT DID NOT CONVERGE. RESULTS ARE BAD\n",
      "Eta: 0.0001; Iterations: 4000\n",
      "Eta: 0.0001; Iterations: 4000\n",
      "GRADIENT DID NOT CONVERGE. RESULTS ARE BAD\n",
      "Eta: 0.0001; Iterations: 4000\n",
      "Eta: 0.0001; Iterations: 4000\n",
      "GRADIENT DID NOT CONVERGE. RESULTS ARE BAD\n",
      "Eta: 0.0001; Iterations: 4000\n",
      "Eta: 0.0001; Iterations: 4000\n",
      "GRADIENT DID NOT CONVERGE. RESULTS ARE BAD\n"
     ]
    }
   ],
   "source": [
    "ratios = np.linspace(0, 2, num=21)\n",
    "fscores = []\n",
    "accuracies = []\n",
    "roc_aucs = []\n",
    "saved_predictions = []\n",
    "for class_ratio in ratios:\n",
    "    # Get splits for the class_ratio\n",
    "    processor.calculate_train_dev_test_split(split_type='set_class_prop_undersample', dev_prop=.03, \n",
    "                                             class_prop_1_0=class_ratio, silence=True)\n",
    "    train_X, train_Y, dev_X, dev_Y, test_X, test_Y = processor.get_train_dev_test_sets()\n",
    "    # Train model and get predictions on the dev set\n",
    "    logisticLasso = Model('Logistic Lasso', lamb=1)\n",
    "    logisticLasso.fit(train_X, train_Y, max_iterations=4000, etas=[1e-4, 1e-5], show_iter=True)\n",
    "    predictions = logisticLasso.predict(dev_X, dev_Y)\n",
    "    saved_predictions.append(predictions)\n",
    "    fscores.append(fmeasure(predictions, dev_Y, B=5))\n",
    "    accuracies.append(accuracy(predictions, dev_Y))\n",
    "    roc_aucs.append(roc_auc(predictions, dev_Y))"
   ]
  },
  {
   "cell_type": "code",
   "execution_count": 17,
   "id": "400d636c",
   "metadata": {
    "ExecuteTime": {
     "end_time": "2022-11-02T07:33:31.382134Z",
     "start_time": "2022-11-02T07:33:31.378937Z"
    }
   },
   "outputs": [],
   "source": [
    "import altair as alt\n",
    "\n",
    "data = pd.DataFrame({\n",
    "    'Ratios': ratios,\n",
    "    'F-5': fscores,\n",
    "    'ROC-AUC': roc_aucs,\n",
    "    'Accuracy': accuracies\n",
    "})"
   ]
  },
  {
   "cell_type": "code",
   "execution_count": 18,
   "id": "4f51fedc",
   "metadata": {
    "ExecuteTime": {
     "end_time": "2022-11-02T07:33:33.840300Z",
     "start_time": "2022-11-02T07:33:33.821045Z"
    }
   },
   "outputs": [
    {
     "data": {
      "text/html": [
       "\n",
       "<div id=\"altair-viz-a934b5d255474b7ea13bd72e47998449\"></div>\n",
       "<script type=\"text/javascript\">\n",
       "  (function(spec, embedOpt){\n",
       "    let outputDiv = document.currentScript.previousElementSibling;\n",
       "    if (outputDiv.id !== \"altair-viz-a934b5d255474b7ea13bd72e47998449\") {\n",
       "      outputDiv = document.getElementById(\"altair-viz-a934b5d255474b7ea13bd72e47998449\");\n",
       "    }\n",
       "    const paths = {\n",
       "      \"vega\": \"https://cdn.jsdelivr.net/npm//vega@5?noext\",\n",
       "      \"vega-lib\": \"https://cdn.jsdelivr.net/npm//vega-lib?noext\",\n",
       "      \"vega-lite\": \"https://cdn.jsdelivr.net/npm//vega-lite@4.8.1?noext\",\n",
       "      \"vega-embed\": \"https://cdn.jsdelivr.net/npm//vega-embed@6?noext\",\n",
       "    };\n",
       "\n",
       "    function loadScript(lib) {\n",
       "      return new Promise(function(resolve, reject) {\n",
       "        var s = document.createElement('script');\n",
       "        s.src = paths[lib];\n",
       "        s.async = true;\n",
       "        s.onload = () => resolve(paths[lib]);\n",
       "        s.onerror = () => reject(`Error loading script: ${paths[lib]}`);\n",
       "        document.getElementsByTagName(\"head\")[0].appendChild(s);\n",
       "      });\n",
       "    }\n",
       "\n",
       "    function showError(err) {\n",
       "      outputDiv.innerHTML = `<div class=\"error\" style=\"color:red;\">${err}</div>`;\n",
       "      throw err;\n",
       "    }\n",
       "\n",
       "    function displayChart(vegaEmbed) {\n",
       "      vegaEmbed(outputDiv, spec, embedOpt)\n",
       "        .catch(err => showError(`Javascript Error: ${err.message}<br>This usually means there's a typo in your chart specification. See the javascript console for the full traceback.`));\n",
       "    }\n",
       "\n",
       "    if(typeof define === \"function\" && define.amd) {\n",
       "      requirejs.config({paths});\n",
       "      require([\"vega-embed\"], displayChart, err => showError(`Error loading script: ${err.message}`));\n",
       "    } else if (typeof vegaEmbed === \"function\") {\n",
       "      displayChart(vegaEmbed);\n",
       "    } else {\n",
       "      loadScript(\"vega\")\n",
       "        .then(() => loadScript(\"vega-lite\"))\n",
       "        .then(() => loadScript(\"vega-embed\"))\n",
       "        .catch(showError)\n",
       "        .then(() => displayChart(vegaEmbed));\n",
       "    }\n",
       "  })({\"config\": {\"view\": {\"continuousWidth\": 400, \"continuousHeight\": 300}}, \"data\": {\"name\": \"data-cd520c0fdb5ac65ace683dbbc682fc33\"}, \"mark\": \"line\", \"encoding\": {\"x\": {\"type\": \"quantitative\", \"field\": \"Ratios\"}, \"y\": {\"type\": \"quantitative\", \"field\": \"ROC-AUC\"}}, \"$schema\": \"https://vega.github.io/schema/vega-lite/v4.8.1.json\", \"datasets\": {\"data-cd520c0fdb5ac65ace683dbbc682fc33\": [{\"Ratios\": 0.0, \"F-5\": 0.0, \"ROC-AUC\": 0.5, \"Accuracy\": 0.9320971533037347}, {\"Ratios\": 0.1, \"F-5\": 0.0, \"ROC-AUC\": 0.5, \"Accuracy\": 0.9320971533037347}, {\"Ratios\": 0.2, \"F-5\": 0.12173387705784627, \"ROC-AUC\": 0.5470068107851801, \"Accuracy\": 0.9166884303995821}, {\"Ratios\": 0.30000000000000004, \"F-5\": 0.6170030581039756, \"ROC-AUC\": 0.6655958359376682, \"Accuracy\": 0.5959780621572212}, {\"Ratios\": 0.4, \"F-5\": 0.6014519502891595, \"ROC-AUC\": 0.659941375519969, \"Accuracy\": 0.6053799947767041}, {\"Ratios\": 0.5, \"F-5\": 0.6333927510398099, \"ROC-AUC\": 0.6546678664568829, \"Accuracy\": 0.5390441368503526}, {\"Ratios\": 0.6000000000000001, \"F-5\": 0.6608371225370177, \"ROC-AUC\": 0.6587936720046554, \"Accuracy\": 0.5035257247323061}, {\"Ratios\": 0.7000000000000001, \"F-5\": 0.6765460910151692, \"ROC-AUC\": 0.6700901997974007, \"Accuracy\": 0.5079655262470619}, {\"Ratios\": 0.8, \"F-5\": 0.658916531039293, \"ROC-AUC\": 0.6552912903851542, \"Accuracy\": 0.49699660485766517}, {\"Ratios\": 0.9, \"F-5\": 0.46441428967045145, \"ROC-AUC\": 0.6650004310623532, \"Accuracy\": 0.8109166884303995}, {\"Ratios\": 1.0, \"F-5\": 0.5858117677352904, \"ROC-AUC\": 0.6835544323986464, \"Accuracy\": 0.6926090363019065}, {\"Ratios\": 1.1, \"F-5\": 0.6032026226200984, \"ROC-AUC\": 0.679147358665431, \"Accuracy\": 0.6544789762340036}, {\"Ratios\": 1.2000000000000002, \"F-5\": 0.6118404756006935, \"ROC-AUC\": 0.6714927689290255, \"Accuracy\": 0.6202663880908853}, {\"Ratios\": 1.3, \"F-5\": 0.5909813027007209, \"ROC-AUC\": 0.6479696963165722, \"Accuracy\": 0.589710107077566}, {\"Ratios\": 1.4000000000000001, \"F-5\": 0.6333815726000965, \"ROC-AUC\": 0.6657100674612582, \"Accuracy\": 0.569600417863672}, {\"Ratios\": 1.5, \"F-5\": 0.6431204661672019, \"ROC-AUC\": 0.6616979546091342, \"Accuracy\": 0.5421781143901802}, {\"Ratios\": 1.6, \"F-5\": 0.6488576449912127, \"ROC-AUC\": 0.6543618121861327, \"Accuracy\": 0.5118829981718465}, {\"Ratios\": 1.7000000000000002, \"F-5\": 0.6872773244454661, \"ROC-AUC\": 0.6661799254262128, \"Accuracy\": 0.4774092452337425}, {\"Ratios\": 1.8, \"F-5\": 0.6424548902425009, \"ROC-AUC\": 0.6352323426083583, \"Accuracy\": 0.4695743013841734}, {\"Ratios\": 1.9000000000000001, \"F-5\": 0.6719799612888534, \"ROC-AUC\": 0.6485025971506779, \"Accuracy\": 0.45442674327500654}, {\"Ratios\": 2.0, \"F-5\": 0.6623641304347826, \"ROC-AUC\": 0.6375115848007414, \"Accuracy\": 0.4405850091407678}]}}, {\"mode\": \"vega-lite\"});\n",
       "</script>"
      ],
      "text/plain": [
       "alt.Chart(...)"
      ]
     },
     "execution_count": 18,
     "metadata": {},
     "output_type": "execute_result"
    }
   ],
   "source": [
    "alt.Chart(data).mark_line().encode(\n",
    "    x='Ratios',\n",
    "    y='ROC-AUC'\n",
    ")"
   ]
  },
  {
   "cell_type": "code",
   "execution_count": 19,
   "id": "f1e9f3bc",
   "metadata": {
    "ExecuteTime": {
     "end_time": "2022-11-02T07:33:43.648489Z",
     "start_time": "2022-11-02T07:33:43.629303Z"
    }
   },
   "outputs": [
    {
     "data": {
      "text/html": [
       "\n",
       "<div id=\"altair-viz-af1ece4ab1934a29b8a525dc5dddd3ef\"></div>\n",
       "<script type=\"text/javascript\">\n",
       "  (function(spec, embedOpt){\n",
       "    let outputDiv = document.currentScript.previousElementSibling;\n",
       "    if (outputDiv.id !== \"altair-viz-af1ece4ab1934a29b8a525dc5dddd3ef\") {\n",
       "      outputDiv = document.getElementById(\"altair-viz-af1ece4ab1934a29b8a525dc5dddd3ef\");\n",
       "    }\n",
       "    const paths = {\n",
       "      \"vega\": \"https://cdn.jsdelivr.net/npm//vega@5?noext\",\n",
       "      \"vega-lib\": \"https://cdn.jsdelivr.net/npm//vega-lib?noext\",\n",
       "      \"vega-lite\": \"https://cdn.jsdelivr.net/npm//vega-lite@4.8.1?noext\",\n",
       "      \"vega-embed\": \"https://cdn.jsdelivr.net/npm//vega-embed@6?noext\",\n",
       "    };\n",
       "\n",
       "    function loadScript(lib) {\n",
       "      return new Promise(function(resolve, reject) {\n",
       "        var s = document.createElement('script');\n",
       "        s.src = paths[lib];\n",
       "        s.async = true;\n",
       "        s.onload = () => resolve(paths[lib]);\n",
       "        s.onerror = () => reject(`Error loading script: ${paths[lib]}`);\n",
       "        document.getElementsByTagName(\"head\")[0].appendChild(s);\n",
       "      });\n",
       "    }\n",
       "\n",
       "    function showError(err) {\n",
       "      outputDiv.innerHTML = `<div class=\"error\" style=\"color:red;\">${err}</div>`;\n",
       "      throw err;\n",
       "    }\n",
       "\n",
       "    function displayChart(vegaEmbed) {\n",
       "      vegaEmbed(outputDiv, spec, embedOpt)\n",
       "        .catch(err => showError(`Javascript Error: ${err.message}<br>This usually means there's a typo in your chart specification. See the javascript console for the full traceback.`));\n",
       "    }\n",
       "\n",
       "    if(typeof define === \"function\" && define.amd) {\n",
       "      requirejs.config({paths});\n",
       "      require([\"vega-embed\"], displayChart, err => showError(`Error loading script: ${err.message}`));\n",
       "    } else if (typeof vegaEmbed === \"function\") {\n",
       "      displayChart(vegaEmbed);\n",
       "    } else {\n",
       "      loadScript(\"vega\")\n",
       "        .then(() => loadScript(\"vega-lite\"))\n",
       "        .then(() => loadScript(\"vega-embed\"))\n",
       "        .catch(showError)\n",
       "        .then(() => displayChart(vegaEmbed));\n",
       "    }\n",
       "  })({\"config\": {\"view\": {\"continuousWidth\": 400, \"continuousHeight\": 300}}, \"data\": {\"name\": \"data-cd520c0fdb5ac65ace683dbbc682fc33\"}, \"mark\": \"line\", \"encoding\": {\"x\": {\"type\": \"quantitative\", \"field\": \"Ratios\"}, \"y\": {\"type\": \"quantitative\", \"field\": \"F-5\"}}, \"$schema\": \"https://vega.github.io/schema/vega-lite/v4.8.1.json\", \"datasets\": {\"data-cd520c0fdb5ac65ace683dbbc682fc33\": [{\"Ratios\": 0.0, \"F-5\": 0.0, \"ROC-AUC\": 0.5, \"Accuracy\": 0.9320971533037347}, {\"Ratios\": 0.1, \"F-5\": 0.0, \"ROC-AUC\": 0.5, \"Accuracy\": 0.9320971533037347}, {\"Ratios\": 0.2, \"F-5\": 0.12173387705784627, \"ROC-AUC\": 0.5470068107851801, \"Accuracy\": 0.9166884303995821}, {\"Ratios\": 0.30000000000000004, \"F-5\": 0.6170030581039756, \"ROC-AUC\": 0.6655958359376682, \"Accuracy\": 0.5959780621572212}, {\"Ratios\": 0.4, \"F-5\": 0.6014519502891595, \"ROC-AUC\": 0.659941375519969, \"Accuracy\": 0.6053799947767041}, {\"Ratios\": 0.5, \"F-5\": 0.6333927510398099, \"ROC-AUC\": 0.6546678664568829, \"Accuracy\": 0.5390441368503526}, {\"Ratios\": 0.6000000000000001, \"F-5\": 0.6608371225370177, \"ROC-AUC\": 0.6587936720046554, \"Accuracy\": 0.5035257247323061}, {\"Ratios\": 0.7000000000000001, \"F-5\": 0.6765460910151692, \"ROC-AUC\": 0.6700901997974007, \"Accuracy\": 0.5079655262470619}, {\"Ratios\": 0.8, \"F-5\": 0.658916531039293, \"ROC-AUC\": 0.6552912903851542, \"Accuracy\": 0.49699660485766517}, {\"Ratios\": 0.9, \"F-5\": 0.46441428967045145, \"ROC-AUC\": 0.6650004310623532, \"Accuracy\": 0.8109166884303995}, {\"Ratios\": 1.0, \"F-5\": 0.5858117677352904, \"ROC-AUC\": 0.6835544323986464, \"Accuracy\": 0.6926090363019065}, {\"Ratios\": 1.1, \"F-5\": 0.6032026226200984, \"ROC-AUC\": 0.679147358665431, \"Accuracy\": 0.6544789762340036}, {\"Ratios\": 1.2000000000000002, \"F-5\": 0.6118404756006935, \"ROC-AUC\": 0.6714927689290255, \"Accuracy\": 0.6202663880908853}, {\"Ratios\": 1.3, \"F-5\": 0.5909813027007209, \"ROC-AUC\": 0.6479696963165722, \"Accuracy\": 0.589710107077566}, {\"Ratios\": 1.4000000000000001, \"F-5\": 0.6333815726000965, \"ROC-AUC\": 0.6657100674612582, \"Accuracy\": 0.569600417863672}, {\"Ratios\": 1.5, \"F-5\": 0.6431204661672019, \"ROC-AUC\": 0.6616979546091342, \"Accuracy\": 0.5421781143901802}, {\"Ratios\": 1.6, \"F-5\": 0.6488576449912127, \"ROC-AUC\": 0.6543618121861327, \"Accuracy\": 0.5118829981718465}, {\"Ratios\": 1.7000000000000002, \"F-5\": 0.6872773244454661, \"ROC-AUC\": 0.6661799254262128, \"Accuracy\": 0.4774092452337425}, {\"Ratios\": 1.8, \"F-5\": 0.6424548902425009, \"ROC-AUC\": 0.6352323426083583, \"Accuracy\": 0.4695743013841734}, {\"Ratios\": 1.9000000000000001, \"F-5\": 0.6719799612888534, \"ROC-AUC\": 0.6485025971506779, \"Accuracy\": 0.45442674327500654}, {\"Ratios\": 2.0, \"F-5\": 0.6623641304347826, \"ROC-AUC\": 0.6375115848007414, \"Accuracy\": 0.4405850091407678}]}}, {\"mode\": \"vega-lite\"});\n",
       "</script>"
      ],
      "text/plain": [
       "alt.Chart(...)"
      ]
     },
     "execution_count": 19,
     "metadata": {},
     "output_type": "execute_result"
    }
   ],
   "source": [
    "alt.Chart(data).mark_line().encode(\n",
    "    x='Ratios',\n",
    "    y='F-5'\n",
    ")"
   ]
  },
  {
   "cell_type": "code",
   "execution_count": 20,
   "id": "0d3cdf95",
   "metadata": {
    "ExecuteTime": {
     "end_time": "2022-11-02T07:34:11.711562Z",
     "start_time": "2022-11-02T07:34:11.692416Z"
    }
   },
   "outputs": [
    {
     "data": {
      "text/html": [
       "\n",
       "<div id=\"altair-viz-d82c78d719964760ac624018d97e95e9\"></div>\n",
       "<script type=\"text/javascript\">\n",
       "  (function(spec, embedOpt){\n",
       "    let outputDiv = document.currentScript.previousElementSibling;\n",
       "    if (outputDiv.id !== \"altair-viz-d82c78d719964760ac624018d97e95e9\") {\n",
       "      outputDiv = document.getElementById(\"altair-viz-d82c78d719964760ac624018d97e95e9\");\n",
       "    }\n",
       "    const paths = {\n",
       "      \"vega\": \"https://cdn.jsdelivr.net/npm//vega@5?noext\",\n",
       "      \"vega-lib\": \"https://cdn.jsdelivr.net/npm//vega-lib?noext\",\n",
       "      \"vega-lite\": \"https://cdn.jsdelivr.net/npm//vega-lite@4.8.1?noext\",\n",
       "      \"vega-embed\": \"https://cdn.jsdelivr.net/npm//vega-embed@6?noext\",\n",
       "    };\n",
       "\n",
       "    function loadScript(lib) {\n",
       "      return new Promise(function(resolve, reject) {\n",
       "        var s = document.createElement('script');\n",
       "        s.src = paths[lib];\n",
       "        s.async = true;\n",
       "        s.onload = () => resolve(paths[lib]);\n",
       "        s.onerror = () => reject(`Error loading script: ${paths[lib]}`);\n",
       "        document.getElementsByTagName(\"head\")[0].appendChild(s);\n",
       "      });\n",
       "    }\n",
       "\n",
       "    function showError(err) {\n",
       "      outputDiv.innerHTML = `<div class=\"error\" style=\"color:red;\">${err}</div>`;\n",
       "      throw err;\n",
       "    }\n",
       "\n",
       "    function displayChart(vegaEmbed) {\n",
       "      vegaEmbed(outputDiv, spec, embedOpt)\n",
       "        .catch(err => showError(`Javascript Error: ${err.message}<br>This usually means there's a typo in your chart specification. See the javascript console for the full traceback.`));\n",
       "    }\n",
       "\n",
       "    if(typeof define === \"function\" && define.amd) {\n",
       "      requirejs.config({paths});\n",
       "      require([\"vega-embed\"], displayChart, err => showError(`Error loading script: ${err.message}`));\n",
       "    } else if (typeof vegaEmbed === \"function\") {\n",
       "      displayChart(vegaEmbed);\n",
       "    } else {\n",
       "      loadScript(\"vega\")\n",
       "        .then(() => loadScript(\"vega-lite\"))\n",
       "        .then(() => loadScript(\"vega-embed\"))\n",
       "        .catch(showError)\n",
       "        .then(() => displayChart(vegaEmbed));\n",
       "    }\n",
       "  })({\"config\": {\"view\": {\"continuousWidth\": 400, \"continuousHeight\": 300}}, \"data\": {\"name\": \"data-cd520c0fdb5ac65ace683dbbc682fc33\"}, \"mark\": \"line\", \"encoding\": {\"x\": {\"type\": \"quantitative\", \"field\": \"Ratios\"}, \"y\": {\"type\": \"quantitative\", \"field\": \"Accuracy\"}}, \"$schema\": \"https://vega.github.io/schema/vega-lite/v4.8.1.json\", \"datasets\": {\"data-cd520c0fdb5ac65ace683dbbc682fc33\": [{\"Ratios\": 0.0, \"F-5\": 0.0, \"ROC-AUC\": 0.5, \"Accuracy\": 0.9320971533037347}, {\"Ratios\": 0.1, \"F-5\": 0.0, \"ROC-AUC\": 0.5, \"Accuracy\": 0.9320971533037347}, {\"Ratios\": 0.2, \"F-5\": 0.12173387705784627, \"ROC-AUC\": 0.5470068107851801, \"Accuracy\": 0.9166884303995821}, {\"Ratios\": 0.30000000000000004, \"F-5\": 0.6170030581039756, \"ROC-AUC\": 0.6655958359376682, \"Accuracy\": 0.5959780621572212}, {\"Ratios\": 0.4, \"F-5\": 0.6014519502891595, \"ROC-AUC\": 0.659941375519969, \"Accuracy\": 0.6053799947767041}, {\"Ratios\": 0.5, \"F-5\": 0.6333927510398099, \"ROC-AUC\": 0.6546678664568829, \"Accuracy\": 0.5390441368503526}, {\"Ratios\": 0.6000000000000001, \"F-5\": 0.6608371225370177, \"ROC-AUC\": 0.6587936720046554, \"Accuracy\": 0.5035257247323061}, {\"Ratios\": 0.7000000000000001, \"F-5\": 0.6765460910151692, \"ROC-AUC\": 0.6700901997974007, \"Accuracy\": 0.5079655262470619}, {\"Ratios\": 0.8, \"F-5\": 0.658916531039293, \"ROC-AUC\": 0.6552912903851542, \"Accuracy\": 0.49699660485766517}, {\"Ratios\": 0.9, \"F-5\": 0.46441428967045145, \"ROC-AUC\": 0.6650004310623532, \"Accuracy\": 0.8109166884303995}, {\"Ratios\": 1.0, \"F-5\": 0.5858117677352904, \"ROC-AUC\": 0.6835544323986464, \"Accuracy\": 0.6926090363019065}, {\"Ratios\": 1.1, \"F-5\": 0.6032026226200984, \"ROC-AUC\": 0.679147358665431, \"Accuracy\": 0.6544789762340036}, {\"Ratios\": 1.2000000000000002, \"F-5\": 0.6118404756006935, \"ROC-AUC\": 0.6714927689290255, \"Accuracy\": 0.6202663880908853}, {\"Ratios\": 1.3, \"F-5\": 0.5909813027007209, \"ROC-AUC\": 0.6479696963165722, \"Accuracy\": 0.589710107077566}, {\"Ratios\": 1.4000000000000001, \"F-5\": 0.6333815726000965, \"ROC-AUC\": 0.6657100674612582, \"Accuracy\": 0.569600417863672}, {\"Ratios\": 1.5, \"F-5\": 0.6431204661672019, \"ROC-AUC\": 0.6616979546091342, \"Accuracy\": 0.5421781143901802}, {\"Ratios\": 1.6, \"F-5\": 0.6488576449912127, \"ROC-AUC\": 0.6543618121861327, \"Accuracy\": 0.5118829981718465}, {\"Ratios\": 1.7000000000000002, \"F-5\": 0.6872773244454661, \"ROC-AUC\": 0.6661799254262128, \"Accuracy\": 0.4774092452337425}, {\"Ratios\": 1.8, \"F-5\": 0.6424548902425009, \"ROC-AUC\": 0.6352323426083583, \"Accuracy\": 0.4695743013841734}, {\"Ratios\": 1.9000000000000001, \"F-5\": 0.6719799612888534, \"ROC-AUC\": 0.6485025971506779, \"Accuracy\": 0.45442674327500654}, {\"Ratios\": 2.0, \"F-5\": 0.6623641304347826, \"ROC-AUC\": 0.6375115848007414, \"Accuracy\": 0.4405850091407678}]}}, {\"mode\": \"vega-lite\"});\n",
       "</script>"
      ],
      "text/plain": [
       "alt.Chart(...)"
      ]
     },
     "execution_count": 20,
     "metadata": {},
     "output_type": "execute_result"
    }
   ],
   "source": [
    "alt.Chart(data).mark_line().encode(\n",
    "    x='Ratios',\n",
    "    y='Accuracy'\n",
    ")"
   ]
  },
  {
   "cell_type": "markdown",
   "id": "a356824e",
   "metadata": {},
   "source": [
    "# Run multiple models at once and do hyperparameter tuning"
   ]
  },
  {
   "cell_type": "markdown",
   "id": "e8ede731",
   "metadata": {},
   "source": [
    "## Use the 'ModelGridBuilder' class to create multiple models at once to test"
   ]
  },
  {
   "cell_type": "code",
   "execution_count": 38,
   "id": "efacfe8d",
   "metadata": {
    "ExecuteTime": {
     "end_time": "2022-11-02T05:37:34.605811Z",
     "start_time": "2022-11-02T05:37:34.602983Z"
    }
   },
   "outputs": [],
   "source": [
    "logisticSearchBuilder = ModelGridBuilder('Logistic Lasso', parameters=[0, .25, .5, 1, 1.5, 2])\n",
    "svcSearchBuilder = ModelGridBuilder('SVC', parameters=[0, .25, .5, 1, 1.5, 2])\n",
    "ldaSearchBuilder = ModelGridBuilder('LDA')"
   ]
  },
  {
   "cell_type": "markdown",
   "id": "2c6a563d",
   "metadata": {},
   "source": [
    "**Save all models created into a single list**"
   ]
  },
  {
   "cell_type": "code",
   "execution_count": 39,
   "id": "291c6d80",
   "metadata": {
    "ExecuteTime": {
     "end_time": "2022-11-02T05:37:35.495315Z",
     "start_time": "2022-11-02T05:37:35.492624Z"
    }
   },
   "outputs": [],
   "source": [
    "models = logisticSearchBuilder.get_models() + svcSearchBuilder.get_models() + ldaSearchBuilder.get_models()"
   ]
  },
  {
   "cell_type": "markdown",
   "id": "2e17ceee",
   "metadata": {},
   "source": [
    "## Use the 'AnalysisPipeline' class to create a grid search over the provided models\n",
    "**Provide AnalysisPipeline with the unprocessed X and Y data, models, and a scoring function to be used on the dev/test sets**\n",
    "\n",
    "Run '.process_data()' to process the data via the input split type (see notes on the Processor object above)\n",
    "\n",
    "Run '.fit_models()' to fit every model provided on the processed data (can pass in gradient descent variables as above)"
   ]
  },
  {
   "cell_type": "code",
   "execution_count": 42,
   "id": "b0f9ed22",
   "metadata": {
    "ExecuteTime": {
     "end_time": "2022-11-02T05:39:48.683257Z",
     "start_time": "2022-11-02T05:39:48.681543Z"
    }
   },
   "outputs": [],
   "source": [
    "modelAnalysis = AnalysisPipeline(credit_X, credit_Y, models, roc_auc)\n",
    "modelAnalysis.process_data(split_type='stratified_class', train_prop=.8, dev_prop=.1)\n",
    "modelAnalysis.fit_models(max_iterations=1000, etas=[.001])"
   ]
  },
  {
   "cell_type": "markdown",
   "id": "9e08ed32",
   "metadata": {},
   "source": [
    "**Run predictions on the dev set for every model and determine which one is best via '.test_models()'**\n",
    "\n",
    "**Output all of the computed scores for each model via '.dev_set_analysis'**"
   ]
  },
  {
   "cell_type": "code",
   "execution_count": null,
   "id": "1e12d9e6",
   "metadata": {},
   "outputs": [],
   "source": [
    "best_model_specs, conf_mat = modelAnalysis.test_models()\n",
    "display(conf_mat)\n",
    "best_model_specs, modelAnalysis.dev_set_analysis"
   ]
  },
  {
   "cell_type": "markdown",
   "id": "8bd6c43c",
   "metadata": {},
   "source": [
    "**Change the scoring function and retest the models**"
   ]
  },
  {
   "cell_type": "code",
   "execution_count": null,
   "id": "2351fcd2",
   "metadata": {},
   "outputs": [],
   "source": [
    "modelAnalysis.score_func = lambda p, Y: fmeasure(p, Y, B=10)\n",
    "\n",
    "best_model_specs, conf_mat = modelAnalysis.test_models()\n",
    "display(conf_mat)\n",
    "best_model_specs, modelAnalysis.dev_set_analysis"
   ]
  },
  {
   "cell_type": "markdown",
   "id": "dddf0728",
   "metadata": {},
   "source": [
    "**Get the test set scores for the best model**"
   ]
  },
  {
   "cell_type": "code",
   "execution_count": null,
   "id": "d197fd39",
   "metadata": {},
   "outputs": [],
   "source": [
    "modelAnalysis.testscore_best_model()"
   ]
  }
 ],
 "metadata": {
  "kernelspec": {
   "display_name": "Python 3",
   "language": "python",
   "name": "python3"
  },
  "language_info": {
   "codemirror_mode": {
    "name": "ipython",
    "version": 3
   },
   "file_extension": ".py",
   "mimetype": "text/x-python",
   "name": "python",
   "nbconvert_exporter": "python",
   "pygments_lexer": "ipython3",
   "version": "3.8.8"
  }
 },
 "nbformat": 4,
 "nbformat_minor": 5
}
